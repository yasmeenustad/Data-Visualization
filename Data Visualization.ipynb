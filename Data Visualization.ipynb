{
 "cells": [
  {
   "cell_type": "markdown",
   "id": "7815fe2a",
   "metadata": {},
   "source": [
    "# 1. Importing the Libraries"
   ]
  },
  {
   "cell_type": "code",
   "execution_count": 1,
   "id": "32876be8",
   "metadata": {},
   "outputs": [],
   "source": [
    "import pandas as pd\n",
    "import numpy as np\n",
    "import seaborn as sns\n",
    "import matplotlib.pyplot as plt"
   ]
  },
  {
   "cell_type": "markdown",
   "id": "5a7b38ed",
   "metadata": {},
   "source": [
    "# 2. Upload Data"
   ]
  },
  {
   "cell_type": "code",
   "execution_count": 2,
   "id": "e0209f2f",
   "metadata": {},
   "outputs": [],
   "source": [
    "df = pd.read_csv(r\"E:\\Yashu\\Yasmeen\\Yashu Files\\Machine Learning 1\\Optional ass datasets\\ass 3 CompData-1 (1).xlsx - Sheet1.csv\")"
   ]
  },
  {
   "cell_type": "markdown",
   "id": "fbed230c",
   "metadata": {},
   "source": [
    "# 3. Data Exploration"
   ]
  },
  {
   "cell_type": "code",
   "execution_count": 4,
   "id": "3ff3a8e9",
   "metadata": {},
   "outputs": [
    {
     "data": {
      "text/html": [
       "<div>\n",
       "<style scoped>\n",
       "    .dataframe tbody tr th:only-of-type {\n",
       "        vertical-align: middle;\n",
       "    }\n",
       "\n",
       "    .dataframe tbody tr th {\n",
       "        vertical-align: top;\n",
       "    }\n",
       "\n",
       "    .dataframe thead th {\n",
       "        text-align: right;\n",
       "    }\n",
       "</style>\n",
       "<table border=\"1\" class=\"dataframe\">\n",
       "  <thead>\n",
       "    <tr style=\"text-align: right;\">\n",
       "      <th></th>\n",
       "      <th>Co_Code</th>\n",
       "      <th>Co_Name</th>\n",
       "      <th>_Operating_Expense_Rate</th>\n",
       "      <th>_Research_and_development_expense_rate</th>\n",
       "      <th>_Cash_flow_rate</th>\n",
       "      <th>_Interest_bearing_debt_interest_rate</th>\n",
       "      <th>_Tax_rate_A</th>\n",
       "      <th>_Cash_Flow_Per_Share</th>\n",
       "      <th>_Per_Share_Net_profit_before_tax_Yuan_</th>\n",
       "      <th>_Realized_Sales_Gross_Profit_Growth_Rate</th>\n",
       "      <th>_Operating_Profit_Growth_Rate</th>\n",
       "      <th>_Continuous_Net_Profit_Growth_Rate</th>\n",
       "      <th>_Total_Asset_Growth_Rate</th>\n",
       "      <th>_Net_Value_Growth_Rate</th>\n",
       "      <th>_Total_Asset_Return_Growth_Rate_Ratio</th>\n",
       "      <th>_Cash_Reinvestment_perc</th>\n",
       "      <th>_Current_Ratio</th>\n",
       "      <th>_Quick_Ratio</th>\n",
       "      <th>_Interest_Expense_Ratio</th>\n",
       "      <th>_Total_debt_to_Total_net_worth</th>\n",
       "      <th>_Long_term_fund_suitability_ratio_A</th>\n",
       "      <th>_Net_profit_before_tax_to_Paid_in_capital</th>\n",
       "      <th>_Total_Asset_Turnover</th>\n",
       "      <th>_Accounts_Receivable_Turnover</th>\n",
       "      <th>_Average_Collection_Days</th>\n",
       "      <th>_Inventory_Turnover_Rate_times</th>\n",
       "      <th>_Fixed_Assets_Turnover_Frequency</th>\n",
       "      <th>_Net_Worth_Turnover_Rate_times</th>\n",
       "      <th>_Operating_profit_per_person</th>\n",
       "      <th>_Allocation_rate_per_person</th>\n",
       "      <th>_Quick_Assets_to_Total_Assets</th>\n",
       "      <th>_Cash_to_Total_Assets</th>\n",
       "      <th>_Quick_Assets_to_Current_Liability</th>\n",
       "      <th>_Cash_to_Current_Liability</th>\n",
       "      <th>_Operating_Funds_to_Liability</th>\n",
       "      <th>_Inventory_to_Working_Capital</th>\n",
       "      <th>_Inventory_to_Current_Liability</th>\n",
       "      <th>_Long_term_Liability_to_Current_Assets</th>\n",
       "      <th>_Retained_Earnings_to_Total_Assets</th>\n",
       "      <th>_Total_income_to_Total_expense</th>\n",
       "      <th>_Total_expense_to_Assets</th>\n",
       "      <th>_Current_Asset_Turnover_Rate</th>\n",
       "      <th>_Quick_Asset_Turnover_Rate</th>\n",
       "      <th>_Cash_Turnover_Rate</th>\n",
       "      <th>_Fixed_Assets_to_Assets</th>\n",
       "      <th>_Cash_Flow_to_Total_Assets</th>\n",
       "      <th>_Cash_Flow_to_Liability</th>\n",
       "      <th>_CFO_to_Assets</th>\n",
       "      <th>_Cash_Flow_to_Equity</th>\n",
       "      <th>_Current_Liability_to_Current_Assets</th>\n",
       "      <th>_Liability_Assets_Flag</th>\n",
       "      <th>_Total_assets_to_GNP_price</th>\n",
       "      <th>_No_credit_Interval</th>\n",
       "      <th>_Degree_of_Financial_Leverage_DFL</th>\n",
       "      <th>_Interest_Coverage_Ratio_Interest_expense_to_EBIT</th>\n",
       "      <th>_Net_Income_Flag</th>\n",
       "      <th>_Equity_to_Liability</th>\n",
       "      <th>Default</th>\n",
       "    </tr>\n",
       "  </thead>\n",
       "  <tbody>\n",
       "    <tr>\n",
       "      <th>0</th>\n",
       "      <td>16974</td>\n",
       "      <td>Hind.Cables</td>\n",
       "      <td>8.820000e+09</td>\n",
       "      <td>0.000000e+00</td>\n",
       "      <td>0.462045</td>\n",
       "      <td>0.000352</td>\n",
       "      <td>0.001417</td>\n",
       "      <td>0.322558</td>\n",
       "      <td>0.194472</td>\n",
       "      <td>0.022074</td>\n",
       "      <td>0.848021</td>\n",
       "      <td>0.217590</td>\n",
       "      <td>7.500000e+09</td>\n",
       "      <td>0.000441</td>\n",
       "      <td>0.263902</td>\n",
       "      <td>0.369137</td>\n",
       "      <td>0.008324</td>\n",
       "      <td>0.000255</td>\n",
       "      <td>0.631513</td>\n",
       "      <td>0.026006</td>\n",
       "      <td>0.005767</td>\n",
       "      <td>0.192859</td>\n",
       "      <td>0.053973</td>\n",
       "      <td>0.014004</td>\n",
       "      <td>0.000452</td>\n",
       "      <td>7.070000e+08</td>\n",
       "      <td>3.048690e-04</td>\n",
       "      <td>0.029839</td>\n",
       "      <td>0.611689</td>\n",
       "      <td>0.139494</td>\n",
       "      <td>0.176438</td>\n",
       "      <td>0.025626</td>\n",
       "      <td>0.001509</td>\n",
       "      <td>0.000676</td>\n",
       "      <td>0.342391</td>\n",
       "      <td>0.278434</td>\n",
       "      <td>0.017945</td>\n",
       "      <td>0.003064</td>\n",
       "      <td>0.937630</td>\n",
       "      <td>0.002687</td>\n",
       "      <td>0.007059</td>\n",
       "      <td>0.000732</td>\n",
       "      <td>1.420410e-04</td>\n",
       "      <td>5.470000e+09</td>\n",
       "      <td>0.094270</td>\n",
       "      <td>0.632666</td>\n",
       "      <td>0.458073</td>\n",
       "      <td>0.576869</td>\n",
       "      <td>0.310901</td>\n",
       "      <td>0.034913</td>\n",
       "      <td>0</td>\n",
       "      <td>0.028801</td>\n",
       "      <td>0.620927</td>\n",
       "      <td>0.026930</td>\n",
       "      <td>0.565744</td>\n",
       "      <td>1</td>\n",
       "      <td>0.015338</td>\n",
       "      <td>0</td>\n",
       "    </tr>\n",
       "    <tr>\n",
       "      <th>1</th>\n",
       "      <td>21214</td>\n",
       "      <td>Tata Tele. Mah.</td>\n",
       "      <td>9.380000e+09</td>\n",
       "      <td>4.230000e+09</td>\n",
       "      <td>0.460116</td>\n",
       "      <td>0.000716</td>\n",
       "      <td>0.000000</td>\n",
       "      <td>0.315520</td>\n",
       "      <td>0.161633</td>\n",
       "      <td>0.021902</td>\n",
       "      <td>0.839645</td>\n",
       "      <td>0.217360</td>\n",
       "      <td>6.750000e+09</td>\n",
       "      <td>0.000403</td>\n",
       "      <td>0.263714</td>\n",
       "      <td>0.372676</td>\n",
       "      <td>0.006939</td>\n",
       "      <td>0.004787</td>\n",
       "      <td>0.628055</td>\n",
       "      <td>0.006812</td>\n",
       "      <td>0.005230</td>\n",
       "      <td>0.160682</td>\n",
       "      <td>0.056972</td>\n",
       "      <td>0.000306</td>\n",
       "      <td>0.020645</td>\n",
       "      <td>2.782020e-04</td>\n",
       "      <td>8.850000e+09</td>\n",
       "      <td>0.018387</td>\n",
       "      <td>0.386626</td>\n",
       "      <td>0.022805</td>\n",
       "      <td>0.402040</td>\n",
       "      <td>0.004529</td>\n",
       "      <td>0.006584</td>\n",
       "      <td>0.000216</td>\n",
       "      <td>0.337476</td>\n",
       "      <td>0.277221</td>\n",
       "      <td>0.001271</td>\n",
       "      <td>0.004813</td>\n",
       "      <td>0.926251</td>\n",
       "      <td>0.002044</td>\n",
       "      <td>0.015441</td>\n",
       "      <td>0.000301</td>\n",
       "      <td>2.985590e-04</td>\n",
       "      <td>8.820000e+08</td>\n",
       "      <td>0.351895</td>\n",
       "      <td>0.642967</td>\n",
       "      <td>0.459282</td>\n",
       "      <td>0.551523</td>\n",
       "      <td>0.314572</td>\n",
       "      <td>0.041653</td>\n",
       "      <td>0</td>\n",
       "      <td>0.006191</td>\n",
       "      <td>0.622513</td>\n",
       "      <td>0.026297</td>\n",
       "      <td>0.560741</td>\n",
       "      <td>1</td>\n",
       "      <td>0.029445</td>\n",
       "      <td>1</td>\n",
       "    </tr>\n",
       "    <tr>\n",
       "      <th>2</th>\n",
       "      <td>14852</td>\n",
       "      <td>ABG Shipyard</td>\n",
       "      <td>3.800000e+09</td>\n",
       "      <td>8.150000e+08</td>\n",
       "      <td>0.449893</td>\n",
       "      <td>0.000496</td>\n",
       "      <td>0.000000</td>\n",
       "      <td>0.299851</td>\n",
       "      <td>0.172554</td>\n",
       "      <td>0.022186</td>\n",
       "      <td>0.848196</td>\n",
       "      <td>0.217573</td>\n",
       "      <td>9.680000e+09</td>\n",
       "      <td>0.000452</td>\n",
       "      <td>0.264095</td>\n",
       "      <td>0.348860</td>\n",
       "      <td>0.008669</td>\n",
       "      <td>0.005912</td>\n",
       "      <td>0.631688</td>\n",
       "      <td>0.004105</td>\n",
       "      <td>0.005139</td>\n",
       "      <td>0.171548</td>\n",
       "      <td>0.154423</td>\n",
       "      <td>0.001045</td>\n",
       "      <td>0.006048</td>\n",
       "      <td>1.698640e-04</td>\n",
       "      <td>1.490300e-04</td>\n",
       "      <td>0.029839</td>\n",
       "      <td>0.393263</td>\n",
       "      <td>0.012358</td>\n",
       "      <td>0.318921</td>\n",
       "      <td>0.008242</td>\n",
       "      <td>0.006090</td>\n",
       "      <td>0.000458</td>\n",
       "      <td>0.306993</td>\n",
       "      <td>0.277473</td>\n",
       "      <td>0.007012</td>\n",
       "      <td>0.000000</td>\n",
       "      <td>0.933155</td>\n",
       "      <td>0.002324</td>\n",
       "      <td>0.009771</td>\n",
       "      <td>0.000127</td>\n",
       "      <td>9.410000e+08</td>\n",
       "      <td>6.790000e+08</td>\n",
       "      <td>0.463276</td>\n",
       "      <td>0.644486</td>\n",
       "      <td>0.459700</td>\n",
       "      <td>0.463045</td>\n",
       "      <td>0.314777</td>\n",
       "      <td>0.033560</td>\n",
       "      <td>0</td>\n",
       "      <td>0.001095</td>\n",
       "      <td>0.623749</td>\n",
       "      <td>0.027276</td>\n",
       "      <td>0.566744</td>\n",
       "      <td>1</td>\n",
       "      <td>0.041718</td>\n",
       "      <td>0</td>\n",
       "    </tr>\n",
       "    <tr>\n",
       "      <th>3</th>\n",
       "      <td>2439</td>\n",
       "      <td>GTL</td>\n",
       "      <td>6.440000e+09</td>\n",
       "      <td>0.000000e+00</td>\n",
       "      <td>0.462731</td>\n",
       "      <td>0.000592</td>\n",
       "      <td>0.009313</td>\n",
       "      <td>0.319834</td>\n",
       "      <td>0.174738</td>\n",
       "      <td>0.027638</td>\n",
       "      <td>0.848391</td>\n",
       "      <td>0.217662</td>\n",
       "      <td>7.520000e+09</td>\n",
       "      <td>0.000448</td>\n",
       "      <td>0.264766</td>\n",
       "      <td>0.379876</td>\n",
       "      <td>0.017750</td>\n",
       "      <td>0.001738</td>\n",
       "      <td>0.632588</td>\n",
       "      <td>0.007846</td>\n",
       "      <td>0.011960</td>\n",
       "      <td>0.172159</td>\n",
       "      <td>0.101949</td>\n",
       "      <td>0.005411</td>\n",
       "      <td>0.001169</td>\n",
       "      <td>1.340000e+09</td>\n",
       "      <td>1.826942e-03</td>\n",
       "      <td>0.028387</td>\n",
       "      <td>0.439780</td>\n",
       "      <td>0.009049</td>\n",
       "      <td>0.137092</td>\n",
       "      <td>0.053510</td>\n",
       "      <td>0.002437</td>\n",
       "      <td>0.002793</td>\n",
       "      <td>0.343500</td>\n",
       "      <td>0.277630</td>\n",
       "      <td>0.039872</td>\n",
       "      <td>0.004472</td>\n",
       "      <td>0.928037</td>\n",
       "      <td>0.002334</td>\n",
       "      <td>0.013607</td>\n",
       "      <td>0.000401</td>\n",
       "      <td>5.310000e+09</td>\n",
       "      <td>6.020000e+09</td>\n",
       "      <td>0.026433</td>\n",
       "      <td>0.656832</td>\n",
       "      <td>0.461860</td>\n",
       "      <td>0.577212</td>\n",
       "      <td>0.316974</td>\n",
       "      <td>0.016527</td>\n",
       "      <td>0</td>\n",
       "      <td>0.003749</td>\n",
       "      <td>0.622963</td>\n",
       "      <td>0.026988</td>\n",
       "      <td>0.565950</td>\n",
       "      <td>1</td>\n",
       "      <td>0.026956</td>\n",
       "      <td>0</td>\n",
       "    </tr>\n",
       "    <tr>\n",
       "      <th>4</th>\n",
       "      <td>23505</td>\n",
       "      <td>Bharati Defence</td>\n",
       "      <td>3.680000e+09</td>\n",
       "      <td>0.000000e+00</td>\n",
       "      <td>0.463117</td>\n",
       "      <td>0.000782</td>\n",
       "      <td>0.400243</td>\n",
       "      <td>0.325104</td>\n",
       "      <td>0.176546</td>\n",
       "      <td>0.022072</td>\n",
       "      <td>0.847987</td>\n",
       "      <td>0.217589</td>\n",
       "      <td>7.120000e+09</td>\n",
       "      <td>0.000454</td>\n",
       "      <td>0.263966</td>\n",
       "      <td>0.389609</td>\n",
       "      <td>0.008427</td>\n",
       "      <td>0.003967</td>\n",
       "      <td>0.632682</td>\n",
       "      <td>0.013671</td>\n",
       "      <td>0.005822</td>\n",
       "      <td>0.175598</td>\n",
       "      <td>0.163418</td>\n",
       "      <td>0.000814</td>\n",
       "      <td>0.007776</td>\n",
       "      <td>1.341330e-04</td>\n",
       "      <td>8.298780e-04</td>\n",
       "      <td>0.052258</td>\n",
       "      <td>0.392766</td>\n",
       "      <td>0.002069</td>\n",
       "      <td>0.739193</td>\n",
       "      <td>0.082328</td>\n",
       "      <td>0.007271</td>\n",
       "      <td>0.002376</td>\n",
       "      <td>0.345796</td>\n",
       "      <td>0.277235</td>\n",
       "      <td>0.003342</td>\n",
       "      <td>0.000000</td>\n",
       "      <td>0.934421</td>\n",
       "      <td>0.002310</td>\n",
       "      <td>0.010493</td>\n",
       "      <td>0.000208</td>\n",
       "      <td>1.892020e-04</td>\n",
       "      <td>5.670000e+09</td>\n",
       "      <td>0.103303</td>\n",
       "      <td>0.656549</td>\n",
       "      <td>0.461238</td>\n",
       "      <td>0.594038</td>\n",
       "      <td>0.317729</td>\n",
       "      <td>0.034497</td>\n",
       "      <td>0</td>\n",
       "      <td>0.006595</td>\n",
       "      <td>0.624419</td>\n",
       "      <td>0.027498</td>\n",
       "      <td>0.567177</td>\n",
       "      <td>1</td>\n",
       "      <td>0.019900</td>\n",
       "      <td>0</td>\n",
       "    </tr>\n",
       "  </tbody>\n",
       "</table>\n",
       "</div>"
      ],
      "text/plain": [
       "   Co_Code          Co_Name  _Operating_Expense_Rate  \\\n",
       "0    16974      Hind.Cables             8.820000e+09   \n",
       "1    21214  Tata Tele. Mah.             9.380000e+09   \n",
       "2    14852     ABG Shipyard             3.800000e+09   \n",
       "3     2439              GTL             6.440000e+09   \n",
       "4    23505  Bharati Defence             3.680000e+09   \n",
       "\n",
       "   _Research_and_development_expense_rate  _Cash_flow_rate  \\\n",
       "0                            0.000000e+00         0.462045   \n",
       "1                            4.230000e+09         0.460116   \n",
       "2                            8.150000e+08         0.449893   \n",
       "3                            0.000000e+00         0.462731   \n",
       "4                            0.000000e+00         0.463117   \n",
       "\n",
       "   _Interest_bearing_debt_interest_rate  _Tax_rate_A  _Cash_Flow_Per_Share  \\\n",
       "0                              0.000352     0.001417              0.322558   \n",
       "1                              0.000716     0.000000              0.315520   \n",
       "2                              0.000496     0.000000              0.299851   \n",
       "3                              0.000592     0.009313              0.319834   \n",
       "4                              0.000782     0.400243              0.325104   \n",
       "\n",
       "   _Per_Share_Net_profit_before_tax_Yuan_  \\\n",
       "0                                0.194472   \n",
       "1                                0.161633   \n",
       "2                                0.172554   \n",
       "3                                0.174738   \n",
       "4                                0.176546   \n",
       "\n",
       "   _Realized_Sales_Gross_Profit_Growth_Rate  _Operating_Profit_Growth_Rate  \\\n",
       "0                                  0.022074                       0.848021   \n",
       "1                                  0.021902                       0.839645   \n",
       "2                                  0.022186                       0.848196   \n",
       "3                                  0.027638                       0.848391   \n",
       "4                                  0.022072                       0.847987   \n",
       "\n",
       "   _Continuous_Net_Profit_Growth_Rate  _Total_Asset_Growth_Rate  \\\n",
       "0                            0.217590              7.500000e+09   \n",
       "1                            0.217360              6.750000e+09   \n",
       "2                            0.217573              9.680000e+09   \n",
       "3                            0.217662              7.520000e+09   \n",
       "4                            0.217589              7.120000e+09   \n",
       "\n",
       "   _Net_Value_Growth_Rate  _Total_Asset_Return_Growth_Rate_Ratio  \\\n",
       "0                0.000441                               0.263902   \n",
       "1                0.000403                               0.263714   \n",
       "2                0.000452                               0.264095   \n",
       "3                0.000448                               0.264766   \n",
       "4                0.000454                               0.263966   \n",
       "\n",
       "   _Cash_Reinvestment_perc  _Current_Ratio  _Quick_Ratio  \\\n",
       "0                 0.369137        0.008324      0.000255   \n",
       "1                 0.372676        0.006939      0.004787   \n",
       "2                 0.348860        0.008669      0.005912   \n",
       "3                 0.379876        0.017750      0.001738   \n",
       "4                 0.389609        0.008427      0.003967   \n",
       "\n",
       "   _Interest_Expense_Ratio  _Total_debt_to_Total_net_worth  \\\n",
       "0                 0.631513                        0.026006   \n",
       "1                 0.628055                        0.006812   \n",
       "2                 0.631688                        0.004105   \n",
       "3                 0.632588                        0.007846   \n",
       "4                 0.632682                        0.013671   \n",
       "\n",
       "   _Long_term_fund_suitability_ratio_A  \\\n",
       "0                             0.005767   \n",
       "1                             0.005230   \n",
       "2                             0.005139   \n",
       "3                             0.011960   \n",
       "4                             0.005822   \n",
       "\n",
       "   _Net_profit_before_tax_to_Paid_in_capital  _Total_Asset_Turnover  \\\n",
       "0                                   0.192859               0.053973   \n",
       "1                                   0.160682               0.056972   \n",
       "2                                   0.171548               0.154423   \n",
       "3                                   0.172159               0.101949   \n",
       "4                                   0.175598               0.163418   \n",
       "\n",
       "   _Accounts_Receivable_Turnover  _Average_Collection_Days  \\\n",
       "0                       0.014004                  0.000452   \n",
       "1                       0.000306                  0.020645   \n",
       "2                       0.001045                  0.006048   \n",
       "3                       0.005411                  0.001169   \n",
       "4                       0.000814                  0.007776   \n",
       "\n",
       "   _Inventory_Turnover_Rate_times  _Fixed_Assets_Turnover_Frequency  \\\n",
       "0                    7.070000e+08                      3.048690e-04   \n",
       "1                    2.782020e-04                      8.850000e+09   \n",
       "2                    1.698640e-04                      1.490300e-04   \n",
       "3                    1.340000e+09                      1.826942e-03   \n",
       "4                    1.341330e-04                      8.298780e-04   \n",
       "\n",
       "   _Net_Worth_Turnover_Rate_times  _Operating_profit_per_person  \\\n",
       "0                        0.029839                      0.611689   \n",
       "1                        0.018387                      0.386626   \n",
       "2                        0.029839                      0.393263   \n",
       "3                        0.028387                      0.439780   \n",
       "4                        0.052258                      0.392766   \n",
       "\n",
       "   _Allocation_rate_per_person  _Quick_Assets_to_Total_Assets  \\\n",
       "0                     0.139494                       0.176438   \n",
       "1                     0.022805                       0.402040   \n",
       "2                     0.012358                       0.318921   \n",
       "3                     0.009049                       0.137092   \n",
       "4                     0.002069                       0.739193   \n",
       "\n",
       "   _Cash_to_Total_Assets  _Quick_Assets_to_Current_Liability  \\\n",
       "0               0.025626                            0.001509   \n",
       "1               0.004529                            0.006584   \n",
       "2               0.008242                            0.006090   \n",
       "3               0.053510                            0.002437   \n",
       "4               0.082328                            0.007271   \n",
       "\n",
       "   _Cash_to_Current_Liability  _Operating_Funds_to_Liability  \\\n",
       "0                    0.000676                       0.342391   \n",
       "1                    0.000216                       0.337476   \n",
       "2                    0.000458                       0.306993   \n",
       "3                    0.002793                       0.343500   \n",
       "4                    0.002376                       0.345796   \n",
       "\n",
       "   _Inventory_to_Working_Capital  _Inventory_to_Current_Liability  \\\n",
       "0                       0.278434                         0.017945   \n",
       "1                       0.277221                         0.001271   \n",
       "2                       0.277473                         0.007012   \n",
       "3                       0.277630                         0.039872   \n",
       "4                       0.277235                         0.003342   \n",
       "\n",
       "   _Long_term_Liability_to_Current_Assets  _Retained_Earnings_to_Total_Assets  \\\n",
       "0                                0.003064                            0.937630   \n",
       "1                                0.004813                            0.926251   \n",
       "2                                0.000000                            0.933155   \n",
       "3                                0.004472                            0.928037   \n",
       "4                                0.000000                            0.934421   \n",
       "\n",
       "   _Total_income_to_Total_expense  _Total_expense_to_Assets  \\\n",
       "0                        0.002687                  0.007059   \n",
       "1                        0.002044                  0.015441   \n",
       "2                        0.002324                  0.009771   \n",
       "3                        0.002334                  0.013607   \n",
       "4                        0.002310                  0.010493   \n",
       "\n",
       "   _Current_Asset_Turnover_Rate  _Quick_Asset_Turnover_Rate  \\\n",
       "0                      0.000732                1.420410e-04   \n",
       "1                      0.000301                2.985590e-04   \n",
       "2                      0.000127                9.410000e+08   \n",
       "3                      0.000401                5.310000e+09   \n",
       "4                      0.000208                1.892020e-04   \n",
       "\n",
       "   _Cash_Turnover_Rate  _Fixed_Assets_to_Assets  _Cash_Flow_to_Total_Assets  \\\n",
       "0         5.470000e+09                 0.094270                    0.632666   \n",
       "1         8.820000e+08                 0.351895                    0.642967   \n",
       "2         6.790000e+08                 0.463276                    0.644486   \n",
       "3         6.020000e+09                 0.026433                    0.656832   \n",
       "4         5.670000e+09                 0.103303                    0.656549   \n",
       "\n",
       "   _Cash_Flow_to_Liability  _CFO_to_Assets  _Cash_Flow_to_Equity  \\\n",
       "0                 0.458073        0.576869              0.310901   \n",
       "1                 0.459282        0.551523              0.314572   \n",
       "2                 0.459700        0.463045              0.314777   \n",
       "3                 0.461860        0.577212              0.316974   \n",
       "4                 0.461238        0.594038              0.317729   \n",
       "\n",
       "   _Current_Liability_to_Current_Assets  _Liability_Assets_Flag  \\\n",
       "0                              0.034913                       0   \n",
       "1                              0.041653                       0   \n",
       "2                              0.033560                       0   \n",
       "3                              0.016527                       0   \n",
       "4                              0.034497                       0   \n",
       "\n",
       "   _Total_assets_to_GNP_price  _No_credit_Interval  \\\n",
       "0                    0.028801             0.620927   \n",
       "1                    0.006191             0.622513   \n",
       "2                    0.001095             0.623749   \n",
       "3                    0.003749             0.622963   \n",
       "4                    0.006595             0.624419   \n",
       "\n",
       "   _Degree_of_Financial_Leverage_DFL  \\\n",
       "0                           0.026930   \n",
       "1                           0.026297   \n",
       "2                           0.027276   \n",
       "3                           0.026988   \n",
       "4                           0.027498   \n",
       "\n",
       "   _Interest_Coverage_Ratio_Interest_expense_to_EBIT  _Net_Income_Flag  \\\n",
       "0                                           0.565744                 1   \n",
       "1                                           0.560741                 1   \n",
       "2                                           0.566744                 1   \n",
       "3                                           0.565950                 1   \n",
       "4                                           0.567177                 1   \n",
       "\n",
       "   _Equity_to_Liability  Default  \n",
       "0              0.015338        0  \n",
       "1              0.029445        1  \n",
       "2              0.041718        0  \n",
       "3              0.026956        0  \n",
       "4              0.019900        0  "
      ]
     },
     "execution_count": 4,
     "metadata": {},
     "output_type": "execute_result"
    }
   ],
   "source": [
    "pd.set_option('display.max_columns',None)\n",
    "df.head()"
   ]
  },
  {
   "cell_type": "code",
   "execution_count": 5,
   "id": "e51ce052",
   "metadata": {},
   "outputs": [
    {
     "data": {
      "text/plain": [
       "(2058, 58)"
      ]
     },
     "execution_count": 5,
     "metadata": {},
     "output_type": "execute_result"
    }
   ],
   "source": [
    "df.shape"
   ]
  },
  {
   "cell_type": "markdown",
   "id": "b712cece",
   "metadata": {},
   "source": [
    "### Statistical Summary of data:"
   ]
  },
  {
   "cell_type": "code",
   "execution_count": 3,
   "id": "127aaab5",
   "metadata": {},
   "outputs": [
    {
     "data": {
      "text/html": [
       "<div>\n",
       "<style scoped>\n",
       "    .dataframe tbody tr th:only-of-type {\n",
       "        vertical-align: middle;\n",
       "    }\n",
       "\n",
       "    .dataframe tbody tr th {\n",
       "        vertical-align: top;\n",
       "    }\n",
       "\n",
       "    .dataframe thead th {\n",
       "        text-align: right;\n",
       "    }\n",
       "</style>\n",
       "<table border=\"1\" class=\"dataframe\">\n",
       "  <thead>\n",
       "    <tr style=\"text-align: right;\">\n",
       "      <th></th>\n",
       "      <th>Co_Code</th>\n",
       "      <th>_Operating_Expense_Rate</th>\n",
       "      <th>_Research_and_development_expense_rate</th>\n",
       "      <th>_Cash_flow_rate</th>\n",
       "      <th>_Interest_bearing_debt_interest_rate</th>\n",
       "      <th>_Tax_rate_A</th>\n",
       "      <th>_Cash_Flow_Per_Share</th>\n",
       "      <th>_Per_Share_Net_profit_before_tax_Yuan_</th>\n",
       "      <th>_Realized_Sales_Gross_Profit_Growth_Rate</th>\n",
       "      <th>_Operating_Profit_Growth_Rate</th>\n",
       "      <th>...</th>\n",
       "      <th>_Cash_Flow_to_Equity</th>\n",
       "      <th>_Current_Liability_to_Current_Assets</th>\n",
       "      <th>_Liability_Assets_Flag</th>\n",
       "      <th>_Total_assets_to_GNP_price</th>\n",
       "      <th>_No_credit_Interval</th>\n",
       "      <th>_Degree_of_Financial_Leverage_DFL</th>\n",
       "      <th>_Interest_Coverage_Ratio_Interest_expense_to_EBIT</th>\n",
       "      <th>_Net_Income_Flag</th>\n",
       "      <th>_Equity_to_Liability</th>\n",
       "      <th>Default</th>\n",
       "    </tr>\n",
       "  </thead>\n",
       "  <tbody>\n",
       "    <tr>\n",
       "      <th>count</th>\n",
       "      <td>2058.000000</td>\n",
       "      <td>2.058000e+03</td>\n",
       "      <td>2.058000e+03</td>\n",
       "      <td>2058.000000</td>\n",
       "      <td>2.058000e+03</td>\n",
       "      <td>2058.000000</td>\n",
       "      <td>1891.000000</td>\n",
       "      <td>2058.000000</td>\n",
       "      <td>2058.000000</td>\n",
       "      <td>2058.000000</td>\n",
       "      <td>...</td>\n",
       "      <td>2058.000000</td>\n",
       "      <td>2044.000000</td>\n",
       "      <td>2058.000000</td>\n",
       "      <td>2.058000e+03</td>\n",
       "      <td>2058.000000</td>\n",
       "      <td>2058.000000</td>\n",
       "      <td>2058.000000</td>\n",
       "      <td>2058.0</td>\n",
       "      <td>2058.000000</td>\n",
       "      <td>2058.000000</td>\n",
       "    </tr>\n",
       "    <tr>\n",
       "      <th>mean</th>\n",
       "      <td>17572.113217</td>\n",
       "      <td>2.052389e+09</td>\n",
       "      <td>1.208634e+09</td>\n",
       "      <td>0.465243</td>\n",
       "      <td>1.113022e+07</td>\n",
       "      <td>0.114777</td>\n",
       "      <td>0.319986</td>\n",
       "      <td>0.176967</td>\n",
       "      <td>0.022761</td>\n",
       "      <td>0.848108</td>\n",
       "      <td>...</td>\n",
       "      <td>0.314629</td>\n",
       "      <td>0.039352</td>\n",
       "      <td>0.003401</td>\n",
       "      <td>2.779397e+07</td>\n",
       "      <td>0.623686</td>\n",
       "      <td>0.027852</td>\n",
       "      <td>0.565435</td>\n",
       "      <td>1.0</td>\n",
       "      <td>0.042529</td>\n",
       "      <td>0.106900</td>\n",
       "    </tr>\n",
       "    <tr>\n",
       "      <th>std</th>\n",
       "      <td>21892.886518</td>\n",
       "      <td>3.252624e+09</td>\n",
       "      <td>2.144568e+09</td>\n",
       "      <td>0.022663</td>\n",
       "      <td>9.042595e+07</td>\n",
       "      <td>0.152446</td>\n",
       "      <td>0.015300</td>\n",
       "      <td>0.030157</td>\n",
       "      <td>0.021701</td>\n",
       "      <td>0.004589</td>\n",
       "      <td>...</td>\n",
       "      <td>0.012780</td>\n",
       "      <td>0.047978</td>\n",
       "      <td>0.058236</td>\n",
       "      <td>4.717714e+08</td>\n",
       "      <td>0.011631</td>\n",
       "      <td>0.013839</td>\n",
       "      <td>0.011535</td>\n",
       "      <td>0.0</td>\n",
       "      <td>0.059525</td>\n",
       "      <td>0.309061</td>\n",
       "    </tr>\n",
       "    <tr>\n",
       "      <th>min</th>\n",
       "      <td>4.000000</td>\n",
       "      <td>1.000260e-04</td>\n",
       "      <td>0.000000e+00</td>\n",
       "      <td>0.000000</td>\n",
       "      <td>0.000000e+00</td>\n",
       "      <td>0.000000</td>\n",
       "      <td>0.169449</td>\n",
       "      <td>0.000000</td>\n",
       "      <td>0.004282</td>\n",
       "      <td>0.736430</td>\n",
       "      <td>...</td>\n",
       "      <td>0.000000</td>\n",
       "      <td>0.000000</td>\n",
       "      <td>0.000000</td>\n",
       "      <td>0.000000e+00</td>\n",
       "      <td>0.408682</td>\n",
       "      <td>0.012845</td>\n",
       "      <td>0.172065</td>\n",
       "      <td>1.0</td>\n",
       "      <td>0.003946</td>\n",
       "      <td>0.000000</td>\n",
       "    </tr>\n",
       "    <tr>\n",
       "      <th>25%</th>\n",
       "      <td>3674.000000</td>\n",
       "      <td>1.578727e-04</td>\n",
       "      <td>0.000000e+00</td>\n",
       "      <td>0.460099</td>\n",
       "      <td>2.760280e-04</td>\n",
       "      <td>0.000000</td>\n",
       "      <td>0.314989</td>\n",
       "      <td>0.166604</td>\n",
       "      <td>0.022058</td>\n",
       "      <td>0.847974</td>\n",
       "      <td>...</td>\n",
       "      <td>0.312783</td>\n",
       "      <td>0.021775</td>\n",
       "      <td>0.000000</td>\n",
       "      <td>9.124052e-04</td>\n",
       "      <td>0.623327</td>\n",
       "      <td>0.026776</td>\n",
       "      <td>0.565158</td>\n",
       "      <td>1.0</td>\n",
       "      <td>0.020408</td>\n",
       "      <td>0.000000</td>\n",
       "    </tr>\n",
       "    <tr>\n",
       "      <th>50%</th>\n",
       "      <td>6240.000000</td>\n",
       "      <td>3.330330e-04</td>\n",
       "      <td>1.994130e-04</td>\n",
       "      <td>0.463445</td>\n",
       "      <td>4.540450e-04</td>\n",
       "      <td>0.037099</td>\n",
       "      <td>0.320648</td>\n",
       "      <td>0.175642</td>\n",
       "      <td>0.022100</td>\n",
       "      <td>0.848039</td>\n",
       "      <td>...</td>\n",
       "      <td>0.314642</td>\n",
       "      <td>0.032652</td>\n",
       "      <td>0.000000</td>\n",
       "      <td>2.479550e-03</td>\n",
       "      <td>0.623750</td>\n",
       "      <td>0.026815</td>\n",
       "      <td>0.565315</td>\n",
       "      <td>1.0</td>\n",
       "      <td>0.028460</td>\n",
       "      <td>0.000000</td>\n",
       "    </tr>\n",
       "    <tr>\n",
       "      <th>75%</th>\n",
       "      <td>24280.750000</td>\n",
       "      <td>4.110000e+09</td>\n",
       "      <td>1.550000e+09</td>\n",
       "      <td>0.468069</td>\n",
       "      <td>6.630660e-04</td>\n",
       "      <td>0.216191</td>\n",
       "      <td>0.325918</td>\n",
       "      <td>0.185885</td>\n",
       "      <td>0.022152</td>\n",
       "      <td>0.848115</td>\n",
       "      <td>...</td>\n",
       "      <td>0.316546</td>\n",
       "      <td>0.043947</td>\n",
       "      <td>0.000000</td>\n",
       "      <td>7.004449e-03</td>\n",
       "      <td>0.624045</td>\n",
       "      <td>0.027029</td>\n",
       "      <td>0.566232</td>\n",
       "      <td>1.0</td>\n",
       "      <td>0.043433</td>\n",
       "      <td>0.000000</td>\n",
       "    </tr>\n",
       "    <tr>\n",
       "      <th>max</th>\n",
       "      <td>72493.000000</td>\n",
       "      <td>9.980000e+09</td>\n",
       "      <td>9.980000e+09</td>\n",
       "      <td>1.000000</td>\n",
       "      <td>9.900000e+08</td>\n",
       "      <td>0.999696</td>\n",
       "      <td>0.462227</td>\n",
       "      <td>0.792348</td>\n",
       "      <td>1.000000</td>\n",
       "      <td>1.000000</td>\n",
       "      <td>...</td>\n",
       "      <td>0.569231</td>\n",
       "      <td>1.000000</td>\n",
       "      <td>1.000000</td>\n",
       "      <td>9.820000e+09</td>\n",
       "      <td>0.956387</td>\n",
       "      <td>0.464388</td>\n",
       "      <td>0.666761</td>\n",
       "      <td>1.0</td>\n",
       "      <td>1.000000</td>\n",
       "      <td>1.000000</td>\n",
       "    </tr>\n",
       "  </tbody>\n",
       "</table>\n",
       "<p>8 rows × 57 columns</p>\n",
       "</div>"
      ],
      "text/plain": [
       "            Co_Code  _Operating_Expense_Rate  \\\n",
       "count   2058.000000             2.058000e+03   \n",
       "mean   17572.113217             2.052389e+09   \n",
       "std    21892.886518             3.252624e+09   \n",
       "min        4.000000             1.000260e-04   \n",
       "25%     3674.000000             1.578727e-04   \n",
       "50%     6240.000000             3.330330e-04   \n",
       "75%    24280.750000             4.110000e+09   \n",
       "max    72493.000000             9.980000e+09   \n",
       "\n",
       "       _Research_and_development_expense_rate  _Cash_flow_rate  \\\n",
       "count                            2.058000e+03      2058.000000   \n",
       "mean                             1.208634e+09         0.465243   \n",
       "std                              2.144568e+09         0.022663   \n",
       "min                              0.000000e+00         0.000000   \n",
       "25%                              0.000000e+00         0.460099   \n",
       "50%                              1.994130e-04         0.463445   \n",
       "75%                              1.550000e+09         0.468069   \n",
       "max                              9.980000e+09         1.000000   \n",
       "\n",
       "       _Interest_bearing_debt_interest_rate  _Tax_rate_A  \\\n",
       "count                          2.058000e+03  2058.000000   \n",
       "mean                           1.113022e+07     0.114777   \n",
       "std                            9.042595e+07     0.152446   \n",
       "min                            0.000000e+00     0.000000   \n",
       "25%                            2.760280e-04     0.000000   \n",
       "50%                            4.540450e-04     0.037099   \n",
       "75%                            6.630660e-04     0.216191   \n",
       "max                            9.900000e+08     0.999696   \n",
       "\n",
       "       _Cash_Flow_Per_Share  _Per_Share_Net_profit_before_tax_Yuan_  \\\n",
       "count           1891.000000                             2058.000000   \n",
       "mean               0.319986                                0.176967   \n",
       "std                0.015300                                0.030157   \n",
       "min                0.169449                                0.000000   \n",
       "25%                0.314989                                0.166604   \n",
       "50%                0.320648                                0.175642   \n",
       "75%                0.325918                                0.185885   \n",
       "max                0.462227                                0.792348   \n",
       "\n",
       "       _Realized_Sales_Gross_Profit_Growth_Rate  \\\n",
       "count                               2058.000000   \n",
       "mean                                   0.022761   \n",
       "std                                    0.021701   \n",
       "min                                    0.004282   \n",
       "25%                                    0.022058   \n",
       "50%                                    0.022100   \n",
       "75%                                    0.022152   \n",
       "max                                    1.000000   \n",
       "\n",
       "       _Operating_Profit_Growth_Rate  ...  _Cash_Flow_to_Equity  \\\n",
       "count                    2058.000000  ...           2058.000000   \n",
       "mean                        0.848108  ...              0.314629   \n",
       "std                         0.004589  ...              0.012780   \n",
       "min                         0.736430  ...              0.000000   \n",
       "25%                         0.847974  ...              0.312783   \n",
       "50%                         0.848039  ...              0.314642   \n",
       "75%                         0.848115  ...              0.316546   \n",
       "max                         1.000000  ...              0.569231   \n",
       "\n",
       "       _Current_Liability_to_Current_Assets  _Liability_Assets_Flag  \\\n",
       "count                           2044.000000             2058.000000   \n",
       "mean                               0.039352                0.003401   \n",
       "std                                0.047978                0.058236   \n",
       "min                                0.000000                0.000000   \n",
       "25%                                0.021775                0.000000   \n",
       "50%                                0.032652                0.000000   \n",
       "75%                                0.043947                0.000000   \n",
       "max                                1.000000                1.000000   \n",
       "\n",
       "       _Total_assets_to_GNP_price  _No_credit_Interval  \\\n",
       "count                2.058000e+03          2058.000000   \n",
       "mean                 2.779397e+07             0.623686   \n",
       "std                  4.717714e+08             0.011631   \n",
       "min                  0.000000e+00             0.408682   \n",
       "25%                  9.124052e-04             0.623327   \n",
       "50%                  2.479550e-03             0.623750   \n",
       "75%                  7.004449e-03             0.624045   \n",
       "max                  9.820000e+09             0.956387   \n",
       "\n",
       "       _Degree_of_Financial_Leverage_DFL  \\\n",
       "count                        2058.000000   \n",
       "mean                            0.027852   \n",
       "std                             0.013839   \n",
       "min                             0.012845   \n",
       "25%                             0.026776   \n",
       "50%                             0.026815   \n",
       "75%                             0.027029   \n",
       "max                             0.464388   \n",
       "\n",
       "       _Interest_Coverage_Ratio_Interest_expense_to_EBIT  _Net_Income_Flag  \\\n",
       "count                                        2058.000000            2058.0   \n",
       "mean                                            0.565435               1.0   \n",
       "std                                             0.011535               0.0   \n",
       "min                                             0.172065               1.0   \n",
       "25%                                             0.565158               1.0   \n",
       "50%                                             0.565315               1.0   \n",
       "75%                                             0.566232               1.0   \n",
       "max                                             0.666761               1.0   \n",
       "\n",
       "       _Equity_to_Liability      Default  \n",
       "count           2058.000000  2058.000000  \n",
       "mean               0.042529     0.106900  \n",
       "std                0.059525     0.309061  \n",
       "min                0.003946     0.000000  \n",
       "25%                0.020408     0.000000  \n",
       "50%                0.028460     0.000000  \n",
       "75%                0.043433     0.000000  \n",
       "max                1.000000     1.000000  \n",
       "\n",
       "[8 rows x 57 columns]"
      ]
     },
     "execution_count": 3,
     "metadata": {},
     "output_type": "execute_result"
    }
   ],
   "source": [
    "df.describe()"
   ]
  },
  {
   "cell_type": "markdown",
   "id": "40ad38fb",
   "metadata": {},
   "source": [
    "### Column names:"
   ]
  },
  {
   "cell_type": "code",
   "execution_count": 4,
   "id": "94425aed",
   "metadata": {},
   "outputs": [
    {
     "data": {
      "text/plain": [
       "Index(['Co_Code', 'Co_Name', '_Operating_Expense_Rate',\n",
       "       '_Research_and_development_expense_rate', '_Cash_flow_rate',\n",
       "       '_Interest_bearing_debt_interest_rate', '_Tax_rate_A',\n",
       "       '_Cash_Flow_Per_Share', '_Per_Share_Net_profit_before_tax_Yuan_',\n",
       "       '_Realized_Sales_Gross_Profit_Growth_Rate',\n",
       "       '_Operating_Profit_Growth_Rate', '_Continuous_Net_Profit_Growth_Rate',\n",
       "       '_Total_Asset_Growth_Rate', '_Net_Value_Growth_Rate',\n",
       "       '_Total_Asset_Return_Growth_Rate_Ratio', '_Cash_Reinvestment_perc',\n",
       "       '_Current_Ratio', '_Quick_Ratio', '_Interest_Expense_Ratio',\n",
       "       '_Total_debt_to_Total_net_worth', '_Long_term_fund_suitability_ratio_A',\n",
       "       '_Net_profit_before_tax_to_Paid_in_capital', '_Total_Asset_Turnover',\n",
       "       '_Accounts_Receivable_Turnover', '_Average_Collection_Days',\n",
       "       '_Inventory_Turnover_Rate_times', '_Fixed_Assets_Turnover_Frequency',\n",
       "       '_Net_Worth_Turnover_Rate_times', '_Operating_profit_per_person',\n",
       "       '_Allocation_rate_per_person', '_Quick_Assets_to_Total_Assets',\n",
       "       '_Cash_to_Total_Assets', '_Quick_Assets_to_Current_Liability',\n",
       "       '_Cash_to_Current_Liability', '_Operating_Funds_to_Liability',\n",
       "       '_Inventory_to_Working_Capital', '_Inventory_to_Current_Liability',\n",
       "       '_Long_term_Liability_to_Current_Assets',\n",
       "       '_Retained_Earnings_to_Total_Assets', '_Total_income_to_Total_expense',\n",
       "       '_Total_expense_to_Assets', '_Current_Asset_Turnover_Rate',\n",
       "       '_Quick_Asset_Turnover_Rate', '_Cash_Turnover_Rate',\n",
       "       '_Fixed_Assets_to_Assets', '_Cash_Flow_to_Total_Assets',\n",
       "       '_Cash_Flow_to_Liability', '_CFO_to_Assets', '_Cash_Flow_to_Equity',\n",
       "       '_Current_Liability_to_Current_Assets', '_Liability_Assets_Flag',\n",
       "       '_Total_assets_to_GNP_price', '_No_credit_Interval',\n",
       "       '_Degree_of_Financial_Leverage_DFL',\n",
       "       '_Interest_Coverage_Ratio_Interest_expense_to_EBIT', '_Net_Income_Flag',\n",
       "       '_Equity_to_Liability', 'Default'],\n",
       "      dtype='object')"
      ]
     },
     "execution_count": 4,
     "metadata": {},
     "output_type": "execute_result"
    }
   ],
   "source": [
    "df.columns"
   ]
  },
  {
   "cell_type": "markdown",
   "id": "ec50e26c",
   "metadata": {},
   "source": [
    "# 4. Data Cleaning"
   ]
  },
  {
   "cell_type": "markdown",
   "id": "79b0f098",
   "metadata": {},
   "source": [
    "###  Chekking Duplicates"
   ]
  },
  {
   "cell_type": "code",
   "execution_count": 8,
   "id": "8985540c",
   "metadata": {},
   "outputs": [
    {
     "data": {
      "text/plain": [
       "0"
      ]
     },
     "execution_count": 8,
     "metadata": {},
     "output_type": "execute_result"
    }
   ],
   "source": [
    "df.duplicated().sum()"
   ]
  },
  {
   "cell_type": "markdown",
   "id": "421df97a",
   "metadata": {},
   "source": [
    "There are no any duplicate records in a dataset."
   ]
  },
  {
   "cell_type": "markdown",
   "id": "d9a60772",
   "metadata": {},
   "source": [
    "### Dealling with Noise and Null values"
   ]
  },
  {
   "cell_type": "markdown",
   "id": "dbcc68c2",
   "metadata": {},
   "source": [
    "#### Noise Values:"
   ]
  },
  {
   "cell_type": "code",
   "execution_count": 7,
   "id": "00558c66",
   "metadata": {
    "scrolled": true
   },
   "outputs": [
    {
     "data": {
      "text/plain": [
       "Co_Code                                                int64\n",
       "Co_Name                                               object\n",
       "_Operating_Expense_Rate                              float64\n",
       "_Research_and_development_expense_rate               float64\n",
       "_Cash_flow_rate                                      float64\n",
       "_Interest_bearing_debt_interest_rate                 float64\n",
       "_Tax_rate_A                                          float64\n",
       "_Cash_Flow_Per_Share                                 float64\n",
       "_Per_Share_Net_profit_before_tax_Yuan_               float64\n",
       "_Realized_Sales_Gross_Profit_Growth_Rate             float64\n",
       "_Operating_Profit_Growth_Rate                        float64\n",
       "_Continuous_Net_Profit_Growth_Rate                   float64\n",
       "_Total_Asset_Growth_Rate                             float64\n",
       "_Net_Value_Growth_Rate                               float64\n",
       "_Total_Asset_Return_Growth_Rate_Ratio                float64\n",
       "_Cash_Reinvestment_perc                              float64\n",
       "_Current_Ratio                                       float64\n",
       "_Quick_Ratio                                         float64\n",
       "_Interest_Expense_Ratio                              float64\n",
       "_Total_debt_to_Total_net_worth                       float64\n",
       "_Long_term_fund_suitability_ratio_A                  float64\n",
       "_Net_profit_before_tax_to_Paid_in_capital            float64\n",
       "_Total_Asset_Turnover                                float64\n",
       "_Accounts_Receivable_Turnover                        float64\n",
       "_Average_Collection_Days                             float64\n",
       "_Inventory_Turnover_Rate_times                       float64\n",
       "_Fixed_Assets_Turnover_Frequency                     float64\n",
       "_Net_Worth_Turnover_Rate_times                       float64\n",
       "_Operating_profit_per_person                         float64\n",
       "_Allocation_rate_per_person                          float64\n",
       "_Quick_Assets_to_Total_Assets                        float64\n",
       "_Cash_to_Total_Assets                                float64\n",
       "_Quick_Assets_to_Current_Liability                   float64\n",
       "_Cash_to_Current_Liability                           float64\n",
       "_Operating_Funds_to_Liability                        float64\n",
       "_Inventory_to_Working_Capital                        float64\n",
       "_Inventory_to_Current_Liability                      float64\n",
       "_Long_term_Liability_to_Current_Assets               float64\n",
       "_Retained_Earnings_to_Total_Assets                   float64\n",
       "_Total_income_to_Total_expense                       float64\n",
       "_Total_expense_to_Assets                             float64\n",
       "_Current_Asset_Turnover_Rate                         float64\n",
       "_Quick_Asset_Turnover_Rate                           float64\n",
       "_Cash_Turnover_Rate                                  float64\n",
       "_Fixed_Assets_to_Assets                              float64\n",
       "_Cash_Flow_to_Total_Assets                           float64\n",
       "_Cash_Flow_to_Liability                              float64\n",
       "_CFO_to_Assets                                       float64\n",
       "_Cash_Flow_to_Equity                                 float64\n",
       "_Current_Liability_to_Current_Assets                 float64\n",
       "_Liability_Assets_Flag                                 int64\n",
       "_Total_assets_to_GNP_price                           float64\n",
       "_No_credit_Interval                                  float64\n",
       "_Degree_of_Financial_Leverage_DFL                    float64\n",
       "_Interest_Coverage_Ratio_Interest_expense_to_EBIT    float64\n",
       "_Net_Income_Flag                                       int64\n",
       "_Equity_to_Liability                                 float64\n",
       "Default                                                int64\n",
       "dtype: object"
      ]
     },
     "execution_count": 7,
     "metadata": {},
     "output_type": "execute_result"
    }
   ],
   "source": [
    "df.dtypes"
   ]
  },
  {
   "cell_type": "code",
   "execution_count": 9,
   "id": "9f7e5734",
   "metadata": {},
   "outputs": [
    {
     "name": "stdout",
     "output_type": "stream",
     "text": [
      "Co_Code [    4     8    11 ... 72335 72387 72493] \n",
      "\n",
      "Co_Name ['52 Weeks Enter.' '7Seas Enter.' 'A & M Febcon' ... 'Zota Health'\n",
      " 'Zylog Systems' 'iStreet Network'] \n",
      "\n",
      "_Operating_Expense_Rate [1.00026e-04 1.00141e-04 1.00257e-04 ... 9.96000e+09 9.97000e+09\n",
      " 9.98000e+09] \n",
      "\n",
      "_Research_and_development_expense_rate [0.0000000e+00 1.0017300e-04 1.0068300e-04 1.0102200e-04 1.0119200e-04\n",
      " 1.0153200e-04 1.0170100e-04 1.0187100e-04 1.0221100e-04 1.0238100e-04\n",
      " 1.0339900e-04 1.0390900e-04 1.0458800e-04 1.0611600e-04 1.0628600e-04\n",
      " 1.0696500e-04 1.0781400e-04 1.0815300e-04 1.0849300e-04 1.0883200e-04\n",
      " 1.0951200e-04 1.1036000e-04 1.1070000e-04 1.1188900e-04 1.1460500e-04\n",
      " 1.1511400e-04 1.1528400e-04 1.1630300e-04 1.1664300e-04 1.1681200e-04\n",
      " 1.1800100e-04 1.1817100e-04 1.1952900e-04 1.1986800e-04 1.2207600e-04\n",
      " 1.2258500e-04 1.2326400e-04 1.2360400e-04 1.2411300e-04 1.2513200e-04\n",
      " 1.2564100e-04 1.2632000e-04 1.2699900e-04 1.2716900e-04 1.2767900e-04\n",
      " 1.2784800e-04 1.2801800e-04 1.2852800e-04 1.2886700e-04 1.2971600e-04\n",
      " 1.2988600e-04 1.3073500e-04 1.3124400e-04 1.3141400e-04 1.3209300e-04\n",
      " 1.3294200e-04 1.3328200e-04 1.3464000e-04 1.3514900e-04 1.3531900e-04\n",
      " 1.3565900e-04 1.3684700e-04 1.3701700e-04 1.3718700e-04 1.3752600e-04\n",
      " 1.4041300e-04 1.4194100e-04 1.4329900e-04 1.4363800e-04 1.4414800e-04\n",
      " 1.4465700e-04 1.4516600e-04 1.4533600e-04 1.4686400e-04 1.4771300e-04\n",
      " 1.4992000e-04 1.5076900e-04 1.5297700e-04 1.5569300e-04 1.5620300e-04\n",
      " 1.5705100e-04 1.5807000e-04 1.5874900e-04 1.5891900e-04 1.6112600e-04\n",
      " 1.6129600e-04 1.6486200e-04 1.6554100e-04 1.6622000e-04 1.6706900e-04\n",
      " 1.6808800e-04 1.6859700e-04 1.6876700e-04 1.7267200e-04 1.7284200e-04\n",
      " 1.7369000e-04 1.7691600e-04 1.7827500e-04 1.7844400e-04 1.8421700e-04\n",
      " 1.8455700e-04 1.8540600e-04 1.9066900e-04 1.9304600e-04 1.9338600e-04\n",
      " 1.9576300e-04 1.9627200e-04 1.9814000e-04 2.0068600e-04 2.0357300e-04\n",
      " 2.0408200e-04 2.0493100e-04 2.0628900e-04 2.0645900e-04 2.0662900e-04\n",
      " 2.0679900e-04 2.0696800e-04 2.0968500e-04 2.1019400e-04 2.1053400e-04\n",
      " 2.1494800e-04 2.1681600e-04 2.1817400e-04 2.1902300e-04 2.2038100e-04\n",
      " 2.2055100e-04 2.2411700e-04 2.2615400e-04 2.2700300e-04 2.2870100e-04\n",
      " 2.2921000e-04 2.3039900e-04 2.3345500e-04 2.3871800e-04 2.4177400e-04\n",
      " 2.4228400e-04 2.4737700e-04 2.4941500e-04 2.4958400e-04 2.5026400e-04\n",
      " 2.5094300e-04 2.6163900e-04 2.6333700e-04 2.6401600e-04 2.6724200e-04\n",
      " 2.6894000e-04 2.7080800e-04 2.7199600e-04 2.8507000e-04 2.8625800e-04\n",
      " 2.8812600e-04 2.9016300e-04 2.9118200e-04 2.9220100e-04 3.0119900e-04\n",
      " 3.0255800e-04 3.0272700e-04 3.0731200e-04 3.1512200e-04 3.1563100e-04\n",
      " 3.2208300e-04 3.2276200e-04 3.2513900e-04 3.2581800e-04 3.2615800e-04\n",
      " 3.2819500e-04 3.3040200e-04 3.3566600e-04 3.3651500e-04 3.3821200e-04\n",
      " 3.4245700e-04 3.4653200e-04 3.6588700e-04 3.6673600e-04 3.7132100e-04\n",
      " 3.7200000e-04 3.7471600e-04 3.8150800e-04 3.9288300e-04 3.9424200e-04\n",
      " 4.1071100e-04 4.2004900e-04 4.3176400e-04 4.4993100e-04 4.6436300e-04\n",
      " 4.6487200e-04 4.6775900e-04 4.7930400e-04 4.8032300e-04 4.8388800e-04\n",
      " 4.9356600e-04 4.9866000e-04 5.0018800e-04 5.1241200e-04 5.2480700e-04\n",
      " 5.4127600e-04 5.4382300e-04 5.5095400e-04 5.7353500e-04 5.7506300e-04\n",
      " 5.8711800e-04 5.9543700e-04 6.2667800e-04 6.3465800e-04 6.3873300e-04\n",
      " 6.5859700e-04 6.7167100e-04 6.7625500e-04 7.2260700e-04 7.5622400e-04\n",
      " 7.5928000e-04 7.7591900e-04 7.8440800e-04 7.9035100e-04 8.1344200e-04\n",
      " 8.2345900e-04 8.4553100e-04 8.6115100e-04 9.1667100e-04 9.1870900e-04\n",
      " 9.5351500e-04 1.0019030e-03 1.0251640e-03 1.0365400e-03 1.0710060e-03\n",
      " 1.1592950e-03 1.4447040e-03 1.5075240e-03 1.6020950e-03 1.6151680e-03\n",
      " 1.6540490e-03 1.7109270e-03 2.3109490e-03 2.5462710e-03 2.9394940e-03\n",
      " 3.6807770e-03 3.8828220e-03 3.8885940e-03 4.1286710e-03 4.4816550e-03\n",
      " 5.1176710e-03 6.0192310e-03 6.9537300e-03 8.1288140e-03 1.0229908e-02\n",
      " 1.1143523e-02 1.7000000e+07 2.5500000e+07 2.7200000e+07 3.4000000e+07\n",
      " 5.0900000e+07 5.2600000e+07 5.3500000e+07 6.3300000e+07 6.7900000e+07\n",
      " 7.9800000e+07 8.4900000e+07 1.0200000e+08 1.0700000e+08 1.1500000e+08\n",
      " 1.1900000e+08 1.3600000e+08 1.4800000e+08 1.5300000e+08 1.5600000e+08\n",
      " 1.6500000e+08 1.7000000e+08 1.8700000e+08 2.0400000e+08 2.0500000e+08\n",
      " 2.2100000e+08 2.2200000e+08 2.3800000e+08 2.5500000e+08 2.6300000e+08\n",
      " 2.7200000e+08 2.8900000e+08 3.0600000e+08 3.1200000e+08 3.2300000e+08\n",
      " 3.4000000e+08 3.5700000e+08 3.7400000e+08 3.7900000e+08 3.9100000e+08\n",
      " 4.0700000e+08 4.1900000e+08 4.2400000e+08 4.2800000e+08 4.4100000e+08\n",
      " 4.5800000e+08 4.6900000e+08 4.7500000e+08 4.7700000e+08 4.8600000e+08\n",
      " 4.9200000e+08 5.0900000e+08 5.2600000e+08 5.4300000e+08 5.6000000e+08\n",
      " 5.7600000e+08 5.7700000e+08 5.8400000e+08 5.9400000e+08 6.1100000e+08\n",
      " 6.2500000e+08 6.2800000e+08 6.4500000e+08 6.6200000e+08 6.7900000e+08\n",
      " 6.8300000e+08 6.9100000e+08 6.9600000e+08 7.0000000e+08 7.1300000e+08\n",
      " 7.4700000e+08 7.4900000e+08 7.6400000e+08 7.8100000e+08 7.9800000e+08\n",
      " 8.1500000e+08 8.3200000e+08 8.4900000e+08 8.6600000e+08 8.8300000e+08\n",
      " 8.9600000e+08 9.1700000e+08 9.3400000e+08 9.5100000e+08 9.6800000e+08\n",
      " 1.0000000e+09 1.0200000e+09 1.0400000e+09 1.0500000e+09 1.1000000e+09\n",
      " 1.1200000e+09 1.1400000e+09 1.1700000e+09 1.1900000e+09 1.2200000e+09\n",
      " 1.2400000e+09 1.2600000e+09 1.2700000e+09 1.2900000e+09 1.3100000e+09\n",
      " 1.3200000e+09 1.3400000e+09 1.3600000e+09 1.3800000e+09 1.3900000e+09\n",
      " 1.4100000e+09 1.4300000e+09 1.4400000e+09 1.4600000e+09 1.4900000e+09\n",
      " 1.5100000e+09 1.5300000e+09 1.5500000e+09 1.5800000e+09 1.6000000e+09\n",
      " 1.6100000e+09 1.6300000e+09 1.6600000e+09 1.6800000e+09 1.7000000e+09\n",
      " 1.7100000e+09 1.7300000e+09 1.7500000e+09 1.7700000e+09 1.7800000e+09\n",
      " 1.8000000e+09 1.8200000e+09 1.8300000e+09 1.8500000e+09 1.8700000e+09\n",
      " 1.8800000e+09 1.9000000e+09 1.9200000e+09 1.9400000e+09 1.9500000e+09\n",
      " 1.9700000e+09 1.9900000e+09 2.0000000e+09 2.0200000e+09 2.0400000e+09\n",
      " 2.0700000e+09 2.0900000e+09 2.1100000e+09 2.1200000e+09 2.1600000e+09\n",
      " 2.1700000e+09 2.1900000e+09 2.2100000e+09 2.2600000e+09 2.2800000e+09\n",
      " 2.2900000e+09 2.3100000e+09 2.3300000e+09 2.3400000e+09 2.3600000e+09\n",
      " 2.3900000e+09 2.4100000e+09 2.4400000e+09 2.4600000e+09 2.4800000e+09\n",
      " 2.5000000e+09 2.5300000e+09 2.5600000e+09 2.5800000e+09 2.6000000e+09\n",
      " 2.6100000e+09 2.6500000e+09 2.6700000e+09 2.6800000e+09 2.7000000e+09\n",
      " 2.7500000e+09 2.7700000e+09 2.7800000e+09 2.8000000e+09 2.8200000e+09\n",
      " 2.8400000e+09 2.8700000e+09 2.8900000e+09 2.9000000e+09 2.9200000e+09\n",
      " 2.9400000e+09 2.9500000e+09 2.9700000e+09 2.9900000e+09 3.0100000e+09\n",
      " 3.0200000e+09 3.0400000e+09 3.0600000e+09 3.0700000e+09 3.0900000e+09\n",
      " 3.1100000e+09 3.1600000e+09 3.1700000e+09 3.1900000e+09 3.2300000e+09\n",
      " 3.2400000e+09 3.2600000e+09 3.2800000e+09 3.3100000e+09 3.3300000e+09\n",
      " 3.3400000e+09 3.3600000e+09 3.3800000e+09 3.4000000e+09 3.4100000e+09\n",
      " 3.4300000e+09 3.4500000e+09 3.4600000e+09 3.4800000e+09 3.5000000e+09\n",
      " 3.5300000e+09 3.5500000e+09 3.5700000e+09 3.5800000e+09 3.6300000e+09\n",
      " 3.6500000e+09 3.6700000e+09 3.6800000e+09 3.7200000e+09 3.7400000e+09\n",
      " 3.7500000e+09 3.7700000e+09 3.8000000e+09 3.8200000e+09 3.8500000e+09\n",
      " 3.8700000e+09 3.8900000e+09 3.9100000e+09 3.9200000e+09 3.9600000e+09\n",
      " 3.9700000e+09 4.0100000e+09 4.0200000e+09 4.0400000e+09 4.0600000e+09\n",
      " 4.0700000e+09 4.0900000e+09 4.1100000e+09 4.1300000e+09 4.1400000e+09\n",
      " 4.2100000e+09 4.2300000e+09 4.2400000e+09 4.2600000e+09 4.3000000e+09\n",
      " 4.3100000e+09 4.3500000e+09 4.3800000e+09 4.4100000e+09 4.4300000e+09\n",
      " 4.4500000e+09 4.4700000e+09 4.4800000e+09 4.5200000e+09 4.5500000e+09\n",
      " 4.5700000e+09 4.5800000e+09 4.6000000e+09 4.6200000e+09 4.6500000e+09\n",
      " 4.6700000e+09 4.7000000e+09 4.7200000e+09 4.7500000e+09 4.7900000e+09\n",
      " 4.8000000e+09 4.8200000e+09 4.8400000e+09 4.8900000e+09 4.9100000e+09\n",
      " 4.9200000e+09 4.9400000e+09 4.9600000e+09 4.9900000e+09 5.0100000e+09\n",
      " 5.0800000e+09 5.0900000e+09 5.1300000e+09 5.1400000e+09 5.1600000e+09\n",
      " 5.2100000e+09 5.2500000e+09 5.3000000e+09 5.3100000e+09 5.3300000e+09\n",
      " 5.3800000e+09 5.4000000e+09 5.4200000e+09 5.4700000e+09 5.5000000e+09\n",
      " 5.5200000e+09 5.5500000e+09 5.5700000e+09 5.5900000e+09 5.6000000e+09\n",
      " 5.6400000e+09 5.6500000e+09 5.6700000e+09 5.6900000e+09 5.7200000e+09\n",
      " 5.7400000e+09 5.7900000e+09 5.8200000e+09 5.8600000e+09 5.8700000e+09\n",
      " 5.9600000e+09 5.9800000e+09 6.0300000e+09 6.1100000e+09 6.1600000e+09\n",
      " 6.2000000e+09 6.2300000e+09 6.2700000e+09 6.3000000e+09 6.3200000e+09\n",
      " 6.3500000e+09 6.3700000e+09 6.4300000e+09 6.4500000e+09 6.4700000e+09\n",
      " 6.4900000e+09 6.5000000e+09 6.6000000e+09 6.6400000e+09 6.6600000e+09\n",
      " 6.7200000e+09 6.7600000e+09 6.7900000e+09 6.8600000e+09 6.8800000e+09\n",
      " 6.9400000e+09 6.9600000e+09 7.0300000e+09 7.0500000e+09 7.0600000e+09\n",
      " 7.1000000e+09 7.1300000e+09 7.2300000e+09 7.2500000e+09 7.2700000e+09\n",
      " 7.3300000e+09 7.3500000e+09 7.5200000e+09 7.5700000e+09 7.6100000e+09\n",
      " 7.6600000e+09 7.7800000e+09 7.8400000e+09 7.8600000e+09 7.8800000e+09\n",
      " 7.9600000e+09 8.0100000e+09 8.0300000e+09 8.0500000e+09 8.0800000e+09\n",
      " 8.1200000e+09 8.2000000e+09 8.2700000e+09 8.3200000e+09 8.3500000e+09\n",
      " 8.3700000e+09 8.4200000e+09 8.4600000e+09 8.5100000e+09 8.6400000e+09\n",
      " 8.6800000e+09 8.6900000e+09 8.8300000e+09 8.8600000e+09 8.9300000e+09\n",
      " 9.0200000e+09 9.0300000e+09 9.1200000e+09 9.2000000e+09 9.2200000e+09\n",
      " 9.2700000e+09 9.3900000e+09 9.5800000e+09 9.5900000e+09 9.7800000e+09\n",
      " 9.8500000e+09 9.9200000e+09 9.9300000e+09 9.9800000e+09] \n",
      "\n",
      "_Cash_flow_rate [0.         0.34381789 0.37577313 ... 0.74188873 0.74325088 1.        ] \n",
      "\n",
      "_Interest_bearing_debt_interest_rate [0.00000000e+00 1.00010000e-04 1.01010000e-04 1.03010000e-04\n",
      " 1.04010000e-04 1.05011000e-04 1.06011000e-04 1.08011000e-04\n",
      " 1.09011000e-04 1.10011000e-04 1.12011000e-04 1.14011000e-04\n",
      " 1.18012000e-04 1.20012000e-04 1.21012000e-04 1.22012000e-04\n",
      " 1.23012000e-04 1.25013000e-04 1.27013000e-04 1.28013000e-04\n",
      " 1.29013000e-04 1.30013000e-04 1.31013000e-04 1.32013000e-04\n",
      " 1.33013000e-04 1.35014000e-04 1.36014000e-04 1.38014000e-04\n",
      " 1.39014000e-04 1.40014000e-04 1.41014000e-04 1.43014000e-04\n",
      " 1.44014000e-04 1.45015000e-04 1.46015000e-04 1.48015000e-04\n",
      " 1.51015000e-04 1.52015000e-04 1.54015000e-04 1.55016000e-04\n",
      " 1.56016000e-04 1.57016000e-04 1.59016000e-04 1.61016000e-04\n",
      " 1.63016000e-04 1.64016000e-04 1.66017000e-04 1.67017000e-04\n",
      " 1.68017000e-04 1.70017000e-04 1.71017000e-04 1.73017000e-04\n",
      " 1.74017000e-04 1.75018000e-04 1.76018000e-04 1.77018000e-04\n",
      " 1.83018000e-04 1.85019000e-04 1.86019000e-04 1.87019000e-04\n",
      " 1.88019000e-04 1.90019000e-04 1.91019000e-04 1.92019000e-04\n",
      " 1.93019000e-04 1.94019000e-04 1.95020000e-04 1.96020000e-04\n",
      " 1.97020000e-04 1.98020000e-04 1.99020000e-04 2.00020000e-04\n",
      " 2.01020000e-04 2.02020000e-04 2.03020000e-04 2.04020000e-04\n",
      " 2.06021000e-04 2.07021000e-04 2.08021000e-04 2.09021000e-04\n",
      " 2.10021000e-04 2.11021000e-04 2.12021000e-04 2.13021000e-04\n",
      " 2.15022000e-04 2.16022000e-04 2.18022000e-04 2.19022000e-04\n",
      " 2.20022000e-04 2.21022000e-04 2.22022000e-04 2.23022000e-04\n",
      " 2.24022000e-04 2.25023000e-04 2.26023000e-04 2.27023000e-04\n",
      " 2.28023000e-04 2.29023000e-04 2.30023000e-04 2.31023000e-04\n",
      " 2.32023000e-04 2.33023000e-04 2.34023000e-04 2.35024000e-04\n",
      " 2.36024000e-04 2.37024000e-04 2.38024000e-04 2.39024000e-04\n",
      " 2.40024000e-04 2.41024000e-04 2.42024000e-04 2.43024000e-04\n",
      " 2.44024000e-04 2.45025000e-04 2.46025000e-04 2.47025000e-04\n",
      " 2.48025000e-04 2.50025000e-04 2.52025000e-04 2.53025000e-04\n",
      " 2.54025000e-04 2.55026000e-04 2.56026000e-04 2.57026000e-04\n",
      " 2.58026000e-04 2.59026000e-04 2.60026000e-04 2.61026000e-04\n",
      " 2.62026000e-04 2.63026000e-04 2.64026000e-04 2.65027000e-04\n",
      " 2.66027000e-04 2.67027000e-04 2.68027000e-04 2.69027000e-04\n",
      " 2.70027000e-04 2.71027000e-04 2.72027000e-04 2.74027000e-04\n",
      " 2.75028000e-04 2.76028000e-04 2.77028000e-04 2.78028000e-04\n",
      " 2.79028000e-04 2.80028000e-04 2.81028000e-04 2.82028000e-04\n",
      " 2.83028000e-04 2.84028000e-04 2.85029000e-04 2.86029000e-04\n",
      " 2.87029000e-04 2.88029000e-04 2.89029000e-04 2.90029000e-04\n",
      " 2.91029000e-04 2.92029000e-04 2.93029000e-04 2.94029000e-04\n",
      " 2.95030000e-04 2.96030000e-04 2.97030000e-04 2.98030000e-04\n",
      " 3.00030000e-04 3.01030000e-04 3.02030000e-04 3.03030000e-04\n",
      " 3.04030000e-04 3.05031000e-04 3.06031000e-04 3.07031000e-04\n",
      " 3.08031000e-04 3.09031000e-04 3.10031000e-04 3.11031000e-04\n",
      " 3.12031000e-04 3.13031000e-04 3.14031000e-04 3.15032000e-04\n",
      " 3.16032000e-04 3.17032000e-04 3.18032000e-04 3.19032000e-04\n",
      " 3.20032000e-04 3.21032000e-04 3.22032000e-04 3.24032000e-04\n",
      " 3.25033000e-04 3.26033000e-04 3.27033000e-04 3.28033000e-04\n",
      " 3.29033000e-04 3.30033000e-04 3.31033000e-04 3.32033000e-04\n",
      " 3.33033000e-04 3.34033000e-04 3.35034000e-04 3.36034000e-04\n",
      " 3.37034000e-04 3.38034000e-04 3.39034000e-04 3.40034000e-04\n",
      " 3.41034000e-04 3.42034000e-04 3.43034000e-04 3.44034000e-04\n",
      " 3.45035000e-04 3.46035000e-04 3.47035000e-04 3.48035000e-04\n",
      " 3.49035000e-04 3.50035000e-04 3.51035000e-04 3.52035000e-04\n",
      " 3.53035000e-04 3.54035000e-04 3.55036000e-04 3.56036000e-04\n",
      " 3.57036000e-04 3.58036000e-04 3.59036000e-04 3.60036000e-04\n",
      " 3.62036000e-04 3.63036000e-04 3.64036000e-04 3.65037000e-04\n",
      " 3.66037000e-04 3.67037000e-04 3.68037000e-04 3.69037000e-04\n",
      " 3.70037000e-04 3.71037000e-04 3.72037000e-04 3.73037000e-04\n",
      " 3.74037000e-04 3.76038000e-04 3.77038000e-04 3.78038000e-04\n",
      " 3.79038000e-04 3.80038000e-04 3.81038000e-04 3.82038000e-04\n",
      " 3.83038000e-04 3.84038000e-04 3.85039000e-04 3.86039000e-04\n",
      " 3.87039000e-04 3.88039000e-04 3.89039000e-04 3.90039000e-04\n",
      " 3.91039000e-04 3.92039000e-04 3.93039000e-04 3.94039000e-04\n",
      " 3.95040000e-04 3.96040000e-04 3.97040000e-04 3.98040000e-04\n",
      " 3.99040000e-04 4.00040000e-04 4.01040000e-04 4.03040000e-04\n",
      " 4.04040000e-04 4.05041000e-04 4.06041000e-04 4.07041000e-04\n",
      " 4.08041000e-04 4.09041000e-04 4.10041000e-04 4.11041000e-04\n",
      " 4.12041000e-04 4.13041000e-04 4.14041000e-04 4.15042000e-04\n",
      " 4.16042000e-04 4.18042000e-04 4.19042000e-04 4.20042000e-04\n",
      " 4.21042000e-04 4.22042000e-04 4.24042000e-04 4.25043000e-04\n",
      " 4.26043000e-04 4.27043000e-04 4.28043000e-04 4.29043000e-04\n",
      " 4.30043000e-04 4.31043000e-04 4.32043000e-04 4.33043000e-04\n",
      " 4.34043000e-04 4.35044000e-04 4.36044000e-04 4.37044000e-04\n",
      " 4.38044000e-04 4.39044000e-04 4.40044000e-04 4.41044000e-04\n",
      " 4.42044000e-04 4.43044000e-04 4.44044000e-04 4.45045000e-04\n",
      " 4.46045000e-04 4.47045000e-04 4.48045000e-04 4.49045000e-04\n",
      " 4.50045000e-04 4.51045000e-04 4.52045000e-04 4.53045000e-04\n",
      " 4.54045000e-04 4.55046000e-04 4.56046000e-04 4.57046000e-04\n",
      " 4.58046000e-04 4.59046000e-04 4.60046000e-04 4.61046000e-04\n",
      " 4.62046000e-04 4.63046000e-04 4.64046000e-04 4.65047000e-04\n",
      " 4.66047000e-04 4.67047000e-04 4.68047000e-04 4.69047000e-04\n",
      " 4.70047000e-04 4.71047000e-04 4.73047000e-04 4.74047000e-04\n",
      " 4.75048000e-04 4.77048000e-04 4.78048000e-04 4.79048000e-04\n",
      " 4.80048000e-04 4.81048000e-04 4.82048000e-04 4.83048000e-04\n",
      " 4.84048000e-04 4.86049000e-04 4.88049000e-04 4.89049000e-04\n",
      " 4.90049000e-04 4.91049000e-04 4.92049000e-04 4.93049000e-04\n",
      " 4.94049000e-04 4.95050000e-04 4.96050000e-04 4.97050000e-04\n",
      " 4.98050000e-04 4.99050000e-04 5.00050000e-04 5.01050000e-04\n",
      " 5.02050000e-04 5.04050000e-04 5.05051000e-04 5.06051000e-04\n",
      " 5.07051000e-04 5.08051000e-04 5.09051000e-04 5.10051000e-04\n",
      " 5.11051000e-04 5.13051000e-04 5.14051000e-04 5.15052000e-04\n",
      " 5.16052000e-04 5.17052000e-04 5.18052000e-04 5.19052000e-04\n",
      " 5.20052000e-04 5.21052000e-04 5.22052000e-04 5.23052000e-04\n",
      " 5.24052000e-04 5.25053000e-04 5.26053000e-04 5.27053000e-04\n",
      " 5.28053000e-04 5.30053000e-04 5.31053000e-04 5.32053000e-04\n",
      " 5.34053000e-04 5.35054000e-04 5.36054000e-04 5.37054000e-04\n",
      " 5.38054000e-04 5.39054000e-04 5.40054000e-04 5.41054000e-04\n",
      " 5.43054000e-04 5.44054000e-04 5.45055000e-04 5.46055000e-04\n",
      " 5.47055000e-04 5.48055000e-04 5.49055000e-04 5.50055000e-04\n",
      " 5.51055000e-04 5.52055000e-04 5.53055000e-04 5.54055000e-04\n",
      " 5.55056000e-04 5.56056000e-04 5.57056000e-04 5.58056000e-04\n",
      " 5.59056000e-04 5.60056000e-04 5.61056000e-04 5.62056000e-04\n",
      " 5.63056000e-04 5.64056000e-04 5.65057000e-04 5.66057000e-04\n",
      " 5.67057000e-04 5.68057000e-04 5.69057000e-04 5.70057000e-04\n",
      " 5.71057000e-04 5.72057000e-04 5.73057000e-04 5.74057000e-04\n",
      " 5.75058000e-04 5.76058000e-04 5.77058000e-04 5.78058000e-04\n",
      " 5.79058000e-04 5.80058000e-04 5.81058000e-04 5.82058000e-04\n",
      " 5.83058000e-04 5.84058000e-04 5.85059000e-04 5.86059000e-04\n",
      " 5.87059000e-04 5.88059000e-04 5.89059000e-04 5.90059000e-04\n",
      " 5.91059000e-04 5.92059000e-04 5.93059000e-04 5.94059000e-04\n",
      " 5.95060000e-04 5.96060000e-04 5.97060000e-04 5.98060000e-04\n",
      " 5.99060000e-04 6.00060000e-04 6.01060000e-04 6.03060000e-04\n",
      " 6.04060000e-04 6.05061000e-04 6.06061000e-04 6.07061000e-04\n",
      " 6.08061000e-04 6.09061000e-04 6.10061000e-04 6.11061000e-04\n",
      " 6.12061000e-04 6.13061000e-04 6.14061000e-04 6.15062000e-04\n",
      " 6.16062000e-04 6.17062000e-04 6.18062000e-04 6.19062000e-04\n",
      " 6.20062000e-04 6.22062000e-04 6.23062000e-04 6.24062000e-04\n",
      " 6.25063000e-04 6.26063000e-04 6.27063000e-04 6.28063000e-04\n",
      " 6.29063000e-04 6.30063000e-04 6.31063000e-04 6.32063000e-04\n",
      " 6.33063000e-04 6.35064000e-04 6.36064000e-04 6.37064000e-04\n",
      " 6.38064000e-04 6.39064000e-04 6.40064000e-04 6.41064000e-04\n",
      " 6.42064000e-04 6.43064000e-04 6.44064000e-04 6.45065000e-04\n",
      " 6.46065000e-04 6.47065000e-04 6.48065000e-04 6.49065000e-04\n",
      " 6.51065000e-04 6.52065000e-04 6.53065000e-04 6.54065000e-04\n",
      " 6.55066000e-04 6.57066000e-04 6.58066000e-04 6.59066000e-04\n",
      " 6.60066000e-04 6.61066000e-04 6.62066000e-04 6.63066000e-04\n",
      " 6.65067000e-04 6.66067000e-04 6.67067000e-04 6.68067000e-04\n",
      " 6.69067000e-04 6.71067000e-04 6.72067000e-04 6.73067000e-04\n",
      " 6.75068000e-04 6.76068000e-04 6.77068000e-04 6.79068000e-04\n",
      " 6.80068000e-04 6.82068000e-04 6.83068000e-04 6.84068000e-04\n",
      " 6.85069000e-04 6.86069000e-04 6.88069000e-04 6.89069000e-04\n",
      " 6.92069000e-04 6.93069000e-04 6.94069000e-04 6.95070000e-04\n",
      " 6.96070000e-04 6.97070000e-04 6.98070000e-04 6.99070000e-04\n",
      " 7.00070000e-04 7.01070000e-04 7.02070000e-04 7.04070000e-04\n",
      " 7.05071000e-04 7.06071000e-04 7.07071000e-04 7.08071000e-04\n",
      " 7.09071000e-04 7.10071000e-04 7.11071000e-04 7.12071000e-04\n",
      " 7.14071000e-04 7.15072000e-04 7.16072000e-04 7.17072000e-04\n",
      " 7.20072000e-04 7.21072000e-04 7.22072000e-04 7.24072000e-04\n",
      " 7.25073000e-04 7.26073000e-04 7.27073000e-04 7.28073000e-04\n",
      " 7.30073000e-04 7.31073000e-04 7.32073000e-04 7.33073000e-04\n",
      " 7.34073000e-04 7.35074000e-04 7.36074000e-04 7.37074000e-04\n",
      " 7.38074000e-04 7.39074000e-04 7.40074000e-04 7.41074000e-04\n",
      " 7.42074000e-04 7.43074000e-04 7.44074000e-04 7.45075000e-04\n",
      " 7.46075000e-04 7.47075000e-04 7.49075000e-04 7.50075000e-04\n",
      " 7.52075000e-04 7.53075000e-04 7.54075000e-04 7.55076000e-04\n",
      " 7.58076000e-04 7.59076000e-04 7.61076000e-04 7.62076000e-04\n",
      " 7.63076000e-04 7.64076000e-04 7.65077000e-04 7.66077000e-04\n",
      " 7.67077000e-04 7.68077000e-04 7.69077000e-04 7.70077000e-04\n",
      " 7.72077000e-04 7.73077000e-04 7.76078000e-04 7.77078000e-04\n",
      " 7.78078000e-04 7.80078000e-04 7.81078000e-04 7.82078000e-04\n",
      " 7.83078000e-04 7.84078000e-04 7.85079000e-04 7.86079000e-04\n",
      " 7.87079000e-04 7.90079000e-04 7.91079000e-04 7.92079000e-04\n",
      " 7.93079000e-04 7.94079000e-04 7.99080000e-04 8.00080000e-04\n",
      " 8.01080000e-04 8.02080000e-04 8.03080000e-04 8.04080000e-04\n",
      " 8.06081000e-04 8.08081000e-04 8.10081000e-04 8.12081000e-04\n",
      " 8.15082000e-04 8.16082000e-04 8.17082000e-04 8.18082000e-04\n",
      " 8.19082000e-04 8.20082000e-04 8.21082000e-04 8.22082000e-04\n",
      " 8.23082000e-04 8.24082000e-04 8.25083000e-04 8.26083000e-04\n",
      " 8.27083000e-04 8.28083000e-04 8.29083000e-04 8.30083000e-04\n",
      " 8.31083000e-04 8.32083000e-04 8.33083000e-04 8.35084000e-04\n",
      " 8.36084000e-04 8.39084000e-04 8.41084000e-04 8.42084000e-04\n",
      " 8.43084000e-04 8.45085000e-04 8.46085000e-04 8.49085000e-04\n",
      " 8.50085000e-04 8.52085000e-04 8.53085000e-04 8.54085000e-04\n",
      " 8.55086000e-04 8.56086000e-04 8.61086000e-04 8.62086000e-04\n",
      " 8.63086000e-04 8.64086000e-04 8.65087000e-04 8.66087000e-04\n",
      " 8.67087000e-04 8.68087000e-04 8.70087000e-04 8.73087000e-04\n",
      " 8.75088000e-04 8.76088000e-04 8.78088000e-04 8.80088000e-04\n",
      " 8.81088000e-04 8.83088000e-04 8.84088000e-04 8.89089000e-04\n",
      " 8.94089000e-04 8.95090000e-04 8.96090000e-04 8.97090000e-04\n",
      " 8.99090000e-04 9.00090000e-04 9.01090000e-04 9.02090000e-04\n",
      " 9.07091000e-04 9.08091000e-04 9.11091000e-04 9.12091000e-04\n",
      " 9.14091000e-04 9.16092000e-04 9.17092000e-04 9.29093000e-04\n",
      " 9.36094000e-04 9.39094000e-04 9.41094000e-04 9.43094000e-04\n",
      " 9.48095000e-04 9.54095000e-04 9.56096000e-04 9.61096000e-04\n",
      " 9.64096000e-04 9.65097000e-04 9.78098000e-04 9.80098000e-04\n",
      " 9.82098000e-04 9.83098000e-04 9.84098000e-04 9.85099000e-04\n",
      " 9.97100000e-04 1.00610100e-03 1.00710100e-03 1.00810100e-03\n",
      " 1.00910100e-03 1.01810200e-03 1.02010200e-03 1.04610500e-03\n",
      " 1.05810600e-03 1.07010700e-03 1.07110700e-03 1.07710800e-03\n",
      " 1.07910800e-03 1.08510900e-03 1.08610900e-03 1.15511600e-03\n",
      " 1.15711600e-03 1.19111900e-03 1.19812000e-03 1.20612100e-03\n",
      " 1.21512200e-03 1.25212500e-03 1.27012700e-03 1.27612800e-03\n",
      " 1.29813000e-03 1.30913100e-03 1.36113600e-03 1.42714300e-03\n",
      " 1.47914800e-03 1.51415100e-03 1.59315900e-03 1.66116600e-03\n",
      " 1.73917400e-03 1.74417400e-03 1.76317600e-03 1.80718100e-03\n",
      " 1.90119000e-03 2.00020000e-03 2.02520300e-03 2.09120900e-03\n",
      " 2.12721300e-03 2.13121300e-03 2.16921700e-03 2.27522800e-03\n",
      " 2.28622900e-03 2.44624500e-03 2.45624600e-03 2.92229200e-03\n",
      " 3.22332200e-03 3.39333900e-03 3.61736200e-03 3.73137300e-03\n",
      " 4.21042100e-03 4.62546300e-03 5.26952700e-03 5.90059000e-03\n",
      " 6.26562700e-03 7.79477900e-03 7.85678600e-03 8.92589300e-03\n",
      " 1.21092110e-02 1.23572360e-02 1.42874290e-02 2.59235920e-02\n",
      " 4.05600560e-02 4.16711670e-02 5.37553760e-02 1.14689469e-01\n",
      " 1.98652865e-01 7.96079608e-01 1.00000000e+06 2.00000000e+06\n",
      " 7.00000000e+06 8.00000000e+06 7.00000000e+07 9.00000000e+07\n",
      " 1.10000000e+08 1.80000000e+08 3.30000000e+08 3.70000000e+08\n",
      " 4.10000000e+08 4.20000000e+08 4.30000000e+08 4.80000000e+08\n",
      " 5.20000000e+08 5.30000000e+08 5.40000000e+08 5.50000000e+08\n",
      " 5.70000000e+08 6.20000000e+08 6.70000000e+08 6.90000000e+08\n",
      " 7.10000000e+08 7.30000000e+08 7.50000000e+08 7.90000000e+08\n",
      " 8.10000000e+08 8.40000000e+08 8.50000000e+08 8.60000000e+08\n",
      " 9.10000000e+08 9.60000000e+08 9.70000000e+08 9.80000000e+08\n",
      " 9.90000000e+08] \n",
      "\n",
      "_Tax_rate_A [0.00000000e+00 2.02450000e-04 6.07349000e-04 1.01224800e-03\n",
      " 1.41714700e-03 1.51837200e-03 1.61959700e-03 2.53062100e-03\n",
      " 2.93552000e-03 3.23919400e-03 3.34041900e-03 3.54286900e-03\n",
      " 3.84654300e-03 4.15021800e-03 5.26369100e-03 5.46614000e-03\n",
      " 6.07348900e-03 6.78206300e-03 7.28818700e-03 7.89553600e-03\n",
      " 7.99676100e-03 8.40166000e-03 8.70533500e-03 9.00900900e-03\n",
      " 9.21145900e-03 9.31268300e-03 9.51513300e-03 9.61635800e-03\n",
      " 1.05273810e-02 1.08310560e-02 1.09322810e-02 1.12359550e-02\n",
      " 1.13371800e-02 1.28555520e-02 1.34629010e-02 1.38678000e-02\n",
      " 1.40702500e-02 1.48800490e-02 1.49812730e-02 1.50824980e-02\n",
      " 1.52849480e-02 1.54873980e-02 1.57910720e-02 1.60947460e-02\n",
      " 1.67020950e-02 1.69045450e-02 1.71069950e-02 1.73094440e-02\n",
      " 1.81192430e-02 1.89290410e-02 1.99412900e-02 2.03461890e-02\n",
      " 2.05486390e-02 2.06498630e-02 2.08523130e-02 2.10547630e-02\n",
      " 2.12572120e-02 2.26743600e-02 2.30792590e-02 2.37878330e-02\n",
      " 2.42939570e-02 2.43951820e-02 2.44964070e-02 2.53062050e-02\n",
      " 2.54074300e-02 2.55086550e-02 2.59135540e-02 2.61160040e-02\n",
      " 2.66221280e-02 2.69258020e-02 2.71282520e-02 2.72294770e-02\n",
      " 2.73307010e-02 2.81405000e-02 2.83429500e-02 2.85453990e-02\n",
      " 2.86466240e-02 2.87478490e-02 2.93551980e-02 2.95576480e-02\n",
      " 2.96588720e-02 2.99625470e-02 3.00637720e-02 3.07723450e-02\n",
      " 3.10760200e-02 3.12784690e-02 3.18858180e-02 3.19870430e-02\n",
      " 3.38090900e-02 3.40115400e-02 3.41127640e-02 3.43152140e-02\n",
      " 3.49225630e-02 3.53274620e-02 3.54286870e-02 3.56311370e-02\n",
      " 3.66433850e-02 3.69470590e-02 3.72507340e-02 3.76556330e-02\n",
      " 3.83642070e-02 3.96801300e-02 4.04899280e-02 4.08948270e-02\n",
      " 4.10972770e-02 4.16034010e-02 4.20083000e-02 4.26156490e-02\n",
      " 4.29193240e-02 4.34254480e-02 4.36278980e-02 4.37291220e-02\n",
      " 4.38303470e-02 4.40327970e-02 4.44376960e-02 4.46401460e-02\n",
      " 4.47413710e-02 4.58548440e-02 4.59560680e-02 4.63609680e-02\n",
      " 4.65634170e-02 4.66646420e-02 4.68670920e-02 4.75756660e-02\n",
      " 4.84866890e-02 4.85879140e-02 4.90940380e-02 4.92964870e-02\n",
      " 5.00050610e-02 5.06124100e-02 5.11185340e-02 5.29405810e-02\n",
      " 5.34467050e-02 5.35479300e-02 5.43577290e-02 5.53699770e-02\n",
      " 5.54712020e-02 5.55724260e-02 5.61797750e-02 5.62810000e-02\n",
      " 5.74956980e-02 5.75969230e-02 5.99250940e-02 6.11397910e-02\n",
      " 6.18483650e-02 6.26581640e-02 6.28606130e-02 6.32655130e-02\n",
      " 6.36704120e-02 6.37716370e-02 6.50875590e-02 6.54924590e-02\n",
      " 6.57961330e-02 6.58973580e-02 6.66059320e-02 6.67071570e-02\n",
      " 6.68083810e-02 6.73145060e-02 6.76181800e-02 6.77194050e-02\n",
      " 6.83267540e-02 6.89341030e-02 6.98451260e-02 7.00475760e-02\n",
      " 7.02500250e-02 7.05537000e-02 7.08573740e-02 7.09585990e-02\n",
      " 7.11610490e-02 7.13634980e-02 7.20720720e-02 7.23757470e-02\n",
      " 7.26794210e-02 7.27806460e-02 7.28818710e-02 7.34892200e-02\n",
      " 7.47039170e-02 7.50075920e-02 7.55137160e-02 7.57161660e-02\n",
      " 7.58173900e-02 7.61210650e-02 7.66271890e-02 7.71333130e-02\n",
      " 7.72345380e-02 7.81455610e-02 7.86516850e-02 7.92590340e-02\n",
      " 7.95627090e-02 7.97651580e-02 8.08786310e-02 8.21945540e-02\n",
      " 8.23970040e-02 8.25994530e-02 8.38141510e-02 8.40166010e-02\n",
      " 8.44215000e-02 8.45227250e-02 8.46239500e-02 8.55349730e-02\n",
      " 8.57374230e-02 8.59398720e-02 8.61423220e-02 8.62435470e-02\n",
      " 8.65472210e-02 8.68508960e-02 8.71545700e-02 8.73570200e-02\n",
      " 8.74582450e-02 8.76606940e-02 8.77619190e-02 8.83692680e-02\n",
      " 8.87741670e-02 8.88753920e-02 9.04949890e-02 9.05962140e-02\n",
      " 9.07986640e-02 9.13047880e-02 9.25194860e-02 9.26207110e-02\n",
      " 9.27219350e-02 9.34305090e-02 9.35317340e-02 9.41390830e-02\n",
      " 9.46452070e-02 9.50501060e-02 9.51513310e-02 9.52525560e-02\n",
      " 9.53537810e-02 9.64672540e-02 9.74795020e-02 9.75807270e-02\n",
      " 9.83905250e-02 9.87954250e-02 9.88966490e-02 9.89978740e-02\n",
      " 9.96052230e-02 9.98076730e-02 1.01022371e-01 1.01427270e-01\n",
      " 1.01528495e-01 1.02034619e-01 1.02439518e-01 1.02844417e-01\n",
      " 1.03249317e-01 1.03552991e-01 1.03957890e-01 1.04059115e-01\n",
      " 1.04160340e-01 1.04362790e-01 1.05172588e-01 1.05273813e-01\n",
      " 1.05375038e-01 1.05476263e-01 1.05577488e-01 1.06387286e-01\n",
      " 1.07500759e-01 1.07601984e-01 1.08006883e-01 1.08310558e-01\n",
      " 1.08411783e-01 1.08513007e-01 1.08614232e-01 1.08715457e-01\n",
      " 1.09525256e-01 1.09930155e-01 1.10132605e-01 1.10436279e-01\n",
      " 1.10537504e-01 1.10942403e-01 1.11853426e-01 1.11954651e-01\n",
      " 1.12258326e-01 1.12359551e-01 1.12562000e-01 1.13068124e-01\n",
      " 1.13776698e-01 1.13877923e-01 1.14080373e-01 1.14687721e-01\n",
      " 1.14890171e-01 1.15902419e-01 1.16813443e-01 1.16914667e-01\n",
      " 1.17522016e-01 1.18736714e-01 1.19344063e-01 1.19546513e-01\n",
      " 1.19951412e-01 1.20052637e-01 1.21166110e-01 1.21571009e-01\n",
      " 1.21672234e-01 1.21773459e-01 1.22380808e-01 1.22583257e-01\n",
      " 1.22684482e-01 1.23595506e-01 1.24000405e-01 1.24101630e-01\n",
      " 1.24202855e-01 1.24810203e-01 1.25113878e-01 1.25620002e-01\n",
      " 1.25721227e-01 1.25822452e-01 1.26227351e-01 1.27037150e-01\n",
      " 1.27138374e-01 1.27745723e-01 1.27846948e-01 1.29567770e-01\n",
      " 1.29871444e-01 1.30073894e-01 1.30377569e-01 1.30580018e-01\n",
      " 1.30782468e-01 1.30984918e-01 1.31187367e-01 1.31794716e-01\n",
      " 1.31895941e-01 1.32199615e-01 1.33313088e-01 1.33414313e-01\n",
      " 1.33515538e-01 1.34122887e-01 1.34730236e-01 1.35033910e-01\n",
      " 1.35337585e-01 1.35843709e-01 1.36248608e-01 1.37159632e-01\n",
      " 1.37766980e-01 1.38576779e-01 1.38880453e-01 1.39892702e-01\n",
      " 1.39993927e-01 1.40803725e-01 1.40904950e-01 1.41309849e-01\n",
      " 1.41512299e-01 1.41613524e-01 1.41714748e-01 1.42018423e-01\n",
      " 1.42322097e-01 1.42423322e-01 1.42524547e-01 1.42625772e-01\n",
      " 1.42929446e-01 1.43334346e-01 1.44650268e-01 1.45156392e-01\n",
      " 1.45460067e-01 1.46067416e-01 1.46371090e-01 1.46674765e-01\n",
      " 1.47383338e-01 1.47484563e-01 1.48800486e-01 1.49407835e-01\n",
      " 1.49610284e-01 1.49711509e-01 1.50015184e-01 1.50420083e-01\n",
      " 1.50521308e-01 1.50622533e-01 1.51128657e-01 1.51229882e-01\n",
      " 1.51634781e-01 1.52444579e-01 1.52647029e-01 1.54367851e-01\n",
      " 1.54671525e-01 1.54772750e-01 1.55886223e-01 1.57607045e-01\n",
      " 1.58113169e-01 1.59429092e-01 1.59732766e-01 1.59833991e-01\n",
      " 1.60137666e-01 1.60340115e-01 1.60542565e-01 1.60643790e-01\n",
      " 1.61048689e-01 1.61453588e-01 1.63275635e-01 1.63376860e-01\n",
      " 1.63882984e-01 1.64287883e-01 1.66211155e-01 1.66514829e-01\n",
      " 1.66616054e-01 1.66717279e-01 1.67122178e-01 1.67223403e-01\n",
      " 1.67425853e-01 1.67628302e-01 1.68033202e-01 1.68336876e-01\n",
      " 1.68741775e-01 1.68843000e-01 1.69045450e-01 1.69551574e-01\n",
      " 1.69652799e-01 1.69754024e-01 1.69855249e-01 1.69956473e-01\n",
      " 1.70361373e-01 1.70462597e-01 1.71171171e-01 1.71373621e-01\n",
      " 1.71576070e-01 1.71778520e-01 1.72588319e-01 1.72891993e-01\n",
      " 1.73195668e-01 1.73803016e-01 1.73904241e-01 1.74106691e-01\n",
      " 1.74511590e-01 1.75118939e-01 1.75220164e-01 1.75422614e-01\n",
      " 1.76131187e-01 1.76232412e-01 1.76940986e-01 1.77548335e-01\n",
      " 1.77852009e-01 1.78256909e-01 1.79066707e-01 1.79370382e-01\n",
      " 1.79876506e-01 1.80078955e-01 1.81597328e-01 1.81799777e-01\n",
      " 1.82103452e-01 1.82407126e-01 1.83014475e-01 1.83216925e-01\n",
      " 1.84127948e-01 1.84532847e-01 1.84735297e-01 1.84937747e-01\n",
      " 1.85443871e-01 1.85545096e-01 1.85747545e-01 1.85848770e-01\n",
      " 1.86354894e-01 1.87569592e-01 1.88379391e-01 1.89087964e-01\n",
      " 1.89695313e-01 1.89897763e-01 1.90505112e-01 1.90606337e-01\n",
      " 1.91112461e-01 1.92124709e-01 1.92934508e-01 1.93035732e-01\n",
      " 1.93339407e-01 1.93440632e-01 1.93541856e-01 1.93845531e-01\n",
      " 1.93946756e-01 1.94857779e-01 1.94959004e-01 1.95262678e-01\n",
      " 1.95363903e-01 1.95566353e-01 1.95870027e-01 1.96072477e-01\n",
      " 1.96173702e-01 1.96578601e-01 1.96882276e-01 1.97185950e-01\n",
      " 1.98400648e-01 1.98906772e-01 1.99007997e-01 1.99210446e-01\n",
      " 1.99412896e-01 1.99514121e-01 1.99817795e-01 2.01133718e-01\n",
      " 2.01437392e-01 2.01842292e-01 2.02449641e-01 2.02550865e-01\n",
      " 2.02652090e-01 2.03056990e-01 2.03259439e-01 2.03866788e-01\n",
      " 2.03968013e-01 2.04474137e-01 2.04575362e-01 2.05081486e-01\n",
      " 2.05587610e-01 2.05992509e-01 2.06093734e-01 2.06194959e-01\n",
      " 2.06296184e-01 2.06599858e-01 2.06701083e-01 2.06802308e-01\n",
      " 2.06903533e-01 2.07207207e-01 2.07409657e-01 2.07713331e-01\n",
      " 2.08017006e-01 2.08421905e-01 2.08523130e-01 2.08826804e-01\n",
      " 2.09434153e-01 2.09535378e-01 2.09737828e-01 2.09940277e-01\n",
      " 2.10142727e-01 2.10243952e-01 2.10446401e-01 2.10547626e-01\n",
      " 2.10750076e-01 2.10851301e-01 2.11154975e-01 2.11661099e-01\n",
      " 2.11762324e-01 2.11964774e-01 2.12268448e-01 2.12673348e-01\n",
      " 2.13179472e-01 2.13786821e-01 2.13989270e-01 2.14090495e-01\n",
      " 2.14394169e-01 2.14495394e-01 2.14596619e-01 2.14799069e-01\n",
      " 2.14900294e-01 2.15102743e-01 2.15203968e-01 2.15406418e-01\n",
      " 2.15710092e-01 2.16114991e-01 2.16216216e-01 2.16317441e-01\n",
      " 2.16418666e-01 2.16519891e-01 2.17329689e-01 2.17734589e-01\n",
      " 2.18038263e-01 2.19050511e-01 2.19151736e-01 2.19252961e-01\n",
      " 2.19354186e-01 2.19455410e-01 2.19657860e-01 2.19759085e-01\n",
      " 2.20163984e-01 2.20467659e-01 2.20872558e-01 2.21581132e-01\n",
      " 2.21986031e-01 2.22492155e-01 2.22593380e-01 2.23099504e-01\n",
      " 2.23200729e-01 2.24010527e-01 2.24516651e-01 2.24820326e-01\n",
      " 2.25124000e-01 2.25528900e-01 2.25832574e-01 2.26439923e-01\n",
      " 2.26541148e-01 2.26642373e-01 2.27148497e-01 2.27553396e-01\n",
      " 2.27958295e-01 2.28059520e-01 2.28160745e-01 2.28565644e-01\n",
      " 2.28970544e-01 2.29172993e-01 2.29274218e-01 2.29476668e-01\n",
      " 2.29577892e-01 2.29780342e-01 2.30084017e-01 2.31399939e-01\n",
      " 2.31602389e-01 2.31804839e-01 2.31906063e-01 2.32108513e-01\n",
      " 2.32209738e-01 2.32918312e-01 2.33424436e-01 2.33525660e-01\n",
      " 2.33930560e-01 2.34841583e-01 2.34942808e-01 2.35044033e-01\n",
      " 2.35246482e-01 2.35448932e-01 2.35550157e-01 2.35651382e-01\n",
      " 2.35853831e-01 2.36056281e-01 2.36562405e-01 2.36866080e-01\n",
      " 2.36967304e-01 2.37270979e-01 2.37372204e-01 2.37777103e-01\n",
      " 2.38789351e-01 2.39295475e-01 2.39396700e-01 2.39497925e-01\n",
      " 2.39801599e-01 2.40105274e-01 2.40408948e-01 2.40712623e-01\n",
      " 2.41016297e-01 2.41218747e-01 2.41623646e-01 2.41724871e-01\n",
      " 2.41826096e-01 2.42939569e-01 2.43142018e-01 2.43243243e-01\n",
      " 2.43344468e-01 2.43850592e-01 2.43951817e-01 2.44255491e-01\n",
      " 2.44559166e-01 2.44761616e-01 2.45065290e-01 2.45267740e-01\n",
      " 2.45368964e-01 2.46077538e-01 2.46279988e-01 2.46381213e-01\n",
      " 2.46482437e-01 2.46583662e-01 2.46684887e-01 2.47089786e-01\n",
      " 2.47798360e-01 2.47899585e-01 2.48102035e-01 2.48203259e-01\n",
      " 2.48709384e-01 2.48911833e-01 2.49316732e-01 2.49417957e-01\n",
      " 2.49519182e-01 2.49924081e-01 2.50227756e-01 2.50328981e-01\n",
      " 2.50531430e-01 2.50936330e-01 2.51037554e-01 2.51138779e-01\n",
      " 2.51240004e-01 2.51543679e-01 2.51644903e-01 2.52049803e-01\n",
      " 2.52151027e-01 2.52252252e-01 2.52353477e-01 2.52657152e-01\n",
      " 2.52859601e-01 2.53062051e-01 2.53466950e-01 2.53568175e-01\n",
      " 2.54175524e-01 2.54276749e-01 2.54377973e-01 2.54479198e-01\n",
      " 2.54782873e-01 2.54985322e-01 2.55795121e-01 2.55896346e-01\n",
      " 2.56098795e-01 2.56200020e-01 2.56706144e-01 2.56807369e-01\n",
      " 2.57111044e-01 2.57414718e-01 2.57515943e-01 2.57718393e-01\n",
      " 2.57819617e-01 2.57920842e-01 2.58022067e-01 2.58123292e-01\n",
      " 2.58224517e-01 2.59236765e-01 2.59337990e-01 2.59540439e-01\n",
      " 2.59844114e-01 2.60147788e-01 2.60350238e-01 2.60856362e-01\n",
      " 2.61261261e-01 2.61362486e-01 2.61463711e-01 2.61666161e-01\n",
      " 2.62071060e-01 2.62172285e-01 2.62273509e-01 2.62577184e-01\n",
      " 2.62779634e-01 2.62982083e-01 2.63285758e-01 2.63690657e-01\n",
      " 2.64095556e-01 2.64196781e-01 2.64500456e-01 2.64601680e-01\n",
      " 2.64702905e-01 2.65107804e-01 2.65310254e-01 2.65715153e-01\n",
      " 2.65816378e-01 2.65917603e-01 2.66120053e-01 2.66322502e-01\n",
      " 2.66727402e-01 2.66828626e-01 2.66929851e-01 2.67132301e-01\n",
      " 2.67739650e-01 2.67840875e-01 2.68346999e-01 2.68650673e-01\n",
      " 2.68751898e-01 2.68954348e-01 2.69055572e-01 2.69561697e-01\n",
      " 2.69865371e-01 2.69966596e-01 2.70371495e-01 2.70573945e-01\n",
      " 2.70675170e-01 2.70877619e-01 2.70978844e-01 2.71181294e-01\n",
      " 2.71282518e-01 2.71586193e-01 2.71991092e-01 2.72092317e-01\n",
      " 2.72294767e-01 2.72497216e-01 2.73408240e-01 2.73610689e-01\n",
      " 2.73711914e-01 2.73813139e-01 2.74116813e-01 2.74319263e-01\n",
      " 2.74521713e-01 2.74622938e-01 2.75027837e-01 2.75129062e-01\n",
      " 2.75635186e-01 2.76343759e-01 2.76748659e-01 2.76849884e-01\n",
      " 2.77153558e-01 2.77558457e-01 2.77963357e-01 2.78368256e-01\n",
      " 2.78874380e-01 2.79380504e-01 2.79481729e-01 2.79886628e-01\n",
      " 2.79987853e-01 2.80089078e-01 2.80392752e-01 2.80898876e-01\n",
      " 2.81000101e-01 2.82518474e-01 2.82923373e-01 2.83125822e-01\n",
      " 2.83227047e-01 2.83328272e-01 2.83530722e-01 2.83733171e-01\n",
      " 2.84239295e-01 2.84340520e-01 2.84441745e-01 2.84745420e-01\n",
      " 2.84947869e-01 2.85251544e-01 2.85555218e-01 2.85757668e-01\n",
      " 2.85858893e-01 2.86365017e-01 2.86668691e-01 2.86769916e-01\n",
      " 2.87883389e-01 2.87984614e-01 2.88187063e-01 2.88389513e-01\n",
      " 2.88490738e-01 2.88693188e-01 2.88996862e-01 2.89705436e-01\n",
      " 2.90312785e-01 2.90616459e-01 2.90818909e-01 2.91021358e-01\n",
      " 2.91223808e-01 2.92438506e-01 2.92742180e-01 2.92843405e-01\n",
      " 2.93349529e-01 2.93450754e-01 2.93754429e-01 2.95272801e-01\n",
      " 2.95677700e-01 2.95880150e-01 2.96082599e-01 2.96285049e-01\n",
      " 2.96386274e-01 2.96993623e-01 2.97499747e-01 2.98714445e-01\n",
      " 2.99018119e-01 2.99423019e-01 3.00131592e-01 3.00840166e-01\n",
      " 3.02156089e-01 3.02459763e-01 3.04079360e-01 3.04281810e-01\n",
      " 3.04585484e-01 3.04889159e-01 3.05091608e-01 3.05294058e-01\n",
      " 3.05597733e-01 3.06205081e-01 3.07318555e-01 3.07925903e-01\n",
      " 3.08229578e-01 3.09241826e-01 3.09545501e-01 3.09849175e-01\n",
      " 3.10152849e-01 3.10557749e-01 3.10658974e-01 3.10861423e-01\n",
      " 3.12177346e-01 3.12885920e-01 3.13796943e-01 3.14809191e-01\n",
      " 3.15618990e-01 3.16023889e-01 3.16631238e-01 3.18655734e-01\n",
      " 3.18756959e-01 3.20680231e-01 3.21692479e-01 3.21793704e-01\n",
      " 3.22097378e-01 3.22299828e-01 3.23008402e-01 3.23109626e-01\n",
      " 3.24526774e-01 3.24729224e-01 3.25235348e-01 3.26956170e-01\n",
      " 3.27462294e-01 3.27664743e-01 3.28676992e-01 3.28778216e-01\n",
      " 3.29790465e-01 3.31106387e-01 3.31207612e-01 3.34952930e-01\n",
      " 3.35863954e-01 3.36268853e-01 3.36673752e-01 3.37483551e-01\n",
      " 3.39811722e-01 3.40216621e-01 3.40823970e-01 3.41431319e-01\n",
      " 3.41532544e-01 3.42139893e-01 3.42646017e-01 3.43354591e-01\n",
      " 3.49124405e-01 3.51958700e-01 3.53578297e-01 3.53983197e-01\n",
      " 3.54286871e-01 3.55299119e-01 3.59145663e-01 3.59348112e-01\n",
      " 3.59854236e-01 3.68255896e-01 3.69875493e-01 3.75240409e-01\n",
      " 3.75645308e-01 3.78074704e-01 3.78682053e-01 3.79694301e-01\n",
      " 3.79997976e-01 3.80301650e-01 3.82224922e-01 3.84755542e-01\n",
      " 3.87083713e-01 3.90525357e-01 3.93764551e-01 3.93967001e-01\n",
      " 4.00141715e-01 4.00242940e-01 4.04089483e-01 4.05709080e-01\n",
      " 4.05810305e-01 4.07328677e-01 4.07531127e-01 4.09049499e-01\n",
      " 4.09353173e-01 4.12491143e-01 4.12896042e-01 4.18362182e-01\n",
      " 4.19171981e-01 4.22411175e-01 4.31318959e-01 4.32938557e-01\n",
      " 4.38809596e-01 4.40530418e-01 4.46401458e-01 4.49235753e-01\n",
      " 4.60977832e-01 4.62192530e-01 4.64824375e-01 4.67051321e-01\n",
      " 4.70796639e-01 4.91547728e-01 5.15335560e-01 5.19890677e-01\n",
      " 5.35378075e-01 5.35884199e-01 5.38920943e-01 5.42261362e-01\n",
      " 5.55218139e-01 5.58761008e-01 5.60684280e-01 5.64328373e-01\n",
      " 5.70705537e-01 5.78601073e-01 5.86901508e-01 5.96214192e-01\n",
      " 6.04008503e-01 6.05020751e-01 6.11701589e-01 6.29820832e-01\n",
      " 6.43688632e-01 6.45207005e-01 6.55329487e-01 6.67678915e-01\n",
      " 6.82255289e-01 6.84178561e-01 7.08270068e-01 7.08978642e-01\n",
      " 7.33576273e-01 7.36005669e-01 7.56959206e-01 7.85403381e-01\n",
      " 7.90565847e-01 8.15163478e-01 8.29132503e-01 8.62637919e-01\n",
      " 8.65370989e-01 8.66484462e-01 8.68711408e-01 8.78935115e-01\n",
      " 9.28737726e-01 9.52728009e-01 9.59813746e-01 9.75503593e-01\n",
      " 9.86132200e-01 9.87245673e-01 9.88865270e-01 9.91902014e-01\n",
      " 9.99696326e-01] \n",
      "\n",
      "_Cash_Flow_Per_Share [0.16944896 0.20198769 0.20945038 0.21418972 0.22395133 0.22773573\n",
      " 0.2348801  0.23625946 0.24959327 0.25153852 0.25390818 0.25963783\n",
      " 0.26186603 0.26306854 0.26420033 0.26710052 0.26869209 0.26918724\n",
      " 0.27173375 0.2737851  0.27385584 0.27399731 0.27498762 0.27608404\n",
      " 0.27661456 0.27668529 0.27714508 0.27813539 0.27947938 0.28025748\n",
      " 0.28061116 0.28121242 0.2815661  0.28195515 0.28206126 0.28220273\n",
      " 0.28283936 0.28344062 0.28436019 0.28489071 0.28559808 0.28591639\n",
      " 0.2862347  0.28658839 0.2869067  0.28729575 0.28800311 0.28860437\n",
      " 0.28927637 0.29044352 0.29058499 0.29083257 0.29164604 0.29171677\n",
      " 0.29192898 0.29217656 0.29221193 0.29270708 0.29320223 0.29352055\n",
      " 0.29355592 0.29369739 0.2939096  0.29398033 0.29408644 0.29433402\n",
      " 0.2946877  0.29497064 0.29500601 0.29507675 0.29539506 0.2955719\n",
      " 0.29581948 0.29613779 0.29649148 0.29666832 0.29677442 0.29684516\n",
      " 0.29688053 0.29719884 0.29726958 0.29744642 0.29748178 0.29751715\n",
      " 0.29758789 0.29829525 0.29840136 0.29843673 0.2985782  0.29864894\n",
      " 0.29871967 0.29886114 0.29889651 0.29896725 0.29907335 0.29917946\n",
      " 0.29921483 0.2994624  0.29978072 0.29985145 0.29992219 0.29995756\n",
      " 0.30045271 0.30052345 0.30055882 0.30087713 0.30098324 0.30137229\n",
      " 0.30140765 0.30144302 0.30151376 0.30161986 0.30204428 0.30207965\n",
      " 0.30215039 0.30222112 0.30229186 0.30232723 0.30253944 0.30271628\n",
      " 0.30303459 0.30306996 0.30310533 0.3032468  0.30331754 0.30338827\n",
      " 0.30342364 0.30349438 0.30352975 0.30360048 0.30377732 0.30381269\n",
      " 0.30384806 0.30395416 0.3040249  0.30416637 0.30420174 0.30423711\n",
      " 0.30437858 0.30441395 0.30455542 0.30459079 0.30473226 0.30494447\n",
      " 0.30505058 0.30512131 0.30519205 0.30529815 0.30536889 0.30543963\n",
      " 0.305475   0.30575794 0.30579331 0.30593478 0.30597015 0.30600552\n",
      " 0.30607625 0.30611162 0.30614699 0.30618236 0.30632383 0.30642994\n",
      " 0.3064653  0.30650067 0.30653604 0.30657141 0.30660678 0.30674825\n",
      " 0.30681899 0.30696046 0.30699583 0.30706656 0.30710193 0.30717267\n",
      " 0.30720804 0.30727877 0.30742024 0.30745561 0.30752635 0.30756172\n",
      " 0.30763245 0.30766782 0.30770319 0.30777393 0.30780929 0.30784466\n",
      " 0.30788003 0.3079154  0.30798614 0.3080215  0.30816298 0.30823371\n",
      " 0.30830445 0.30833982 0.30848129 0.30851666 0.30855203 0.30858739\n",
      " 0.30887034 0.30897644 0.30911792 0.30925939 0.30929476 0.30936549\n",
      " 0.30950697 0.30964844 0.30971918 0.30975454 0.30982528 0.30986065\n",
      " 0.30989602 0.31000212 0.31003749 0.31007286 0.31010823 0.3102497\n",
      " 0.31028507 0.31032044 0.31049728 0.31056801 0.31063875 0.31067412\n",
      " 0.31070949 0.31074485 0.31078022 0.31088633 0.31095706 0.31099243\n",
      " 0.31106317 0.31109854 0.3111339  0.31120464 0.31127538 0.31131074\n",
      " 0.31141685 0.31145222 0.31148759 0.31152295 0.31159369 0.31162906\n",
      " 0.31166443 0.3116998  0.31173516 0.31177053 0.3118059  0.31187664\n",
      " 0.311912   0.31194737 0.31201811 0.31208885 0.31212421 0.31219495\n",
      " 0.31223032 0.31237179 0.31240716 0.31244253 0.3124779  0.31251326\n",
      " 0.31254863 0.312584   0.31261937 0.31265474 0.3126901  0.31272547\n",
      " 0.31283158 0.31286695 0.31290231 0.31293768 0.31297305 0.31300842\n",
      " 0.31304379 0.31307915 0.31311452 0.31314989 0.31318526 0.31322063\n",
      " 0.313256   0.31332673 0.3133621  0.31339747 0.31343284 0.3134682\n",
      " 0.31353894 0.31360968 0.31364505 0.31368041 0.31375115 0.31382189\n",
      " 0.31389262 0.31392799 0.31396336 0.31399873 0.3140341  0.31406946\n",
      " 0.31410483 0.31417557 0.31428167 0.31435241 0.31438778 0.31442315\n",
      " 0.31445851 0.31449388 0.31452925 0.31456462 0.31459999 0.31463535\n",
      " 0.31467072 0.31470609 0.31474146 0.3148122  0.31484756 0.31488293\n",
      " 0.31495367 0.31498904 0.3150244  0.31509514 0.31513051 0.31520125\n",
      " 0.31523661 0.31527198 0.31530735 0.31534272 0.31537809 0.31541345\n",
      " 0.31544882 0.31548419 0.31551956 0.31555493 0.3155903  0.31562566\n",
      " 0.31566103 0.3156964  0.31573177 0.31576714 0.31583787 0.31590861\n",
      " 0.31594398 0.31597935 0.31601471 0.31605008 0.31608545 0.31612082\n",
      " 0.31615619 0.31619155 0.31622692 0.31626229 0.31629766 0.31633303\n",
      " 0.3163684  0.31640376 0.31643913 0.3164745  0.31650987 0.31654524\n",
      " 0.3165806  0.31661597 0.31665134 0.31668671 0.31672208 0.31679281\n",
      " 0.31682818 0.31686355 0.31689892 0.31693429 0.31696965 0.31700502\n",
      " 0.31707576 0.31711113 0.31714649 0.31718186 0.31721723 0.3172526\n",
      " 0.31728797 0.31732334 0.3173587  0.31739407 0.31742944 0.31746481\n",
      " 0.31753554 0.31757091 0.31760628 0.31764165 0.31767702 0.31771239\n",
      " 0.31774775 0.31778312 0.31781849 0.31785386 0.31788923 0.31792459\n",
      " 0.31795996 0.31799533 0.3180307  0.31806607 0.31810144 0.3181368\n",
      " 0.31817217 0.31820754 0.31824291 0.31827828 0.31831364 0.31834901\n",
      " 0.31838438 0.31841975 0.31845512 0.31849049 0.31852585 0.31856122\n",
      " 0.31859659 0.31863196 0.31866733 0.31870269 0.31873806 0.31877343\n",
      " 0.3188088  0.31884417 0.31887954 0.3189149  0.31895027 0.31898564\n",
      " 0.31902101 0.31905638 0.31909174 0.31912711 0.31916248 0.31919785\n",
      " 0.31923322 0.31926859 0.31930395 0.31933932 0.31937469 0.31941006\n",
      " 0.31944543 0.31948079 0.31951616 0.31955153 0.3195869  0.31962227\n",
      " 0.31965764 0.319693   0.31972837 0.31976374 0.31979911 0.31983448\n",
      " 0.31990521 0.31994058 0.31997595 0.32001132 0.32004669 0.32008205\n",
      " 0.32011742 0.32015279 0.32018816 0.32022353 0.32025889 0.32029426\n",
      " 0.32032963 0.320365   0.32040037 0.32043574 0.3204711  0.32050647\n",
      " 0.32057721 0.32061258 0.32064794 0.32068331 0.32071868 0.32075405\n",
      " 0.32078942 0.32082479 0.32086015 0.32089552 0.32093089 0.32096626\n",
      " 0.32100163 0.32103699 0.32107236 0.32110773 0.3211431  0.32117847\n",
      " 0.32121384 0.3212492  0.32128457 0.32131994 0.32139068 0.32142604\n",
      " 0.32146141 0.32149678 0.32153215 0.32156752 0.32160289 0.32163825\n",
      " 0.32167362 0.32170899 0.32174436 0.32177973 0.32181509 0.32185046\n",
      " 0.32188583 0.3219212  0.32195657 0.32199194 0.3220273  0.32206267\n",
      " 0.32209804 0.32213341 0.32216878 0.32220414 0.32223951 0.32227488\n",
      " 0.32231025 0.32238099 0.32241635 0.32245172 0.32248709 0.32252246\n",
      " 0.32255783 0.32259319 0.32262856 0.32266393 0.3226993  0.32273467\n",
      " 0.32277004 0.3228054  0.32284077 0.32287614 0.32291151 0.32294688\n",
      " 0.32298225 0.32301761 0.32305298 0.32308835 0.32312372 0.32315909\n",
      " 0.32319445 0.32322982 0.32326519 0.32330056 0.32333593 0.3233713\n",
      " 0.32340666 0.32344203 0.3234774  0.32351277 0.32354814 0.32361887\n",
      " 0.32365424 0.32368961 0.32372498 0.32376035 0.32379571 0.32383108\n",
      " 0.32386645 0.32390182 0.32393719 0.32400792 0.32404329 0.32407866\n",
      " 0.32411403 0.3241494  0.32422013 0.3242555  0.32429087 0.32432624\n",
      " 0.3243616  0.32439697 0.32446771 0.32450308 0.32453845 0.32457381\n",
      " 0.32460918 0.32464455 0.32467992 0.32471529 0.32478602 0.32482139\n",
      " 0.32485676 0.32489213 0.32499823 0.3250336  0.32510434 0.3251397\n",
      " 0.32517507 0.32521044 0.32524581 0.32528118 0.32531655 0.32535191\n",
      " 0.32538728 0.32542265 0.32545802 0.32549339 0.32552875 0.32556412\n",
      " 0.32559949 0.32563486 0.32567023 0.3257056  0.32577633 0.3258117\n",
      " 0.32584707 0.32588244 0.3259178  0.32595317 0.32598854 0.32605928\n",
      " 0.32609465 0.32613001 0.32616538 0.32620075 0.32623612 0.32627149\n",
      " 0.32630685 0.32634222 0.32637759 0.32641296 0.32644833 0.3264837\n",
      " 0.32651906 0.32655443 0.3265898  0.32662517 0.32666054 0.3266959\n",
      " 0.32673127 0.32676664 0.32680201 0.32683738 0.32687275 0.32690811\n",
      " 0.32694348 0.32701422 0.32708495 0.32715569 0.32719106 0.32722643\n",
      " 0.32729716 0.32733253 0.3273679  0.32740327 0.32743864 0.32750937\n",
      " 0.32754474 0.32758011 0.32761548 0.32768621 0.32772158 0.32775695\n",
      " 0.32779232 0.32782769 0.32786305 0.32793379 0.32796916 0.3280399\n",
      " 0.32811063 0.328146   0.32818137 0.32821674 0.3282521  0.32828747\n",
      " 0.32832284 0.32835821 0.32839358 0.32842895 0.32846431 0.32849968\n",
      " 0.32853505 0.32857042 0.32860579 0.32864115 0.32871189 0.32874726\n",
      " 0.32878263 0.32881799 0.32885336 0.32888873 0.3289241  0.32895947\n",
      " 0.32899484 0.32906557 0.32910094 0.32913631 0.32917168 0.32924241\n",
      " 0.32927778 0.32938389 0.32948999 0.32952536 0.32956073 0.32959609\n",
      " 0.32963146 0.3297022  0.32977294 0.32987904 0.32994978 0.33002051\n",
      " 0.33012662 0.33019735 0.33023272 0.33026809 0.33030346 0.33033883\n",
      " 0.33040956 0.33051567 0.33062177 0.33065714 0.33069251 0.33072788\n",
      " 0.33076324 0.33079861 0.33083398 0.33086935 0.33090472 0.33094009\n",
      " 0.33097545 0.33101082 0.33108156 0.33111693 0.33115229 0.33118766\n",
      " 0.33122303 0.33129377 0.33139987 0.33143524 0.33154134 0.33157671\n",
      " 0.33161208 0.33164745 0.33171819 0.33175355 0.33182429 0.33185966\n",
      " 0.33189503 0.33193039 0.33196576 0.33200113 0.33210724 0.3321426\n",
      " 0.33228408 0.33242555 0.33246092 0.33249629 0.33260239 0.33267313\n",
      " 0.33274386 0.33288534 0.3329207  0.33295607 0.33299144 0.33309754\n",
      " 0.33327439 0.33330975 0.33341586 0.33345123 0.33348659 0.33355733\n",
      " 0.3335927  0.33362807 0.33366344 0.33373417 0.33376954 0.33380491\n",
      " 0.33387564 0.33391101 0.33401712 0.33412322 0.33415859 0.33430006\n",
      " 0.33433543 0.33444154 0.33454764 0.33461838 0.33475985 0.33483059\n",
      " 0.33490132 0.33518427 0.33529037 0.33532574 0.33536111 0.33553795\n",
      " 0.33557332 0.33560869 0.33564405 0.33589163 0.335927   0.33596237\n",
      " 0.33599774 0.33606847 0.33613921 0.33617458 0.33620995 0.33638679\n",
      " 0.33645752 0.33656363 0.33666973 0.33684657 0.33691731 0.33698805\n",
      " 0.33709415 0.33716489 0.33723562 0.33734173 0.33741246 0.33751857\n",
      " 0.33769541 0.33780151 0.33783688 0.33787225 0.33797836 0.33811983\n",
      " 0.33822593 0.33829667 0.33833204 0.33836741 0.33840277 0.33843814\n",
      " 0.33847351 0.33857961 0.33868572 0.33879182 0.33886256 0.3390394\n",
      " 0.33946382 0.33949919 0.3397114  0.33988824 0.33992361 0.34002971\n",
      " 0.34017118 0.34034802 0.34056023 0.34066634 0.34070171 0.34077244\n",
      " 0.3412676  0.3413737  0.34155054 0.34165665 0.34169201 0.34183349\n",
      " 0.34201033 0.34208106 0.3421518  0.34218717 0.3422579  0.34268232\n",
      " 0.34285916 0.34296527 0.34307137 0.34331895 0.34342505 0.34346042\n",
      " 0.34353116 0.343708   0.34392021 0.34473368 0.34508736 0.34519346\n",
      " 0.3452642  0.3453703  0.34554715 0.34597156 0.34600693 0.34646672\n",
      " 0.34650209 0.3469265  0.34717408 0.34763387 0.34777534 0.34809366\n",
      " 0.34865955 0.34876565 0.34901323 0.34936691 0.35000354 0.35102921\n",
      " 0.3522671  0.35258541 0.35290373 0.3538233  0.3562637  0.35654665\n",
      " 0.3608262  0.36121525 0.36181651 0.36298366 0.3630544  0.36517649\n",
      " 0.36673269 0.36687416 0.36832425 0.37019877 0.37235623 0.37953597\n",
      " 0.38537172 0.38558393 0.42173021 0.43824715 0.44815024 0.46222678\n",
      "        nan] \n",
      "\n",
      "_Per_Share_Net_profit_before_tax_Yuan_ [0.         0.05023725 0.05430444 0.06748513 0.07614672 0.07946072\n",
      " 0.08028922 0.08172027 0.08277472 0.08488363 0.0855615  0.08872486\n",
      " 0.08940273 0.09038186 0.09151164 0.09173759 0.09377118 0.09806432\n",
      " 0.09851623 0.09889282 0.09972132 0.10145364 0.10431573 0.10627401\n",
      " 0.10770505 0.10793101 0.10860887 0.10921142 0.11169692 0.11290201\n",
      " 0.11312797 0.1132786  0.11583942 0.11802365 0.11855088 0.11922874\n",
      " 0.12103638 0.12118701 0.12141297 0.12239211 0.12314529 0.12472697\n",
      " 0.12502824 0.12510356 0.12713715 0.12758906 0.12819161 0.12849288\n",
      " 0.12879415 0.12886947 0.12894479 0.12902011 0.12909543 0.12924606\n",
      " 0.12969797 0.12977329 0.13007457 0.13045116 0.13143029 0.13150561\n",
      " 0.13173157 0.13203284 0.13225879 0.13278602 0.13308729 0.13331325\n",
      " 0.13361452 0.13368984 0.13384048 0.13451834 0.13481961 0.13512089\n",
      " 0.13542216 0.13572343 0.13579875 0.13617534 0.13647661 0.13655193\n",
      " 0.13692852 0.13753107 0.1380583  0.13835957 0.13851021 0.13873616\n",
      " 0.13881148 0.13926339 0.13941402 0.13963998 0.13994125 0.14016721\n",
      " 0.14046848 0.14099571 0.14114634 0.14122166 0.1413723  0.1422008\n",
      " 0.14227612 0.14257739 0.14265271 0.14272803 0.14280334 0.1430293\n",
      " 0.14325525 0.14340589 0.14363185 0.1438578  0.14438503 0.14461098\n",
      " 0.14498757 0.14513821 0.14536416 0.14611735 0.14619266 0.14626798\n",
      " 0.14641862 0.14671989 0.14694585 0.14709648 0.14724712 0.14732244\n",
      " 0.14747307 0.14754839 0.14769903 0.14792498 0.1480003  0.14822626\n",
      " 0.14830157 0.14852753 0.14860285 0.14867817 0.14875348 0.14897944\n",
      " 0.14928071 0.14935603 0.14950667 0.14958198 0.14988326 0.15003389\n",
      " 0.15010921 0.15041048 0.15063644 0.15071176 0.15078707 0.15093771\n",
      " 0.15101303 0.15108835 0.15116367 0.1513143  0.15154026 0.15169089\n",
      " 0.15176621 0.15184153 0.15191685 0.15199217 0.15206749 0.1521428\n",
      " 0.15221812 0.15229344 0.15244408 0.15251939 0.15259471 0.15267003\n",
      " 0.15274535 0.15289599 0.1529713  0.15304662 0.15327258 0.1533479\n",
      " 0.15357385 0.15372449 0.15387512 0.15410108 0.15432703 0.15440235\n",
      " 0.15447767 0.15455299 0.1546283  0.15477894 0.15485426 0.15492958\n",
      " 0.1550049  0.15515553 0.15545681 0.15553212 0.15560744 0.15575808\n",
      " 0.1558334  0.15590871 0.15598403 0.15605935 0.15613467 0.15636062\n",
      " 0.15643594 0.15658658 0.1566619  0.15673722 0.15681253 0.15688785\n",
      " 0.15696317 0.15703849 0.15711381 0.15718912 0.15733976 0.15741508\n",
      " 0.1574904  0.15756571 0.15764103 0.15771635 0.15779167 0.15786699\n",
      " 0.15794231 0.15801762 0.15809294 0.15816826 0.15839422 0.15846953\n",
      " 0.15854485 0.15862017 0.15869549 0.15877081 0.15884613 0.15892144\n",
      " 0.15907208 0.1591474  0.15922272 0.15937335 0.15959931 0.15967462\n",
      " 0.15974994 0.15982526 0.15990058 0.1599759  0.16005122 0.16012653\n",
      " 0.16020185 0.16035249 0.16050313 0.16057844 0.16065376 0.16072908\n",
      " 0.1608044  0.16087972 0.16095503 0.16103035 0.16110567 0.16118099\n",
      " 0.16125631 0.16133163 0.16140694 0.16148226 0.16155758 0.1616329\n",
      " 0.16170822 0.16178354 0.16185885 0.16193417 0.16200949 0.16208481\n",
      " 0.16216013 0.16231076 0.1624614  0.16253672 0.16261204 0.16268735\n",
      " 0.16283799 0.16291331 0.16298863 0.16306394 0.16313926 0.16321458\n",
      " 0.1632899  0.16336522 0.16344054 0.16351585 0.16359117 0.16366649\n",
      " 0.16374181 0.16381713 0.16396776 0.16404308 0.1641184  0.16419372\n",
      " 0.16426904 0.16434435 0.16449499 0.16457031 0.16464563 0.16472095\n",
      " 0.16479626 0.16487158 0.1649469  0.16502222 0.16509754 0.16517286\n",
      " 0.16524817 0.16532349 0.16539881 0.16547413 0.16554945 0.16562477\n",
      " 0.16570008 0.1657754  0.16585072 0.16592604 0.16600136 0.16607667\n",
      " 0.16615199 0.16622731 0.16630263 0.16637795 0.16645326 0.16652858\n",
      " 0.1666039  0.16667922 0.16690517 0.16698049 0.16713113 0.16720645\n",
      " 0.16728176 0.16735708 0.1674324  0.16750772 0.16758304 0.16765836\n",
      " 0.16773367 0.16780899 0.16788431 0.16795963 0.16811027 0.16818558\n",
      " 0.1682609  0.16833622 0.16841154 0.16848686 0.16856218 0.16863749\n",
      " 0.16871281 0.16878813 0.16893877 0.16901409 0.16916472 0.16924004\n",
      " 0.16931536 0.16939068 0.16946599 0.16954131 0.16961663 0.16969195\n",
      " 0.16976727 0.1699179  0.16999322 0.17006854 0.17014386 0.17021918\n",
      " 0.17029449 0.17036981 0.17044513 0.17052045 0.17059577 0.17067109\n",
      " 0.1707464  0.17082172 0.17089704 0.17097236 0.17104768 0.17112299\n",
      " 0.17119831 0.17127363 0.17134895 0.17142427 0.17149959 0.1715749\n",
      " 0.17165022 0.17172554 0.17187618 0.1719515  0.17202681 0.17210213\n",
      " 0.17217745 0.17225277 0.17232809 0.1724034  0.17247872 0.17255404\n",
      " 0.17262936 0.17270468 0.17277999 0.17285531 0.17293063 0.17300595\n",
      " 0.17308127 0.17315659 0.1732319  0.17330722 0.17338254 0.17345786\n",
      " 0.17353318 0.1736085  0.17368381 0.17375913 0.17383445 0.17390977\n",
      " 0.17398509 0.17406041 0.17413572 0.17421104 0.17428636 0.17436168\n",
      " 0.174437   0.17451232 0.17458763 0.17466295 0.17473827 0.17481359\n",
      " 0.17488891 0.17496422 0.17503954 0.17511486 0.17519018 0.1752655\n",
      " 0.17534082 0.17541613 0.17549145 0.17556677 0.17564209 0.17571741\n",
      " 0.17579272 0.17586804 0.17594336 0.17601868 0.176094   0.17616931\n",
      " 0.17624463 0.17631995 0.17639527 0.17647059 0.17654591 0.17662122\n",
      " 0.17669654 0.17677186 0.17684718 0.1769225  0.17699782 0.17714845\n",
      " 0.17722377 0.17729909 0.17737441 0.17744973 0.17752504 0.17760036\n",
      " 0.17767568 0.177751   0.17782632 0.17790163 0.17797695 0.17805227\n",
      " 0.17812759 0.17820291 0.17827823 0.17835354 0.17842886 0.17850418\n",
      " 0.1785795  0.17865482 0.17873014 0.17880545 0.17888077 0.17895609\n",
      " 0.17903141 0.17910673 0.17918204 0.17925736 0.17933268 0.179408\n",
      " 0.17948332 0.17955863 0.17963395 0.17970927 0.17978459 0.17985991\n",
      " 0.17993523 0.18001054 0.18008586 0.18016118 0.1802365  0.18031182\n",
      " 0.18038714 0.18046245 0.18053777 0.18061309 0.18068841 0.18076373\n",
      " 0.18083905 0.18091436 0.18098968 0.181065   0.18114032 0.18121564\n",
      " 0.18129095 0.18136627 0.18144159 0.18151691 0.18159223 0.18166755\n",
      " 0.18174286 0.18181818 0.1818935  0.18196882 0.18204414 0.18211946\n",
      " 0.18219477 0.18227009 0.18234541 0.18242073 0.18249605 0.18257136\n",
      " 0.18264668 0.182722   0.18279732 0.18287264 0.18294795 0.18302327\n",
      " 0.18309859 0.18317391 0.18324923 0.18332455 0.18339986 0.18347518\n",
      " 0.1835505  0.18362582 0.18370114 0.18377646 0.18385177 0.18392709\n",
      " 0.18400241 0.18407773 0.18415305 0.18422837 0.18430368 0.184379\n",
      " 0.18445432 0.18452964 0.18460496 0.18468027 0.18475559 0.18483091\n",
      " 0.18490623 0.18498155 0.18505686 0.18513218 0.1852075  0.18528282\n",
      " 0.18535814 0.18543346 0.18550877 0.18558409 0.18565941 0.18573473\n",
      " 0.18588537 0.18596068 0.186036   0.18611132 0.18618664 0.18626196\n",
      " 0.18641259 0.18648791 0.18656323 0.18663855 0.18671387 0.18678918\n",
      " 0.1868645  0.18693982 0.18709046 0.18716578 0.18724109 0.18731641\n",
      " 0.18739173 0.18746705 0.18754237 0.18761769 0.18784364 0.18791896\n",
      " 0.18799428 0.18814491 0.18822023 0.18837087 0.18844618 0.1885215\n",
      " 0.18859682 0.18874746 0.18882278 0.18889809 0.18897341 0.18904873\n",
      " 0.18912405 0.18919937 0.18927469 0.18935    0.18942532 0.18950064\n",
      " 0.18957596 0.18965128 0.18972659 0.18987723 0.18995255 0.1901785\n",
      " 0.19025382 0.19032914 0.19040446 0.1905551  0.19063041 0.19070573\n",
      " 0.19078105 0.19093169 0.19108232 0.19115764 0.19123296 0.19130828\n",
      " 0.1913836  0.19153423 0.19168487 0.1918355  0.19191082 0.19198614\n",
      " 0.19206146 0.19213678 0.19228741 0.19236273 0.19243805 0.19251337\n",
      " 0.19258869 0.192664   0.19273932 0.19281464 0.19288996 0.19296528\n",
      " 0.19311591 0.19319123 0.19326655 0.19341719 0.19349251 0.19356782\n",
      " 0.19364314 0.19379378 0.1938691  0.19401973 0.19409505 0.19417037\n",
      " 0.19424569 0.19432101 0.19439632 0.19447164 0.19462228 0.19477292\n",
      " 0.19492355 0.19499887 0.19507419 0.1955261  0.19560142 0.19567673\n",
      " 0.19575205 0.19582737 0.19597801 0.19605333 0.19627928 0.1963546\n",
      " 0.19642992 0.19658055 0.19665587 0.19673119 0.19680651 0.19688183\n",
      " 0.19703246 0.19710778 0.1971831  0.19725842 0.19740905 0.19755969\n",
      " 0.19771033 0.19793628 0.1980116  0.19808692 0.19831287 0.19838819\n",
      " 0.19846351 0.19853883 0.19876478 0.19891542 0.19906605 0.19944265\n",
      " 0.19959328 0.1996686  0.19974392 0.20004519 0.20012051 0.20019583\n",
      " 0.20027115 0.20034646 0.20042178 0.20057242 0.20064774 0.20072306\n",
      " 0.20079837 0.20087369 0.20102433 0.20109965 0.20117496 0.2013256\n",
      " 0.20140092 0.20147624 0.20155155 0.20192815 0.20200346 0.20207878\n",
      " 0.2021541  0.20222942 0.20230474 0.20238006 0.20253069 0.20260601\n",
      " 0.20283197 0.20305792 0.20350983 0.20358515 0.20373578 0.20418769\n",
      " 0.20456428 0.20479024 0.20494087 0.20516683 0.20531747 0.20539278\n",
      " 0.20554342 0.20584469 0.20592001 0.20599533 0.20607065 0.20614597\n",
      " 0.20622129 0.2062966  0.20637192 0.20659788 0.20667319 0.20674851\n",
      " 0.20689915 0.20704978 0.2075017  0.20765233 0.20780297 0.20810424\n",
      " 0.20817956 0.20833019 0.20840551 0.2087821  0.20893274 0.20908338\n",
      " 0.20923401 0.20930933 0.20961061 0.20968592 0.2099872  0.21006251\n",
      " 0.21013783 0.21021315 0.21036379 0.2104391  0.21089101 0.21111697\n",
      " 0.21126761 0.21156888 0.21171951 0.21179483 0.21194547 0.21202079\n",
      " 0.21209611 0.21217142 0.21299993 0.21307524 0.21352715 0.21450629\n",
      " 0.21458161 0.21465693 0.21473224 0.21480756 0.21510883 0.21518415\n",
      " 0.21525947 0.21541011 0.21571138 0.2157867  0.21608797 0.21623861\n",
      " 0.21631393 0.21638925 0.21669052 0.21699179 0.21706711 0.21729306\n",
      " 0.21759434 0.21766965 0.21774497 0.21789561 0.21797093 0.21812156\n",
      " 0.21857347 0.21872411 0.21887475 0.21895006 0.21932666 0.21962793\n",
      " 0.21970325 0.22068238 0.22113429 0.22173684 0.22339384 0.22377043\n",
      " 0.22392107 0.22429766 0.22452361 0.22497552 0.22512616 0.22535211\n",
      " 0.22542743 0.2257287  0.22587934 0.2261053  0.22640657 0.22663252\n",
      " 0.22768698 0.22821421 0.22828952 0.22844016 0.22874143 0.22956993\n",
      " 0.23002184 0.2302478  0.23032311 0.23047375 0.23160353 0.23175416\n",
      " 0.23250734 0.23265798 0.23303457 0.23423966 0.2343903  0.23461625\n",
      " 0.23506816 0.23544475 0.23627325 0.23808089 0.24026512 0.24071703\n",
      " 0.24109362 0.24342849 0.24357912 0.24403103 0.24478421 0.24689312\n",
      " 0.24711908 0.2529939  0.25321985 0.25412367 0.25419899 0.25781426\n",
      " 0.26466822 0.26557204 0.26617459 0.26632522 0.29675378 0.3063192\n",
      " 0.31068766 0.31889734 0.37900128 0.45575055 0.68260902 0.79234767] \n",
      "\n",
      "_Realized_Sales_Gross_Profit_Growth_Rate [0.00428205 0.00718254 0.00988899 ... 0.0789097  0.08345484 1.        ] \n",
      "\n",
      "_Operating_Profit_Growth_Rate [0.73643014 0.81364348 0.82057143 ... 0.88391159 0.89242328 1.        ] \n",
      "\n",
      "_Continuous_Net_Profit_Growth_Rate [0.         0.09575877 0.1616514  ... 0.22893922 0.22921733 0.23320456] \n",
      "\n",
      "_Total_Asset_Growth_Rate [0.000000e+00 1.002510e-04 1.002590e-04 1.003080e-04 1.004680e-04\n",
      " 1.005490e-04 1.007180e-04 1.007820e-04 1.008150e-04 1.009270e-04\n",
      " 1.011200e-04 1.012010e-04 1.013300e-04 1.014340e-04 1.015390e-04\n",
      " 1.015470e-04 1.015630e-04 1.015710e-04 1.016270e-04 1.016590e-04\n",
      " 1.017000e-04 1.017480e-04 1.020700e-04 1.020940e-04 1.021180e-04\n",
      " 1.022710e-04 1.024320e-04 1.024400e-04 1.025200e-04 1.026330e-04\n",
      " 1.026410e-04 1.028260e-04 1.028830e-04 1.029630e-04 1.031560e-04\n",
      " 1.033010e-04 1.036390e-04 1.038000e-04 1.038400e-04 1.038970e-04\n",
      " 1.039130e-04 1.039850e-04 1.040820e-04 1.041700e-04 1.042510e-04\n",
      " 1.042910e-04 1.043550e-04 1.044920e-04 1.045160e-04 1.045480e-04\n",
      " 1.045560e-04 1.048620e-04 1.051440e-04 1.052160e-04 1.054500e-04\n",
      " 1.056510e-04 1.056670e-04 1.058680e-04 1.059000e-04 1.059970e-04\n",
      " 1.060130e-04 1.061340e-04 1.070910e-04 1.072520e-04 1.072920e-04\n",
      " 1.074530e-04 1.078880e-04 1.079440e-04 1.082340e-04 1.084750e-04\n",
      " 1.085800e-04 1.088050e-04 1.088620e-04 1.090550e-04 1.090790e-04\n",
      " 1.090870e-04 1.092240e-04 1.093360e-04 1.094330e-04 1.099000e-04\n",
      " 1.101170e-04 1.101650e-04 1.101730e-04 1.104150e-04 1.106560e-04\n",
      " 1.108330e-04 1.112600e-04 1.114290e-04 1.114450e-04 1.116860e-04\n",
      " 1.118070e-04 1.119680e-04 1.128210e-04 1.130860e-04 1.131110e-04\n",
      " 1.131750e-04 1.131910e-04 1.132800e-04 1.133040e-04 1.134000e-04\n",
      " 1.136820e-04 1.140040e-04 1.142770e-04 1.142930e-04 1.143660e-04\n",
      " 1.143740e-04 1.145830e-04 1.147600e-04 1.148330e-04 1.150580e-04\n",
      " 1.156450e-04 1.158550e-04 1.159350e-04 1.161760e-04 1.163370e-04\n",
      " 1.167480e-04 1.168520e-04 1.170210e-04 1.171020e-04 1.172550e-04\n",
      " 1.176970e-04 1.184060e-04 1.184620e-04 1.186070e-04 1.193390e-04\n",
      " 1.195000e-04 1.195320e-04 1.203290e-04 1.208680e-04 1.217930e-04\n",
      " 1.219700e-04 1.222040e-04 1.224530e-04 1.228230e-04 1.230090e-04\n",
      " 1.232180e-04 1.234830e-04 1.237570e-04 1.239820e-04 1.242320e-04\n",
      " 1.244090e-04 1.244330e-04 1.244810e-04 1.248830e-04 1.255920e-04\n",
      " 1.261390e-04 1.264930e-04 1.269680e-04 1.274670e-04 1.274990e-04\n",
      " 1.275630e-04 1.282710e-04 1.283840e-04 1.296150e-04 1.305490e-04\n",
      " 1.308950e-04 1.310070e-04 1.322060e-04 1.325520e-04 1.331480e-04\n",
      " 1.333010e-04 1.336790e-04 1.343070e-04 1.345800e-04 1.350310e-04\n",
      " 1.356510e-04 1.364230e-04 1.365600e-04 1.367770e-04 1.370270e-04\n",
      " 1.372040e-04 1.382740e-04 1.398750e-04 1.399960e-04 1.400760e-04\n",
      " 1.404630e-04 1.416700e-04 1.417500e-04 1.423300e-04 1.429900e-04\n",
      " 1.431500e-04 1.431910e-04 1.461840e-04 1.474150e-04 1.478740e-04\n",
      " 1.493470e-04 1.498300e-04 1.500550e-04 1.502320e-04 1.517770e-04\n",
      " 1.525980e-04 1.528310e-04 1.535880e-04 1.543120e-04 1.572410e-04\n",
      " 1.579650e-04 1.588580e-04 1.599770e-04 1.606050e-04 1.629060e-04\n",
      " 1.632520e-04 1.633890e-04 1.652800e-04 1.678150e-04 1.692230e-04\n",
      " 1.694240e-04 1.695770e-04 1.701970e-04 1.708330e-04 1.711630e-04\n",
      " 1.715890e-04 1.741160e-04 1.759990e-04 1.818570e-04 1.828230e-04\n",
      " 1.832570e-04 1.849310e-04 1.875790e-04 1.877640e-04 1.879250e-04\n",
      " 1.890030e-04 1.948770e-04 1.959560e-04 1.990780e-04 2.011620e-04\n",
      " 2.025790e-04 2.042680e-04 2.097570e-04 2.144240e-04 2.150190e-04\n",
      " 2.196630e-04 2.291900e-04 2.339060e-04 2.376400e-04 2.403040e-04\n",
      " 2.444560e-04 2.511190e-04 2.755500e-04 2.831380e-04 3.076420e-04\n",
      " 3.087280e-04 3.372880e-04 3.561420e-04 3.580170e-04 3.588060e-04\n",
      " 3.657180e-04 4.109990e-04 4.831580e-04 5.005640e-04 5.663650e-04\n",
      " 6.275480e-04 7.223670e-04 8.352440e-04 9.101150e-04 9.433820e-04\n",
      " 1.018799e-03 2.468217e-03 4.343505e-03 5.830000e+05 6.000000e+06\n",
      " 4.760000e+07 5.860000e+07 5.930000e+07 5.970000e+07 6.040000e+07\n",
      " 6.070000e+07 6.690000e+07 6.720000e+07 6.790000e+07 7.000000e+07\n",
      " 7.070000e+07 7.970000e+07 8.970000e+07 1.750000e+08 1.800000e+08\n",
      " 2.490000e+08 2.570000e+08 3.060000e+08 3.860000e+08 4.210000e+08\n",
      " 4.390000e+08 4.400000e+08 4.430000e+08 4.630000e+08 4.840000e+08\n",
      " 4.920000e+08 5.150000e+08 5.210000e+08 5.220000e+08 5.260000e+08\n",
      " 5.310000e+08 5.330000e+08 5.340000e+08 5.380000e+08 5.540000e+08\n",
      " 5.550000e+08 5.570000e+08 5.590000e+08 5.640000e+08 5.700000e+08\n",
      " 5.770000e+08 5.800000e+08 5.810000e+08 5.820000e+08 5.840000e+08\n",
      " 5.860000e+08 5.930000e+08 6.010000e+08 6.080000e+08 6.090000e+08\n",
      " 6.100000e+08 6.130000e+08 6.160000e+08 6.170000e+08 6.190000e+08\n",
      " 6.210000e+08 6.220000e+08 6.240000e+08 6.250000e+08 6.260000e+08\n",
      " 6.280000e+08 6.290000e+08 6.310000e+08 6.330000e+08 6.340000e+08\n",
      " 6.370000e+08 6.380000e+08 6.410000e+08 6.420000e+08 6.440000e+08\n",
      " 6.450000e+08 6.480000e+08 6.530000e+08 6.540000e+08 6.550000e+08\n",
      " 6.570000e+08 6.580000e+08 6.590000e+08 6.640000e+08 6.660000e+08\n",
      " 6.680000e+08 6.710000e+08 6.750000e+08 6.770000e+08 6.790000e+08\n",
      " 6.820000e+08 6.860000e+08 6.880000e+08 6.910000e+08 6.950000e+08\n",
      " 7.040000e+08 7.120000e+08 7.130000e+08 7.150000e+08 7.160000e+08\n",
      " 7.170000e+08 7.190000e+08 7.210000e+08 7.220000e+08 7.270000e+08\n",
      " 7.280000e+08 7.290000e+08 7.300000e+08 7.350000e+08 7.380000e+08\n",
      " 7.400000e+08 7.410000e+08 7.430000e+08 7.520000e+08 7.540000e+08\n",
      " 7.570000e+08 7.580000e+08 7.590000e+08 7.770000e+08 7.820000e+08\n",
      " 7.860000e+08 7.910000e+08 7.950000e+08 8.240000e+08 8.310000e+08\n",
      " 8.410000e+08 8.420000e+08 8.460000e+08 8.510000e+08 8.560000e+08\n",
      " 8.670000e+08 8.700000e+08 8.750000e+08 8.790000e+08 8.890000e+08\n",
      " 8.910000e+08 9.130000e+08 9.170000e+08 9.190000e+08 9.200000e+08\n",
      " 9.220000e+08 9.250000e+08 9.280000e+08 9.470000e+08 9.770000e+08\n",
      " 9.980000e+08 1.860000e+09 2.000000e+09 2.010000e+09 2.100000e+09\n",
      " 2.210000e+09 2.230000e+09 2.410000e+09 2.440000e+09 2.590000e+09\n",
      " 2.620000e+09 2.720000e+09 2.800000e+09 2.810000e+09 3.000000e+09\n",
      " 3.080000e+09 3.100000e+09 3.110000e+09 3.130000e+09 3.140000e+09\n",
      " 3.260000e+09 3.320000e+09 3.370000e+09 3.430000e+09 3.440000e+09\n",
      " 3.450000e+09 3.550000e+09 3.560000e+09 3.590000e+09 3.620000e+09\n",
      " 3.670000e+09 3.700000e+09 3.730000e+09 3.740000e+09 3.830000e+09\n",
      " 3.860000e+09 3.870000e+09 3.880000e+09 3.900000e+09 3.910000e+09\n",
      " 3.930000e+09 3.940000e+09 3.950000e+09 3.970000e+09 3.990000e+09\n",
      " 4.000000e+09 4.020000e+09 4.030000e+09 4.060000e+09 4.070000e+09\n",
      " 4.100000e+09 4.120000e+09 4.140000e+09 4.170000e+09 4.180000e+09\n",
      " 4.190000e+09 4.220000e+09 4.280000e+09 4.310000e+09 4.330000e+09\n",
      " 4.360000e+09 4.370000e+09 4.390000e+09 4.400000e+09 4.410000e+09\n",
      " 4.430000e+09 4.450000e+09 4.480000e+09 4.490000e+09 4.510000e+09\n",
      " 4.550000e+09 4.560000e+09 4.570000e+09 4.600000e+09 4.610000e+09\n",
      " 4.630000e+09 4.660000e+09 4.670000e+09 4.680000e+09 4.690000e+09\n",
      " 4.700000e+09 4.710000e+09 4.720000e+09 4.730000e+09 4.740000e+09\n",
      " 4.770000e+09 4.780000e+09 4.790000e+09 4.810000e+09 4.820000e+09\n",
      " 4.830000e+09 4.840000e+09 4.850000e+09 4.860000e+09 4.880000e+09\n",
      " 4.910000e+09 4.930000e+09 4.940000e+09 4.960000e+09 4.970000e+09\n",
      " 4.980000e+09 5.000000e+09 5.010000e+09 5.020000e+09 5.030000e+09\n",
      " 5.040000e+09 5.050000e+09 5.060000e+09 5.070000e+09 5.090000e+09\n",
      " 5.100000e+09 5.110000e+09 5.120000e+09 5.130000e+09 5.140000e+09\n",
      " 5.150000e+09 5.160000e+09 5.190000e+09 5.200000e+09 5.210000e+09\n",
      " 5.230000e+09 5.240000e+09 5.250000e+09 5.260000e+09 5.270000e+09\n",
      " 5.280000e+09 5.290000e+09 5.300000e+09 5.310000e+09 5.330000e+09\n",
      " 5.340000e+09 5.350000e+09 5.360000e+09 5.370000e+09 5.380000e+09\n",
      " 5.390000e+09 5.400000e+09 5.420000e+09 5.430000e+09 5.440000e+09\n",
      " 5.450000e+09 5.460000e+09 5.470000e+09 5.480000e+09 5.490000e+09\n",
      " 5.500000e+09 5.510000e+09 5.520000e+09 5.530000e+09 5.550000e+09\n",
      " 5.560000e+09 5.570000e+09 5.580000e+09 5.590000e+09 5.600000e+09\n",
      " 5.610000e+09 5.620000e+09 5.630000e+09 5.640000e+09 5.650000e+09\n",
      " 5.660000e+09 5.670000e+09 5.680000e+09 5.690000e+09 5.700000e+09\n",
      " 5.710000e+09 5.720000e+09 5.730000e+09 5.740000e+09 5.750000e+09\n",
      " 5.760000e+09 5.770000e+09 5.780000e+09 5.790000e+09 5.800000e+09\n",
      " 5.810000e+09 5.820000e+09 5.830000e+09 5.840000e+09 5.850000e+09\n",
      " 5.860000e+09 5.870000e+09 5.880000e+09 5.890000e+09 5.900000e+09\n",
      " 5.910000e+09 5.920000e+09 5.930000e+09 5.940000e+09 5.950000e+09\n",
      " 5.960000e+09 5.970000e+09 5.980000e+09 5.990000e+09 6.000000e+09\n",
      " 6.010000e+09 6.020000e+09 6.030000e+09 6.040000e+09 6.050000e+09\n",
      " 6.060000e+09 6.070000e+09 6.080000e+09 6.090000e+09 6.100000e+09\n",
      " 6.110000e+09 6.120000e+09 6.130000e+09 6.140000e+09 6.150000e+09\n",
      " 6.160000e+09 6.170000e+09 6.180000e+09 6.200000e+09 6.210000e+09\n",
      " 6.220000e+09 6.230000e+09 6.240000e+09 6.250000e+09 6.260000e+09\n",
      " 6.270000e+09 6.280000e+09 6.290000e+09 6.300000e+09 6.310000e+09\n",
      " 6.320000e+09 6.330000e+09 6.340000e+09 6.350000e+09 6.360000e+09\n",
      " 6.370000e+09 6.380000e+09 6.390000e+09 6.400000e+09 6.410000e+09\n",
      " 6.420000e+09 6.430000e+09 6.440000e+09 6.450000e+09 6.460000e+09\n",
      " 6.470000e+09 6.480000e+09 6.490000e+09 6.500000e+09 6.510000e+09\n",
      " 6.520000e+09 6.530000e+09 6.540000e+09 6.550000e+09 6.560000e+09\n",
      " 6.570000e+09 6.580000e+09 6.590000e+09 6.600000e+09 6.610000e+09\n",
      " 6.620000e+09 6.630000e+09 6.640000e+09 6.650000e+09 6.660000e+09\n",
      " 6.670000e+09 6.680000e+09 6.690000e+09 6.700000e+09 6.710000e+09\n",
      " 6.720000e+09 6.730000e+09 6.740000e+09 6.750000e+09 6.760000e+09\n",
      " 6.770000e+09 6.780000e+09 6.790000e+09 6.800000e+09 6.810000e+09\n",
      " 6.820000e+09 6.830000e+09 6.840000e+09 6.850000e+09 6.860000e+09\n",
      " 6.870000e+09 6.880000e+09 6.890000e+09 6.900000e+09 6.910000e+09\n",
      " 6.920000e+09 6.930000e+09 6.940000e+09 6.950000e+09 6.960000e+09\n",
      " 6.970000e+09 6.980000e+09 6.990000e+09 7.000000e+09 7.010000e+09\n",
      " 7.020000e+09 7.030000e+09 7.040000e+09 7.050000e+09 7.060000e+09\n",
      " 7.070000e+09 7.080000e+09 7.090000e+09 7.100000e+09 7.110000e+09\n",
      " 7.120000e+09 7.130000e+09 7.140000e+09 7.150000e+09 7.160000e+09\n",
      " 7.170000e+09 7.180000e+09 7.190000e+09 7.200000e+09 7.210000e+09\n",
      " 7.220000e+09 7.230000e+09 7.240000e+09 7.250000e+09 7.260000e+09\n",
      " 7.270000e+09 7.280000e+09 7.290000e+09 7.300000e+09 7.310000e+09\n",
      " 7.330000e+09 7.340000e+09 7.350000e+09 7.360000e+09 7.370000e+09\n",
      " 7.380000e+09 7.390000e+09 7.400000e+09 7.410000e+09 7.420000e+09\n",
      " 7.430000e+09 7.440000e+09 7.450000e+09 7.460000e+09 7.470000e+09\n",
      " 7.480000e+09 7.490000e+09 7.500000e+09 7.510000e+09 7.520000e+09\n",
      " 7.530000e+09 7.540000e+09 7.550000e+09 7.560000e+09 7.570000e+09\n",
      " 7.580000e+09 7.590000e+09 7.600000e+09 7.610000e+09 7.620000e+09\n",
      " 7.630000e+09 7.640000e+09 7.650000e+09 7.660000e+09 7.670000e+09\n",
      " 7.680000e+09 7.690000e+09 7.700000e+09 7.720000e+09 7.730000e+09\n",
      " 7.740000e+09 7.750000e+09 7.760000e+09 7.770000e+09 7.780000e+09\n",
      " 7.800000e+09 7.810000e+09 7.820000e+09 7.840000e+09 7.850000e+09\n",
      " 7.860000e+09 7.870000e+09 7.880000e+09 7.890000e+09 7.900000e+09\n",
      " 7.910000e+09 7.920000e+09 7.930000e+09 7.940000e+09 7.950000e+09\n",
      " 7.960000e+09 7.970000e+09 7.980000e+09 7.990000e+09 8.000000e+09\n",
      " 8.010000e+09 8.020000e+09 8.030000e+09 8.050000e+09 8.060000e+09\n",
      " 8.070000e+09 8.080000e+09 8.090000e+09 8.100000e+09 8.110000e+09\n",
      " 8.120000e+09 8.130000e+09 8.140000e+09 8.150000e+09 8.160000e+09\n",
      " 8.170000e+09 8.180000e+09 8.190000e+09 8.200000e+09 8.220000e+09\n",
      " 8.230000e+09 8.270000e+09 8.280000e+09 8.290000e+09 8.300000e+09\n",
      " 8.330000e+09 8.340000e+09 8.360000e+09 8.370000e+09 8.380000e+09\n",
      " 8.390000e+09 8.400000e+09 8.420000e+09 8.430000e+09 8.440000e+09\n",
      " 8.450000e+09 8.480000e+09 8.490000e+09 8.500000e+09 8.510000e+09\n",
      " 8.520000e+09 8.530000e+09 8.540000e+09 8.550000e+09 8.560000e+09\n",
      " 8.570000e+09 8.580000e+09 8.590000e+09 8.600000e+09 8.620000e+09\n",
      " 8.630000e+09 8.640000e+09 8.650000e+09 8.670000e+09 8.690000e+09\n",
      " 8.700000e+09 8.720000e+09 8.730000e+09 8.750000e+09 8.770000e+09\n",
      " 8.800000e+09 8.810000e+09 8.820000e+09 8.830000e+09 8.840000e+09\n",
      " 8.850000e+09 8.860000e+09 8.870000e+09 8.880000e+09 8.890000e+09\n",
      " 8.900000e+09 8.910000e+09 8.930000e+09 8.950000e+09 8.980000e+09\n",
      " 8.990000e+09 9.000000e+09 9.030000e+09 9.040000e+09 9.060000e+09\n",
      " 9.070000e+09 9.080000e+09 9.090000e+09 9.100000e+09 9.110000e+09\n",
      " 9.120000e+09 9.160000e+09 9.180000e+09 9.190000e+09 9.200000e+09\n",
      " 9.220000e+09 9.230000e+09 9.260000e+09 9.290000e+09 9.310000e+09\n",
      " 9.340000e+09 9.350000e+09 9.360000e+09 9.390000e+09 9.400000e+09\n",
      " 9.410000e+09 9.420000e+09 9.440000e+09 9.450000e+09 9.460000e+09\n",
      " 9.480000e+09 9.490000e+09 9.500000e+09 9.540000e+09 9.550000e+09\n",
      " 9.570000e+09 9.630000e+09 9.640000e+09 9.650000e+09 9.660000e+09\n",
      " 9.680000e+09 9.690000e+09 9.700000e+09 9.710000e+09 9.720000e+09\n",
      " 9.730000e+09 9.750000e+09 9.790000e+09 9.800000e+09 9.820000e+09\n",
      " 9.840000e+09 9.880000e+09 9.890000e+09 9.900000e+09 9.920000e+09\n",
      " 9.970000e+09 9.980000e+09] \n",
      "\n",
      "_Net_Value_Growth_Rate [0.0000000e+00 1.2175200e-04 1.5424300e-04 ... 3.0295943e-02 1.3500000e+09\n",
      " 9.3300000e+09] \n",
      "\n",
      "_Total_Asset_Return_Growth_Rate_Ratio [0.25161977 0.25615156 0.25789915 ... 0.27928371 0.28452417 0.35862881] \n",
      "\n",
      "_Cash_Reinvestment_perc [0.02582802 0.1887411  0.20648448 ... 0.49306099 0.66639656 1.        ] \n",
      "\n",
      "_Current_Ratio [0.00000000e+00 1.62870000e-04 1.92823000e-04 ... 7.12629914e-01\n",
      " 1.00000000e+00 2.75000000e+09] \n",
      "\n",
      "_Quick_Ratio [0.00000e+00 1.00438e-04 1.01062e-04 ... 8.48000e+09 8.92000e+09\n",
      " 9.23000e+09] \n",
      "\n",
      "_Interest_Expense_Ratio [0.52512637 0.53862618 0.58739572 ... 0.70473487 0.7268808  0.81216524] \n",
      "\n",
      "_Total_debt_to_Total_net_worth [0.00000e+00 1.55026e-04 2.04270e-04 ... 5.93000e+09 9.94000e+09\n",
      "         nan] \n",
      "\n",
      "_Long_term_fund_suitability_ratio_A [0.00412885 0.00417095 0.00447685 ... 0.43890881 0.92393001 1.        ] \n",
      "\n",
      "_Net_profit_before_tax_to_Paid_in_capital [0.         0.05243948 0.05712993 ... 0.31128874 0.31806802 0.79210467] \n",
      "\n",
      "_Total_Asset_Turnover [0.         0.00149925 0.0029985  0.00449775 0.005997   0.00749625\n",
      " 0.0089955  0.01049475 0.011994   0.01349325 0.0149925  0.01649175\n",
      " 0.017991   0.01949026 0.0209895  0.02248876 0.02398801 0.02548726\n",
      " 0.02698651 0.02848576 0.02998501 0.03148426 0.03298351 0.03448276\n",
      " 0.03598201 0.03748126 0.03898051 0.04047976 0.04197901 0.04347826\n",
      " 0.04497751 0.04647676 0.04797601 0.04947526 0.05097451 0.05247376\n",
      " 0.05397301 0.05547226 0.05697151 0.05847077 0.05997002 0.06146927\n",
      " 0.06296852 0.06446777 0.06596702 0.06746627 0.06896552 0.07046477\n",
      " 0.07196402 0.07346327 0.07496252 0.07646177 0.07796102 0.07946027\n",
      " 0.08095952 0.08245877 0.08395802 0.08545727 0.08695652 0.08845577\n",
      " 0.08995502 0.09145427 0.09295352 0.09445277 0.09595202 0.09745127\n",
      " 0.09895052 0.10044978 0.10194902 0.10344828 0.10494753 0.10644678\n",
      " 0.10794603 0.10944528 0.11094453 0.11244378 0.11394303 0.11544228\n",
      " 0.11694153 0.11844078 0.11994003 0.12143928 0.12293853 0.12443778\n",
      " 0.12593703 0.12743628 0.12893553 0.13043478 0.13193403 0.13343328\n",
      " 0.13493253 0.13643178 0.13793103 0.13943028 0.14092953 0.14242879\n",
      " 0.14392804 0.14542729 0.14692654 0.14842579 0.14992504 0.15142429\n",
      " 0.15292354 0.15442279 0.15592204 0.15742129 0.15892054 0.16041979\n",
      " 0.16191904 0.16341829 0.16491754 0.16641679 0.16791604 0.16941529\n",
      " 0.17091454 0.17241379 0.17391304 0.17541229 0.17691154 0.1784108\n",
      " 0.17991004 0.18140929 0.18290855 0.1844078  0.18590705 0.1874063\n",
      " 0.18890555 0.1904048  0.19190405 0.1934033  0.19490255 0.1964018\n",
      " 0.19790105 0.1994003  0.20089955 0.2023988  0.20389805 0.2053973\n",
      " 0.20689655 0.2083958  0.20989505 0.2113943  0.21289355 0.2143928\n",
      " 0.21589205 0.2173913  0.21889055 0.2203898  0.22188906 0.22338831\n",
      " 0.22488756 0.22638681 0.22788606 0.22938531 0.23088456 0.23238381\n",
      " 0.23388306 0.23538231 0.23688156 0.23988006 0.24137931 0.24287856\n",
      " 0.24437781 0.24587706 0.24737631 0.24887556 0.25037481 0.25187406\n",
      " 0.25337331 0.25487256 0.25637181 0.25787106 0.25937032 0.26086957\n",
      " 0.26236882 0.26386807 0.26536732 0.26686657 0.26836582 0.26986507\n",
      " 0.27136432 0.27286357 0.27436282 0.27586207 0.27736132 0.27886057\n",
      " 0.28035982 0.28185907 0.28635682 0.28785607 0.28935532 0.29085457\n",
      " 0.29235382 0.29535232 0.29835082 0.29985007 0.30134933 0.30434783\n",
      " 0.30584708 0.30734633 0.30884558 0.31034483 0.31184408 0.31334333\n",
      " 0.31484258 0.31784108 0.31934033 0.32083958 0.32233883 0.32383808\n",
      " 0.32533733 0.32683658 0.32983508 0.33283358 0.33433283 0.33583208\n",
      " 0.33733133 0.33883059 0.34032984 0.34182908 0.34482759 0.34632684\n",
      " 0.34782609 0.34932534 0.35232384 0.35382309 0.35532234 0.35682159\n",
      " 0.35832084 0.36131934 0.36431784 0.36581709 0.36731634 0.36881559\n",
      " 0.37331334 0.37481259 0.37931034 0.3808096  0.38230885 0.3838081\n",
      " 0.38830585 0.3928036  0.3958021  0.39730135 0.3988006  0.4047976\n",
      " 0.40629685 0.4107946  0.4137931  0.41529235 0.44527736 0.44827586\n",
      " 0.44977511 0.45127436 0.45577211 0.45727136 0.46026987 0.46176912\n",
      " 0.46476762 0.46626687 0.47376312 0.47676162 0.47826087 0.48275862\n",
      " 0.48575712 0.50824588 0.52173913 0.53823089 0.54422789 0.55772114\n",
      " 0.56671664 0.56971514 0.57571214 0.58470765 0.59370315 0.62218891\n",
      " 0.62968516 0.63568216 0.65067466 0.66716642 0.74662669 0.80809595\n",
      " 0.91904048] \n",
      "\n",
      "_Accounts_Receivable_Turnover [0.00000e+00 1.50143e-04 1.62316e-04 ... 7.91000e+09 9.33000e+09\n",
      " 9.74000e+09] \n",
      "\n",
      "_Average_Collection_Days [0.00000e+00 1.00761e-04 1.09300e-04 ... 7.94000e+09 8.37000e+09\n",
      " 8.80000e+09] \n",
      "\n",
      "_Inventory_Turnover_Rate_times [0.00000e+00 1.00122e-04 1.00313e-04 ... 9.95000e+09 9.97000e+09\n",
      " 9.99000e+09] \n",
      "\n",
      "_Fixed_Assets_Turnover_Frequency [0.00000e+00 1.00614e-04 1.01371e-04 ... 9.83000e+09 9.91000e+09\n",
      " 9.99000e+09] \n",
      "\n",
      "_Net_Worth_Turnover_Rate_times [0.00887097 0.00903226 0.00919355 0.00935484 0.00951613 0.00967742\n",
      " 0.00983871 0.01       0.01016129 0.01032258 0.01048387 0.01064516\n",
      " 0.01080645 0.01096774 0.01129032 0.01145161 0.0116129  0.01177419\n",
      " 0.01193548 0.01209677 0.01225807 0.01241935 0.01258064 0.01274193\n",
      " 0.01290323 0.01306452 0.01322581 0.0133871  0.01354839 0.01370968\n",
      " 0.01387097 0.01403226 0.01419355 0.01435484 0.01451613 0.01467742\n",
      " 0.01483871 0.015      0.01516129 0.01532258 0.01548387 0.01564516\n",
      " 0.01580645 0.01596774 0.01612903 0.01629032 0.01645161 0.0166129\n",
      " 0.01677419 0.01693548 0.01709677 0.01725806 0.01741936 0.01758064\n",
      " 0.01774194 0.01790323 0.01806452 0.01822581 0.0183871  0.01854839\n",
      " 0.01870968 0.01887097 0.01903226 0.01919355 0.01935484 0.01951613\n",
      " 0.01967742 0.01983871 0.02       0.02016129 0.02032258 0.02048387\n",
      " 0.02064516 0.02080645 0.02096774 0.02112903 0.02129032 0.02145161\n",
      " 0.0216129  0.02177419 0.02193548 0.02209677 0.02225807 0.02241935\n",
      " 0.02258064 0.02274194 0.02290323 0.02306452 0.02322581 0.0233871\n",
      " 0.02354839 0.02370968 0.02387097 0.02403226 0.02419355 0.02435484\n",
      " 0.02451613 0.02467742 0.02483871 0.025      0.02516129 0.02532258\n",
      " 0.02548387 0.02564516 0.02580645 0.02596774 0.02612903 0.02629032\n",
      " 0.02645161 0.0266129  0.02677419 0.02693548 0.02709677 0.02725807\n",
      " 0.02741935 0.02758065 0.02774193 0.02790323 0.02806452 0.02822581\n",
      " 0.0283871  0.02854839 0.02870968 0.02887097 0.02903226 0.02919355\n",
      " 0.02935484 0.02951613 0.02967742 0.02983871 0.03       0.03016129\n",
      " 0.03032258 0.03048387 0.03064516 0.03080645 0.03096774 0.03112903\n",
      " 0.03129032 0.03145161 0.0316129  0.03177419 0.03193548 0.03209677\n",
      " 0.03225807 0.03241935 0.03258064 0.03274193 0.03290323 0.03306452\n",
      " 0.03322581 0.0333871  0.03354839 0.03370968 0.03387097 0.03403226\n",
      " 0.03419355 0.03435484 0.03451613 0.03467742 0.03483871 0.035\n",
      " 0.03516129 0.03532258 0.03548387 0.03564516 0.03580645 0.03596774\n",
      " 0.03612903 0.03629032 0.03645161 0.0366129  0.03677419 0.03693548\n",
      " 0.03709677 0.03725806 0.03741936 0.03758065 0.03774193 0.03790323\n",
      " 0.03806452 0.03822581 0.0383871  0.03854839 0.03870968 0.03887097\n",
      " 0.03903226 0.03919355 0.03935484 0.03951613 0.03967742 0.03983871\n",
      " 0.04       0.04016129 0.04032258 0.04048387 0.04064516 0.04080645\n",
      " 0.04096774 0.04112903 0.04129032 0.04145161 0.0416129  0.04177419\n",
      " 0.04193548 0.04209677 0.04225806 0.04258065 0.04274194 0.04290323\n",
      " 0.04306452 0.04322581 0.0433871  0.04354839 0.04370968 0.04387097\n",
      " 0.04403226 0.04419355 0.04435484 0.04451613 0.04467742 0.04483871\n",
      " 0.045      0.04516129 0.04532258 0.04548387 0.04564516 0.04580645\n",
      " 0.04596774 0.04612903 0.04629032 0.04645161 0.0466129  0.04693548\n",
      " 0.04709677 0.04725807 0.04741936 0.04758064 0.04774193 0.04806452\n",
      " 0.04822581 0.0483871  0.04854839 0.04870968 0.04887097 0.04903226\n",
      " 0.04919355 0.04935484 0.04951613 0.04967742 0.04983871 0.05\n",
      " 0.05016129 0.05032258 0.05048387 0.05064516 0.05080645 0.05096774\n",
      " 0.05112903 0.05129032 0.05145161 0.0516129  0.05193548 0.05209677\n",
      " 0.05225806 0.05241936 0.05274193 0.05290323 0.05306452 0.05322581\n",
      " 0.0533871  0.05354839 0.05370968 0.05387097 0.05419355 0.05435484\n",
      " 0.05451613 0.05467742 0.05483871 0.055      0.05532258 0.05548387\n",
      " 0.05564516 0.05580645 0.05596774 0.05612903 0.05629032 0.05645161\n",
      " 0.0566129  0.05677419 0.05693548 0.05709677 0.05741935 0.05758064\n",
      " 0.05774194 0.05790323 0.05806452 0.05822581 0.0583871  0.05854839\n",
      " 0.05887097 0.05903226 0.05919355 0.05935484 0.05951613 0.05967742\n",
      " 0.05983871 0.06016129 0.06032258 0.06048387 0.06064516 0.06080645\n",
      " 0.06096774 0.06112903 0.0616129  0.06177419 0.06193548 0.06209677\n",
      " 0.06225807 0.06258065 0.06274193 0.06290323 0.06306452 0.06322581\n",
      " 0.0633871  0.06354839 0.06370968 0.06387097 0.06403226 0.06435484\n",
      " 0.06451613 0.06467742 0.06483871 0.065      0.06516129 0.06532258\n",
      " 0.06548387 0.06580645 0.06596774 0.06645161 0.0666129  0.06677419\n",
      " 0.06693548 0.06709677 0.06741936 0.06774194 0.06822581 0.0683871\n",
      " 0.06870968 0.06887097 0.06903226 0.06919355 0.06967742 0.06983871\n",
      " 0.07016129 0.07032258 0.07048387 0.07080645 0.07096774 0.07112903\n",
      " 0.0716129  0.07209677 0.07225806 0.07258064 0.07306452 0.0733871\n",
      " 0.07354839 0.07387097 0.07435484 0.07564516 0.07612903 0.07645161\n",
      " 0.0766129  0.07677419 0.07709677 0.07725807 0.07758065 0.07774193\n",
      " 0.07790323 0.07806452 0.07854839 0.07903226 0.07919355 0.07967742\n",
      " 0.07983871 0.08       0.08032258 0.08064516 0.08080645 0.08096774\n",
      " 0.08112903 0.08129032 0.08145161 0.08193548 0.08209677 0.08225807\n",
      " 0.08290323 0.08306452 0.08322581 0.08387097 0.08403226 0.08467742\n",
      " 0.08483871 0.08516129 0.08548387 0.08612903 0.08629032 0.08709677\n",
      " 0.08758064 0.08806452 0.0883871  0.08919355 0.08951613 0.08967742\n",
      " 0.09016129 0.09080645 0.09112903 0.09145161 0.09177419 0.09193548\n",
      " 0.09241935 0.09258065 0.09274193 0.09290323 0.09306452 0.09403226\n",
      " 0.09451613 0.09467742 0.09629032 0.09709677 0.09725807 0.09790323\n",
      " 0.0983871  0.09854839 0.09870968 0.09935484 0.09967742 0.1\n",
      " 0.10048387 0.10064516 0.10080645 0.10112903 0.10145161 0.10209677\n",
      " 0.10241936 0.10258064 0.10306452 0.10322581 0.10435484 0.10483871\n",
      " 0.105      0.10516129 0.10564516 0.10580645 0.10596774 0.10629032\n",
      " 0.10919355 0.10983871 0.11048387 0.11290323 0.115      0.11548387\n",
      " 0.11580645 0.11596774 0.11790323 0.11806452 0.1183871  0.11983871\n",
      " 0.12129032 0.12322581 0.1233871  0.12548387 0.12564516 0.12709677\n",
      " 0.13       0.13016129 0.13129032 0.1316129  0.13258064 0.135\n",
      " 0.13548387 0.13629032 0.13725807 0.13967742 0.14048387 0.14080645\n",
      " 0.14290323 0.1433871  0.14435484 0.14774193 0.14919355 0.14967742\n",
      " 0.15209677 0.15467742 0.15483871 0.15758064 0.15806452 0.15887097\n",
      " 0.15983871 0.16       0.16032258 0.1616129  0.16483871 0.17016129\n",
      " 0.18048387 0.18096774 0.18177419 0.19290323 0.1933871  0.19790323\n",
      " 0.19935484 0.20032258 0.2016129  0.20532258 0.21725807 0.22225807\n",
      " 0.22951613 0.23532258 0.23548387 0.23870968 0.25629032 0.26790323\n",
      " 0.29467742 0.31467742 0.34758065 0.39612903 0.40483871 0.6766129\n",
      " 1.        ] \n",
      "\n",
      "_Operating_profit_per_person [0.         0.05091472 0.10928066 ... 0.92725176 0.97817779 1.        ] \n",
      "\n",
      "_Allocation_rate_per_person [0.00000e+00 1.09274e-04 1.20282e-04 ... 2.32000e+07 3.48000e+09\n",
      " 8.28000e+09] \n",
      "\n",
      "_Quick_Assets_to_Total_Assets [0.         0.00146895 0.00613057 ... 0.96397208 0.97898107 0.98894397] \n",
      "\n",
      "_Cash_to_Total_Assets [1.84151000e-04 3.14902000e-04 3.79422000e-04 ... 8.20797648e-01\n",
      " 9.25017983e-01            nan] \n",
      "\n",
      "_Quick_Assets_to_Current_Liability [0.00000e+00 1.19993e-04 1.20447e-04 ... 7.54000e+09 8.14000e+09\n",
      " 8.82000e+09] \n",
      "\n",
      "_Cash_to_Current_Liability [1.00856e-04 1.03120e-04 1.04236e-04 ... 9.01000e+09 9.06000e+09\n",
      " 9.17000e+09] \n",
      "\n",
      "_Operating_Funds_to_Liability [0.02627405 0.08626659 0.10617828 ... 0.77629738 0.83571706 1.        ] \n",
      "\n",
      "_Inventory_to_Working_Capital [0.         0.07539709 0.24207451 ... 0.34239979 0.466868   1.        ] \n",
      "\n",
      "_Inventory_to_Current_Liability [0.00000e+00 1.20832e-04 1.22932e-04 ... 8.88000e+09 9.07000e+09\n",
      " 9.60000e+09] \n",
      "\n",
      "_Long_term_Liability_to_Current_Assets [0.00000e+00 1.00844e-04 1.02016e-04 ... 8.75000e+09 8.92000e+09\n",
      " 9.31000e+09] \n",
      "\n",
      "_Retained_Earnings_to_Total_Assets [0.         0.71899344 0.72919562 ... 0.97145538 0.97260218 0.97276876] \n",
      "\n",
      "_Total_income_to_Total_expense [0.         0.00097119 0.00152042 ... 0.00913249 0.00927702 0.01028413] \n",
      "\n",
      "_Total_expense_to_Assets [8.52812000e-04 1.82010000e-03 1.83477700e-03 ... 2.62269161e-01\n",
      " 4.63482795e-01 1.00000000e+00] \n",
      "\n",
      "_Current_Asset_Turnover_Rate [0.00000e+00 1.00468e-04 1.00645e-04 ... 9.93000e+09 9.95000e+09\n",
      " 9.99000e+09] \n",
      "\n",
      "_Quick_Asset_Turnover_Rate [0.00000e+00 1.00060e-04 1.00126e-04 ... 9.98000e+09 9.99000e+09\n",
      " 1.00000e+10] \n",
      "\n",
      "_Cash_Turnover_Rate [1.00031e-04 1.00462e-04 1.00862e-04 ... 9.90000e+09 9.93000e+09\n",
      " 9.99000e+09] \n",
      "\n",
      "_Fixed_Assets_to_Assets [0.00000000e+00 1.02343000e-04 1.80814000e-04 ... 9.98724948e-01\n",
      " 1.00000000e+00 8.32000000e+09] \n",
      "\n",
      "_Cash_Flow_to_Total_Assets [0.         0.16767754 0.28480413 ... 0.92882077 0.97041108 1.        ] \n",
      "\n",
      "_Cash_Flow_to_Liability [0.03258251 0.07396897 0.13233921 ... 0.82379269 0.85140618 0.90511984] \n",
      "\n",
      "_CFO_to_Assets [0.         0.22703005 0.29195323 ... 0.91563352 0.96708608 0.97519732] \n",
      "\n",
      "_Cash_Flow_to_Equity [0.         0.16534193 0.20231186 ... 0.35919787 0.48536713 0.56923068] \n",
      "\n",
      "_Current_Liability_to_Current_Assets [0.00000000e+00 1.22444000e-04 2.14397000e-04 ... 9.16814253e-01\n",
      " 1.00000000e+00            nan] \n",
      "\n",
      "_Liability_Assets_Flag [0 1] \n",
      "\n",
      "_Total_assets_to_GNP_price [0.00000e+00 1.09858e-04 1.12347e-04 ... 8.88000e+09 9.17000e+09\n",
      " 9.82000e+09] \n",
      "\n",
      "_No_credit_Interval [0.40868197 0.53183936 0.53217222 ... 0.73424797 0.84135989 0.95638708] \n",
      "\n",
      "_Degree_of_Financial_Leverage_DFL [0.0128445  0.0186594  0.02039148 ... 0.26457682 0.36718988 0.46438802] \n",
      "\n",
      "_Interest_Coverage_Ratio_Interest_expense_to_EBIT [0.17206501 0.33161261 0.49152696 ... 0.64040199 0.64874872 0.66676131] \n",
      "\n",
      "_Net_Income_Flag [1] \n",
      "\n",
      "_Equity_to_Liability [0.00394628 0.00849978 0.0087528  ... 0.92063815 0.94272904 1.        ] \n",
      "\n",
      "Default [0 1] \n",
      "\n"
     ]
    }
   ],
   "source": [
    "for i in df.columns:\n",
    "    print(i, df[i].sort_values().unique(),'\\n')"
   ]
  },
  {
   "cell_type": "markdown",
   "id": "99646f8a",
   "metadata": {},
   "source": [
    "The dataset is clean and free from any incorrect or noisy values in its columns"
   ]
  },
  {
   "cell_type": "markdown",
   "id": "72e515ee",
   "metadata": {},
   "source": [
    "#### Null Values:"
   ]
  },
  {
   "cell_type": "code",
   "execution_count": 10,
   "id": "2968507d",
   "metadata": {},
   "outputs": [
    {
     "data": {
      "text/plain": [
       "Co_Code                                                0\n",
       "Co_Name                                                0\n",
       "_Operating_Expense_Rate                                0\n",
       "_Research_and_development_expense_rate                 0\n",
       "_Cash_flow_rate                                        0\n",
       "_Interest_bearing_debt_interest_rate                   0\n",
       "_Tax_rate_A                                            0\n",
       "_Cash_Flow_Per_Share                                 167\n",
       "_Per_Share_Net_profit_before_tax_Yuan_                 0\n",
       "_Realized_Sales_Gross_Profit_Growth_Rate               0\n",
       "_Operating_Profit_Growth_Rate                          0\n",
       "_Continuous_Net_Profit_Growth_Rate                     0\n",
       "_Total_Asset_Growth_Rate                               0\n",
       "_Net_Value_Growth_Rate                                 0\n",
       "_Total_Asset_Return_Growth_Rate_Ratio                  0\n",
       "_Cash_Reinvestment_perc                                0\n",
       "_Current_Ratio                                         0\n",
       "_Quick_Ratio                                           0\n",
       "_Interest_Expense_Ratio                                0\n",
       "_Total_debt_to_Total_net_worth                        21\n",
       "_Long_term_fund_suitability_ratio_A                    0\n",
       "_Net_profit_before_tax_to_Paid_in_capital              0\n",
       "_Total_Asset_Turnover                                  0\n",
       "_Accounts_Receivable_Turnover                          0\n",
       "_Average_Collection_Days                               0\n",
       "_Inventory_Turnover_Rate_times                         0\n",
       "_Fixed_Assets_Turnover_Frequency                       0\n",
       "_Net_Worth_Turnover_Rate_times                         0\n",
       "_Operating_profit_per_person                           0\n",
       "_Allocation_rate_per_person                            0\n",
       "_Quick_Assets_to_Total_Assets                          0\n",
       "_Cash_to_Total_Assets                                 96\n",
       "_Quick_Assets_to_Current_Liability                     0\n",
       "_Cash_to_Current_Liability                             0\n",
       "_Operating_Funds_to_Liability                          0\n",
       "_Inventory_to_Working_Capital                          0\n",
       "_Inventory_to_Current_Liability                        0\n",
       "_Long_term_Liability_to_Current_Assets                 0\n",
       "_Retained_Earnings_to_Total_Assets                     0\n",
       "_Total_income_to_Total_expense                         0\n",
       "_Total_expense_to_Assets                               0\n",
       "_Current_Asset_Turnover_Rate                           0\n",
       "_Quick_Asset_Turnover_Rate                             0\n",
       "_Cash_Turnover_Rate                                    0\n",
       "_Fixed_Assets_to_Assets                                0\n",
       "_Cash_Flow_to_Total_Assets                             0\n",
       "_Cash_Flow_to_Liability                                0\n",
       "_CFO_to_Assets                                         0\n",
       "_Cash_Flow_to_Equity                                   0\n",
       "_Current_Liability_to_Current_Assets                  14\n",
       "_Liability_Assets_Flag                                 0\n",
       "_Total_assets_to_GNP_price                             0\n",
       "_No_credit_Interval                                    0\n",
       "_Degree_of_Financial_Leverage_DFL                      0\n",
       "_Interest_Coverage_Ratio_Interest_expense_to_EBIT      0\n",
       "_Net_Income_Flag                                       0\n",
       "_Equity_to_Liability                                   0\n",
       "Default                                                0\n",
       "dtype: int64"
      ]
     },
     "execution_count": 10,
     "metadata": {},
     "output_type": "execute_result"
    }
   ],
   "source": [
    "df.isnull().sum()"
   ]
  },
  {
   "cell_type": "markdown",
   "id": "a4b8ee2a",
   "metadata": {},
   "source": [
    "The dataset contains Null values, which have been effectively addressed through methods like mean, median, and mode imputation."
   ]
  },
  {
   "cell_type": "code",
   "execution_count": 11,
   "id": "d4ea2706",
   "metadata": {},
   "outputs": [],
   "source": [
    "for i in df.columns:\n",
    "    if df[i].dtypes == 'O':\n",
    "        try:\n",
    "            df[i]=df[i].astype(float)\n",
    "            df[i] = df[i].fillna(df[i].mean())\n",
    "        except:\n",
    "            df[i] = df[i].fillna(df[i].mode()[0])\n",
    "            \n",
    "    else:\n",
    "        df[i] = df[i].fillna(df[i].mean())"
   ]
  },
  {
   "cell_type": "code",
   "execution_count": 12,
   "id": "dc03fc9f",
   "metadata": {},
   "outputs": [
    {
     "data": {
      "text/plain": [
       "0"
      ]
     },
     "execution_count": 12,
     "metadata": {},
     "output_type": "execute_result"
    }
   ],
   "source": [
    "df.isnull().sum().sum()"
   ]
  },
  {
   "cell_type": "markdown",
   "id": "0021ea24",
   "metadata": {},
   "source": [
    "The data is all set for meaningful data visualization."
   ]
  },
  {
   "cell_type": "markdown",
   "id": "c068125e",
   "metadata": {},
   "source": [
    "# Data Visualization:"
   ]
  },
  {
   "cell_type": "markdown",
   "id": "c1f0cc7e",
   "metadata": {},
   "source": [
    "### Distribution of  Operating Expense Rate"
   ]
  },
  {
   "cell_type": "code",
   "execution_count": 13,
   "id": "a856c323",
   "metadata": {},
   "outputs": [
    {
     "name": "stderr",
     "output_type": "stream",
     "text": [
      "C:\\Python310\\lib\\site-packages\\seaborn\\distributions.py:2619: FutureWarning: `distplot` is a deprecated function and will be removed in a future version. Please adapt your code to use either `displot` (a figure-level function with similar flexibility) or `histplot` (an axes-level function for histograms).\n",
      "  warnings.warn(msg, FutureWarning)\n"
     ]
    },
    {
     "data": {
      "text/plain": [
       "<AxesSubplot:title={'center':'Distribution of Operating Expense Rate'}, xlabel='_Operating_Expense_Rate', ylabel='Density'>"
      ]
     },
     "execution_count": 13,
     "metadata": {},
     "output_type": "execute_result"
    },
    {
     "data": {
      "image/png": "[encoded data removed]",
      "text/plain": [
       "<Figure size 1080x576 with 1 Axes>"
      ]
     },
     "metadata": {
      "needs_background": "light"
     },
     "output_type": "display_data"
    }
   ],
   "source": [
    "plt.figure(figsize=(15,8))\n",
    "plt.title('Distribution of Operating Expense Rate',color='red',size = 20,pad=20)\n",
    "sns.distplot(df['_Operating_Expense_Rate'],color='blue')"
   ]
  },
  {
   "cell_type": "markdown",
   "id": "25b3e580",
   "metadata": {},
   "source": [
    "The distribution of the Operating Expense Rate column is skewed to the right and follows a normal distribution."
   ]
  },
  {
   "cell_type": "markdown",
   "id": "2ac53487",
   "metadata": {},
   "source": [
    "### Correlation between 'Research and development expense rate' and  'Net Value Growth Rate'"
   ]
  },
  {
   "cell_type": "code",
   "execution_count": 68,
   "id": "66ad6856",
   "metadata": {},
   "outputs": [
    {
     "data": {
      "image/png": "[encoded data removed]",
      "text/plain": [
       "<Figure size 720x576 with 2 Axes>"
      ]
     },
     "metadata": {
      "needs_background": "light"
     },
     "output_type": "display_data"
    }
   ],
   "source": [
    "plt.figure(figsize=(10,8))\n",
    "plt.title(\"Correlation between 'Research and development expense rate' and  'Net Value Growth Rate'\",color='red',size = 15,pad=10)\n",
    "sns.heatmap(df[['_Research_and_development_expense_rate','_Net_Value_Growth_Rate']].corr(),annot=True, cmap=\"inferno\")\n",
    "plt.show()"
   ]
  },
  {
   "cell_type": "markdown",
   "id": "907b813f",
   "metadata": {},
   "source": [
    " Research_and_development_expense_rate is negatively correlated with Net_Value_Growth_Rate."
   ]
  },
  {
   "cell_type": "markdown",
   "id": "ca17efd4",
   "metadata": {},
   "source": [
    "### Distribution of  Cash_Flow_Per_Share"
   ]
  },
  {
   "cell_type": "code",
   "execution_count": 19,
   "id": "ca32514e",
   "metadata": {},
   "outputs": [
    {
     "name": "stderr",
     "output_type": "stream",
     "text": [
      "C:\\Python310\\lib\\site-packages\\seaborn\\_decorators.py:36: FutureWarning: Pass the following variable as a keyword arg: x. From version 0.12, the only valid positional argument will be `data`, and passing other arguments without an explicit keyword will result in an error or misinterpretation.\n",
      "  warnings.warn(\n"
     ]
    },
    {
     "data": {
      "text/plain": [
       "<AxesSubplot:title={'center':'Distribution of Cash Flow Per Share'}, xlabel='_Cash_Flow_Per_Share'>"
      ]
     },
     "execution_count": 19,
     "metadata": {},
     "output_type": "execute_result"
    },
    {
     "data": {
      "image/png": "[encoded data removed]",
      "text/plain": [
       "<Figure size 720x576 with 1 Axes>"
      ]
     },
     "metadata": {
      "needs_background": "light"
     },
     "output_type": "display_data"
    }
   ],
   "source": [
    "plt.figure(figsize=(10,8))\n",
    "plt.title('Distribution of Cash Flow Per Share',color='red',size = 15,pad=10)\n",
    "sns.violinplot(df['_Cash_Flow_Per_Share'],color='green')"
   ]
  },
  {
   "cell_type": "raw",
   "id": "9902feb9",
   "metadata": {},
   "source": [
    "The column Cash_Flow_Per_Sharee is normally distributed."
   ]
  },
  {
   "cell_type": "markdown",
   "id": "3857a96b",
   "metadata": {},
   "source": [
    "### Distribution of Total_Asset_Growth_Rate"
   ]
  },
  {
   "cell_type": "code",
   "execution_count": 26,
   "id": "54abc8a0",
   "metadata": {},
   "outputs": [
    {
     "data": {
      "text/plain": [
       "<AxesSubplot:title={'center':'Distribution of Total Asset Growth Rate'}, xlabel='_Total_Asset_Growth_Rate', ylabel='Count'>"
      ]
     },
     "execution_count": 26,
     "metadata": {},
     "output_type": "execute_result"
    },
    {
     "data": {
      "image/png": "[encoded data removed]",
      "text/plain": [
       "<Figure size 720x576 with 1 Axes>"
      ]
     },
     "metadata": {
      "needs_background": "light"
     },
     "output_type": "display_data"
    }
   ],
   "source": [
    "plt.figure(figsize=(10,8))\n",
    "plt.title('Distribution of Total Asset Growth Rate',color='red',size = 15,pad=10)\n",
    "sns.histplot(df['_Total_Asset_Growth_Rate'],kde = True, color= 'purple')"
   ]
  },
  {
   "cell_type": "markdown",
   "id": "bf1de788",
   "metadata": {},
   "source": [
    "The distribution of the Total_Asset_Growth_Rate column is skewed to the left and follows a normal distribution."
   ]
  },
  {
   "cell_type": "markdown",
   "id": "0eae870e",
   "metadata": {},
   "source": [
    "### Outliers present in all the Numerical Columns:"
   ]
  },
  {
   "cell_type": "code",
   "execution_count": 28,
   "id": "b4ecf6fb",
   "metadata": {},
   "outputs": [
    {
     "data": {
      "text/plain": [
       "['Co_Code',\n",
       " '_Operating_Expense_Rate',\n",
       " '_Research_and_development_expense_rate',\n",
       " '_Cash_flow_rate',\n",
       " '_Interest_bearing_debt_interest_rate',\n",
       " '_Tax_rate_A',\n",
       " '_Cash_Flow_Per_Share',\n",
       " '_Per_Share_Net_profit_before_tax_Yuan_',\n",
       " '_Realized_Sales_Gross_Profit_Growth_Rate',\n",
       " '_Operating_Profit_Growth_Rate',\n",
       " '_Continuous_Net_Profit_Growth_Rate',\n",
       " '_Total_Asset_Growth_Rate',\n",
       " '_Net_Value_Growth_Rate',\n",
       " '_Total_Asset_Return_Growth_Rate_Ratio',\n",
       " '_Cash_Reinvestment_perc',\n",
       " '_Current_Ratio',\n",
       " '_Quick_Ratio',\n",
       " '_Interest_Expense_Ratio',\n",
       " '_Total_debt_to_Total_net_worth',\n",
       " '_Long_term_fund_suitability_ratio_A',\n",
       " '_Net_profit_before_tax_to_Paid_in_capital',\n",
       " '_Total_Asset_Turnover',\n",
       " '_Accounts_Receivable_Turnover',\n",
       " '_Average_Collection_Days',\n",
       " '_Inventory_Turnover_Rate_times',\n",
       " '_Fixed_Assets_Turnover_Frequency',\n",
       " '_Net_Worth_Turnover_Rate_times',\n",
       " '_Operating_profit_per_person',\n",
       " '_Allocation_rate_per_person',\n",
       " '_Quick_Assets_to_Total_Assets',\n",
       " '_Cash_to_Total_Assets',\n",
       " '_Quick_Assets_to_Current_Liability',\n",
       " '_Cash_to_Current_Liability',\n",
       " '_Operating_Funds_to_Liability',\n",
       " '_Inventory_to_Working_Capital',\n",
       " '_Inventory_to_Current_Liability',\n",
       " '_Long_term_Liability_to_Current_Assets',\n",
       " '_Retained_Earnings_to_Total_Assets',\n",
       " '_Total_income_to_Total_expense',\n",
       " '_Total_expense_to_Assets',\n",
       " '_Current_Asset_Turnover_Rate',\n",
       " '_Quick_Asset_Turnover_Rate',\n",
       " '_Cash_Turnover_Rate',\n",
       " '_Fixed_Assets_to_Assets',\n",
       " '_Cash_Flow_to_Total_Assets',\n",
       " '_Cash_Flow_to_Liability',\n",
       " '_CFO_to_Assets',\n",
       " '_Cash_Flow_to_Equity',\n",
       " '_Current_Liability_to_Current_Assets',\n",
       " '_Liability_Assets_Flag',\n",
       " '_Total_assets_to_GNP_price',\n",
       " '_No_credit_Interval',\n",
       " '_Degree_of_Financial_Leverage_DFL',\n",
       " '_Interest_Coverage_Ratio_Interest_expense_to_EBIT',\n",
       " '_Net_Income_Flag',\n",
       " '_Equity_to_Liability',\n",
       " 'Default']"
      ]
     },
     "execution_count": 28,
     "metadata": {},
     "output_type": "execute_result"
    }
   ],
   "source": [
    "num = df.select_dtypes(exclude='object').columns.to_list()\n",
    "num"
   ]
  },
  {
   "cell_type": "code",
   "execution_count": 31,
   "id": "05a99934",
   "metadata": {
    "scrolled": true
   },
   "outputs": [
    {
     "data": {
      "image/png": "[encoded data removed]",
      "text/plain": [
       "<Figure size 432x288 with 1 Axes>"
      ]
     },
     "metadata": {
      "needs_background": "light"
     },
     "output_type": "display_data"
    },
    {
     "data": {
      "image/png": "[encoded data removed]",
      "text/plain": [
       "<Figure size 432x288 with 1 Axes>"
      ]
     },
     "metadata": {
      "needs_background": "light"
     },
     "output_type": "display_data"
    },
    {
     "data": {
      "image/png": "[encoded data removed]",
      "text/plain": [
       "<Figure size 432x288 with 1 Axes>"
      ]
     },
     "metadata": {
      "needs_background": "light"
     },
     "output_type": "display_data"
    },
    {
     "data": {
      "image/png": "[encoded data removed]",
      "text/plain": [
       "<Figure size 432x288 with 1 Axes>"
      ]
     },
     "metadata": {
      "needs_background": "light"
     },
     "output_type": "display_data"
    },
    {
     "data": {
      "image/png": "[encoded data removed]",
      "text/plain": [
       "<Figure size 432x288 with 1 Axes>"
      ]
     },
     "metadata": {
      "needs_background": "light"
     },
     "output_type": "display_data"
    },
    {
     "data": {
      "image/png": "[encoded data removed]",
      "text/plain": [
       "<Figure size 432x288 with 1 Axes>"
      ]
     },
     "metadata": {
      "needs_background": "light"
     },
     "output_type": "display_data"
    },
    {
     "data": {
      "image/png": "[encoded data removed]",
      "text/plain": [
       "<Figure size 432x288 with 1 Axes>"
      ]
     },
     "metadata": {
      "needs_background": "light"
     },
     "output_type": "display_data"
    },
    {
     "data": {
      "image/png": "[encoded data removed]",
      "text/plain": [
       "<Figure size 432x288 with 1 Axes>"
      ]
     },
     "metadata": {
      "needs_background": "light"
     },
     "output_type": "display_data"
    },
    {
     "data": {
      "image/png": "[encoded data removed]",
      "text/plain": [
       "<Figure size 432x288 with 1 Axes>"
      ]
     },
     "metadata": {
      "needs_background": "light"
     },
     "output_type": "display_data"
    },
    {
     "data": {
      "image/png": "[encoded data removed]",
      "text/plain": [
       "<Figure size 432x288 with 1 Axes>"
      ]
     },
     "metadata": {
      "needs_background": "light"
     },
     "output_type": "display_data"
    },
    {
     "data": {
      "image/png": "[encoded data removed]",
      "text/plain": [
       "<Figure size 432x288 with 1 Axes>"
      ]
     },
     "metadata": {
      "needs_background": "light"
     },
     "output_type": "display_data"
    },
    {
     "data": {
      "image/png": "[encoded data removed]",
      "text/plain": [
       "<Figure size 432x288 with 1 Axes>"
      ]
     },
     "metadata": {
      "needs_background": "light"
     },
     "output_type": "display_data"
    },
    {
     "data": {
      "image/png": "[encoded data removed]",
      "text/plain": [
       "<Figure size 432x288 with 1 Axes>"
      ]
     },
     "metadata": {
      "needs_background": "light"
     },
     "output_type": "display_data"
    },
    {
     "data": {
      "image/png": "[encoded data removed]",
      "text/plain": [
       "<Figure size 432x288 with 1 Axes>"
      ]
     },
     "metadata": {
      "needs_background": "light"
     },
     "output_type": "display_data"
    },
    {
     "data": {
      "image/png": "[encoded data removed]",
      "text/plain": [
       "<Figure size 432x288 with 1 Axes>"
      ]
     },
     "metadata": {
      "needs_background": "light"
     },
     "output_type": "display_data"
    },
    {
     "data": {
      "image/png": "[encoded data removed]",
      "text/plain": [
       "<Figure size 432x288 with 1 Axes>"
      ]
     },
     "metadata": {
      "needs_background": "light"
     },
     "output_type": "display_data"
    },
    {
     "data": {
      "image/png": "[encoded data removed]",
      "text/plain": [
       "<Figure size 432x288 with 1 Axes>"
      ]
     },
     "metadata": {
      "needs_background": "light"
     },
     "output_type": "display_data"
    },
    {
     "data": {
      "image/png": "[encoded data removed]",
      "text/plain": [
       "<Figure size 432x288 with 1 Axes>"
      ]
     },
     "metadata": {
      "needs_background": "light"
     },
     "output_type": "display_data"
    },
    {
     "data": {
      "image/png": "[encoded data removed]",
      "text/plain": [
       "<Figure size 432x288 with 1 Axes>"
      ]
     },
     "metadata": {
      "needs_background": "light"
     },
     "output_type": "display_data"
    },
    {
     "data": {
      "image/png": "[encoded data removed]",
      "text/plain": [
       "<Figure size 432x288 with 1 Axes>"
      ]
     },
     "metadata": {
      "needs_background": "light"
     },
     "output_type": "display_data"
    },
    {
     "data": {
      "image/png": "[encoded data removed]",
      "text/plain": [
       "<Figure size 432x288 with 1 Axes>"
      ]
     },
     "metadata": {
      "needs_background": "light"
     },
     "output_type": "display_data"
    },
    {
     "data": {
      "image/png": "[encoded data removed]",
      "text/plain": [
       "<Figure size 432x288 with 1 Axes>"
      ]
     },
     "metadata": {
      "needs_background": "light"
     },
     "output_type": "display_data"
    },
    {
     "data": {
      "image/png": "[encoded data removed]",
      "text/plain": [
       "<Figure size 432x288 with 1 Axes>"
      ]
     },
     "metadata": {
      "needs_background": "light"
     },
     "output_type": "display_data"
    },
    {
     "data": {
      "image/png": "[encoded data removed]",
      "text/plain": [
       "<Figure size 432x288 with 1 Axes>"
      ]
     },
     "metadata": {
      "needs_background": "light"
     },
     "output_type": "display_data"
    },
    {
     "data": {
      "image/png": "[encoded data removed]",
      "text/plain": [
       "<Figure size 432x288 with 1 Axes>"
      ]
     },
     "metadata": {
      "needs_background": "light"
     },
     "output_type": "display_data"
    },
    {
     "data": {
      "image/png": "[encoded data removed]",
      "text/plain": [
       "<Figure size 432x288 with 1 Axes>"
      ]
     },
     "metadata": {
      "needs_background": "light"
     },
     "output_type": "display_data"
    },
    {
     "data": {
      "image/png": "[encoded data removed]",
      "text/plain": [
       "<Figure size 432x288 with 1 Axes>"
      ]
     },
     "metadata": {
      "needs_background": "light"
     },
     "output_type": "display_data"
    },
    {
     "data": {
      "image/png": "[encoded data removed]",
      "text/plain": [
       "<Figure size 432x288 with 1 Axes>"
      ]
     },
     "metadata": {
      "needs_background": "light"
     },
     "output_type": "display_data"
    },
    {
     "data": {
      "image/png": "[encoded data removed]",
      "text/plain": [
       "<Figure size 432x288 with 1 Axes>"
      ]
     },
     "metadata": {
      "needs_background": "light"
     },
     "output_type": "display_data"
    },
    {
     "data": {
      "image/png": "[encoded data removed]",
      "text/plain": [
       "<Figure size 432x288 with 1 Axes>"
      ]
     },
     "metadata": {
      "needs_background": "light"
     },
     "output_type": "display_data"
    },
    {
     "data": {
      "image/png": "[encoded data removed]",
      "text/plain": [
       "<Figure size 432x288 with 1 Axes>"
      ]
     },
     "metadata": {
      "needs_background": "light"
     },
     "output_type": "display_data"
    },
    {
     "data": {
      "image/png": "[encoded data removed]",
      "text/plain": [
       "<Figure size 432x288 with 1 Axes>"
      ]
     },
     "metadata": {
      "needs_background": "light"
     },
     "output_type": "display_data"
    },
    {
     "data": {
      "image/png": "[encoded data removed]",
      "text/plain": [
       "<Figure size 432x288 with 1 Axes>"
      ]
     },
     "metadata": {
      "needs_background": "light"
     },
     "output_type": "display_data"
    },
    {
     "data": {
      "image/png": "[encoded data removed]",
      "text/plain": [
       "<Figure size 432x288 with 1 Axes>"
      ]
     },
     "metadata": {
      "needs_background": "light"
     },
     "output_type": "display_data"
    },
    {
     "data": {
      "image/png": "[encoded data removed]",
      "text/plain": [
       "<Figure size 432x288 with 1 Axes>"
      ]
     },
     "metadata": {
      "needs_background": "light"
     },
     "output_type": "display_data"
    },
    {
     "data": {
      "image/png": "[encoded data removed]",
      "text/plain": [
       "<Figure size 432x288 with 1 Axes>"
      ]
     },
     "metadata": {
      "needs_background": "light"
     },
     "output_type": "display_data"
    },
    {
     "data": {
      "image/png": "[encoded data removed]",
      "text/plain": [
       "<Figure size 432x288 with 1 Axes>"
      ]
     },
     "metadata": {
      "needs_background": "light"
     },
     "output_type": "display_data"
    },
    {
     "data": {
      "image/png": "[encoded data removed]",
      "text/plain": [
       "<Figure size 432x288 with 1 Axes>"
      ]
     },
     "metadata": {
      "needs_background": "light"
     },
     "output_type": "display_data"
    },
    {
     "data": {
      "image/png": "[encoded data removed]",
      "text/plain": [
       "<Figure size 432x288 with 1 Axes>"
      ]
     },
     "metadata": {
      "needs_background": "light"
     },
     "output_type": "display_data"
    },
    {
     "data": {
      "image/png": "[encoded data removed]",
      "text/plain": [
       "<Figure size 432x288 with 1 Axes>"
      ]
     },
     "metadata": {
      "needs_background": "light"
     },
     "output_type": "display_data"
    },
    {
     "data": {
      "image/png": "[encoded data removed]",
      "text/plain": [
       "<Figure size 432x288 with 1 Axes>"
      ]
     },
     "metadata": {
      "needs_background": "light"
     },
     "output_type": "display_data"
    },
    {
     "data": {
      "image/png": "[encoded data removed]",
      "text/plain": [
       "<Figure size 432x288 with 1 Axes>"
      ]
     },
     "metadata": {
      "needs_background": "light"
     },
     "output_type": "display_data"
    },
    {
     "data": {
      "image/png": "[encoded data removed]",
      "text/plain": [
       "<Figure size 432x288 with 1 Axes>"
      ]
     },
     "metadata": {
      "needs_background": "light"
     },
     "output_type": "display_data"
    },
    {
     "data": {
      "image/png": "[encoded data removed]",
      "text/plain": [
       "<Figure size 432x288 with 1 Axes>"
      ]
     },
     "metadata": {
      "needs_background": "light"
     },
     "output_type": "display_data"
    },
    {
     "data": {
      "image/png": "[encoded data removed]",
      "text/plain": [
       "<Figure size 432x288 with 1 Axes>"
      ]
     },
     "metadata": {
      "needs_background": "light"
     },
     "output_type": "display_data"
    },
    {
     "data": {
      "image/png": "[encoded data removed]",
      "text/plain": [
       "<Figure size 432x288 with 1 Axes>"
      ]
     },
     "metadata": {
      "needs_background": "light"
     },
     "output_type": "display_data"
    },
    {
     "data": {
      "image/png": "[encoded data removed]",
      "text/plain": [
       "<Figure size 432x288 with 1 Axes>"
      ]
     },
     "metadata": {
      "needs_background": "light"
     },
     "output_type": "display_data"
    },
    {
     "data": {
      "image/png": "[encoded data removed]",
      "text/plain": [
       "<Figure size 432x288 with 1 Axes>"
      ]
     },
     "metadata": {
      "needs_background": "light"
     },
     "output_type": "display_data"
    },
    {
     "data": {
      "image/png": "[encoded data removed]",
      "text/plain": [
       "<Figure size 432x288 with 1 Axes>"
      ]
     },
     "metadata": {
      "needs_background": "light"
     },
     "output_type": "display_data"
    },
    {
     "data": {
      "image/png": "[encoded data removed]",
      "text/plain": [
       "<Figure size 432x288 with 1 Axes>"
      ]
     },
     "metadata": {
      "needs_background": "light"
     },
     "output_type": "display_data"
    },
    {
     "data": {
      "image/png": "[encoded data removed]",
      "text/plain": [
       "<Figure size 432x288 with 1 Axes>"
      ]
     },
     "metadata": {
      "needs_background": "light"
     },
     "output_type": "display_data"
    },
    {
     "data": {
      "image/png": "[encoded data removed]",
      "text/plain": [
       "<Figure size 432x288 with 1 Axes>"
      ]
     },
     "metadata": {
      "needs_background": "light"
     },
     "output_type": "display_data"
    },
    {
     "data": {
      "image/png": "[encoded data removed]",
      "text/plain": [
       "<Figure size 432x288 with 1 Axes>"
      ]
     },
     "metadata": {
      "needs_background": "light"
     },
     "output_type": "display_data"
    },
    {
     "data": {
      "image/png": "[encoded data removed]",
      "text/plain": [
       "<Figure size 432x288 with 1 Axes>"
      ]
     },
     "metadata": {
      "needs_background": "light"
     },
     "output_type": "display_data"
    },
    {
     "data": {
      "image/png": "[encoded data removed]",
      "text/plain": [
       "<Figure size 432x288 with 1 Axes>"
      ]
     },
     "metadata": {
      "needs_background": "light"
     },
     "output_type": "display_data"
    },
    {
     "data": {
      "image/png": "[encoded data removed]",
      "text/plain": [
       "<Figure size 432x288 with 1 Axes>"
      ]
     },
     "metadata": {
      "needs_background": "light"
     },
     "output_type": "display_data"
    },
    {
     "data": {
      "image/png": "[encoded data removed]",
      "text/plain": [
       "<Figure size 432x288 with 1 Axes>"
      ]
     },
     "metadata": {
      "needs_background": "light"
     },
     "output_type": "display_data"
    }
   ],
   "source": [
    "for i in df[num]:\n",
    "    plt.figure()\n",
    "    sns.boxplot(y=i ,data = df)\n",
    "    plt.show()"
   ]
  },
  {
   "cell_type": "markdown",
   "id": "6e46d63c",
   "metadata": {},
   "source": [
    "There are Outliers present in the dataset."
   ]
  },
  {
   "cell_type": "markdown",
   "id": "4bdd0550",
   "metadata": {},
   "source": [
    "# Proportion of companies with \"_Liability_Assets_Flag\""
   ]
  },
  {
   "cell_type": "code",
   "execution_count": 44,
   "id": "ce573058",
   "metadata": {},
   "outputs": [
    {
     "data": {
      "text/html": [
       "<div>\n",
       "<style scoped>\n",
       "    .dataframe tbody tr th:only-of-type {\n",
       "        vertical-align: middle;\n",
       "    }\n",
       "\n",
       "    .dataframe tbody tr th {\n",
       "        vertical-align: top;\n",
       "    }\n",
       "\n",
       "    .dataframe thead th {\n",
       "        text-align: right;\n",
       "    }\n",
       "</style>\n",
       "<table border=\"1\" class=\"dataframe\">\n",
       "  <thead>\n",
       "    <tr style=\"text-align: right;\">\n",
       "      <th></th>\n",
       "      <th>_Liability_Assets_Flag</th>\n",
       "      <th>Co_Name</th>\n",
       "    </tr>\n",
       "  </thead>\n",
       "  <tbody>\n",
       "    <tr>\n",
       "      <th>0</th>\n",
       "      <td>0</td>\n",
       "      <td>2051</td>\n",
       "    </tr>\n",
       "    <tr>\n",
       "      <th>1</th>\n",
       "      <td>1</td>\n",
       "      <td>7</td>\n",
       "    </tr>\n",
       "  </tbody>\n",
       "</table>\n",
       "</div>"
      ],
      "text/plain": [
       "   _Liability_Assets_Flag  Co_Name\n",
       "0                       0     2051\n",
       "1                       1        7"
      ]
     },
     "execution_count": 44,
     "metadata": {},
     "output_type": "execute_result"
    }
   ],
   "source": [
    "a = df.groupby('_Liability_Assets_Flag')['Co_Name'].count().sort_values(ascending=False).to_frame().reset_index()\n",
    "a"
   ]
  },
  {
   "cell_type": "code",
   "execution_count": 79,
   "id": "c7a6405d",
   "metadata": {},
   "outputs": [
    {
     "name": "stderr",
     "output_type": "stream",
     "text": [
      "C:\\Python310\\lib\\site-packages\\seaborn\\_decorators.py:36: FutureWarning: Pass the following variables as keyword args: x, y. From version 0.12, the only valid positional argument will be `data`, and passing other arguments without an explicit keyword will result in an error or misinterpretation.\n",
      "  warnings.warn(\n"
     ]
    },
    {
     "data": {
      "text/plain": [
       "<AxesSubplot:title={'center':'Proportion of companies with \"Liability_Assets_Flag\"'}, xlabel='_Liability_Assets_Flag', ylabel='Co_Name'>"
      ]
     },
     "execution_count": 79,
     "metadata": {},
     "output_type": "execute_result"
    },
    {
     "data": {
      "image/png": "[encoded data removed]",
      "text/plain": [
       "<Figure size 720x576 with 1 Axes>"
      ]
     },
     "metadata": {
      "needs_background": "light"
     },
     "output_type": "display_data"
    }
   ],
   "source": [
    "plt.figure(figsize=(10,8))\n",
    "plt.title('Proportion of companies with \"Liability_Assets_Flag\"',color='red',size = 15,pad=10)\n",
    "sns.barplot(a['_Liability_Assets_Flag'], a['Co_Name'], palette='YlOrBr')"
   ]
  },
  {
   "cell_type": "markdown",
   "id": "4640278e",
   "metadata": {},
   "source": [
    "Only 7 out of 2051 companies have the Liability_Assets_Flag set to 1, representing a very small proportion"
   ]
  },
  {
   "cell_type": "markdown",
   "id": "c4bb183e",
   "metadata": {},
   "source": [
    "### Relation between Total_expense_to_Assets and Total_income_to_Total_expense"
   ]
  },
  {
   "cell_type": "code",
   "execution_count": 57,
   "id": "704a0591",
   "metadata": {},
   "outputs": [
    {
     "data": {
      "text/plain": [
       "-0.20676003513203822"
      ]
     },
     "execution_count": 57,
     "metadata": {},
     "output_type": "execute_result"
    }
   ],
   "source": [
    "df['_Total_expense_to_Assets'].corr(df['_Total_income_to_Total_expense'])"
   ]
  },
  {
   "cell_type": "code",
   "execution_count": 56,
   "id": "d439c842",
   "metadata": {},
   "outputs": [
    {
     "data": {
      "text/plain": [
       "<AxesSubplot:title={'center':'Relation between Total_expense_to_Assets and Total_income_to_Total_expense'}, xlabel='_Total_expense_to_Assets', ylabel='_Total_income_to_Total_expense'>"
      ]
     },
     "execution_count": 56,
     "metadata": {},
     "output_type": "execute_result"
    },
    {
     "data": {
      "image/png": "[encoded data removed]",
      "text/plain": [
       "<Figure size 720x576 with 1 Axes>"
      ]
     },
     "metadata": {
      "needs_background": "light"
     },
     "output_type": "display_data"
    }
   ],
   "source": [
    "plt.figure(figsize=(10,8))\n",
    "plt.title('Relation between Total_expense_to_Assets and Total_income_to_Total_expense',color='red',size = 15,pad=10)\n",
    "sns.scatterplot(x=df['_Total_expense_to_Assets'],y=df['_Total_income_to_Total_expense'],color='purple')"
   ]
  },
  {
   "cell_type": "markdown",
   "id": "5d56bffe",
   "metadata": {},
   "source": [
    "There is negative correlation relation between Total_expense_to_Assets and Total_income_to_Total_expense."
   ]
  },
  {
   "cell_type": "markdown",
   "id": "11b5990b",
   "metadata": {},
   "source": [
    "# Default Status of companies"
   ]
  },
  {
   "cell_type": "code",
   "execution_count": 58,
   "id": "51cad254",
   "metadata": {},
   "outputs": [
    {
     "data": {
      "text/html": [
       "<div>\n",
       "<style scoped>\n",
       "    .dataframe tbody tr th:only-of-type {\n",
       "        vertical-align: middle;\n",
       "    }\n",
       "\n",
       "    .dataframe tbody tr th {\n",
       "        vertical-align: top;\n",
       "    }\n",
       "\n",
       "    .dataframe thead th {\n",
       "        text-align: right;\n",
       "    }\n",
       "</style>\n",
       "<table border=\"1\" class=\"dataframe\">\n",
       "  <thead>\n",
       "    <tr style=\"text-align: right;\">\n",
       "      <th></th>\n",
       "      <th>Co_Code</th>\n",
       "      <th>Co_Name</th>\n",
       "      <th>_Operating_Expense_Rate</th>\n",
       "      <th>_Research_and_development_expense_rate</th>\n",
       "      <th>_Cash_flow_rate</th>\n",
       "      <th>_Interest_bearing_debt_interest_rate</th>\n",
       "      <th>_Tax_rate_A</th>\n",
       "      <th>_Cash_Flow_Per_Share</th>\n",
       "      <th>_Per_Share_Net_profit_before_tax_Yuan_</th>\n",
       "      <th>_Realized_Sales_Gross_Profit_Growth_Rate</th>\n",
       "      <th>...</th>\n",
       "      <th>_Cash_Flow_to_Equity</th>\n",
       "      <th>_Current_Liability_to_Current_Assets</th>\n",
       "      <th>_Liability_Assets_Flag</th>\n",
       "      <th>_Total_assets_to_GNP_price</th>\n",
       "      <th>_No_credit_Interval</th>\n",
       "      <th>_Degree_of_Financial_Leverage_DFL</th>\n",
       "      <th>_Interest_Coverage_Ratio_Interest_expense_to_EBIT</th>\n",
       "      <th>_Net_Income_Flag</th>\n",
       "      <th>_Equity_to_Liability</th>\n",
       "      <th>Default</th>\n",
       "    </tr>\n",
       "  </thead>\n",
       "  <tbody>\n",
       "    <tr>\n",
       "      <th>0</th>\n",
       "      <td>16974</td>\n",
       "      <td>Hind.Cables</td>\n",
       "      <td>8.820000e+09</td>\n",
       "      <td>0.0</td>\n",
       "      <td>0.462045</td>\n",
       "      <td>0.000352</td>\n",
       "      <td>0.001417</td>\n",
       "      <td>0.322558</td>\n",
       "      <td>0.194472</td>\n",
       "      <td>0.022074</td>\n",
       "      <td>...</td>\n",
       "      <td>0.310901</td>\n",
       "      <td>0.034913</td>\n",
       "      <td>0</td>\n",
       "      <td>0.028801</td>\n",
       "      <td>0.620927</td>\n",
       "      <td>0.02693</td>\n",
       "      <td>0.565744</td>\n",
       "      <td>1</td>\n",
       "      <td>0.015338</td>\n",
       "      <td>0</td>\n",
       "    </tr>\n",
       "  </tbody>\n",
       "</table>\n",
       "<p>1 rows × 58 columns</p>\n",
       "</div>"
      ],
      "text/plain": [
       "   Co_Code      Co_Name  _Operating_Expense_Rate  \\\n",
       "0    16974  Hind.Cables             8.820000e+09   \n",
       "\n",
       "   _Research_and_development_expense_rate  _Cash_flow_rate  \\\n",
       "0                                     0.0         0.462045   \n",
       "\n",
       "   _Interest_bearing_debt_interest_rate  _Tax_rate_A  _Cash_Flow_Per_Share  \\\n",
       "0                              0.000352     0.001417              0.322558   \n",
       "\n",
       "   _Per_Share_Net_profit_before_tax_Yuan_  \\\n",
       "0                                0.194472   \n",
       "\n",
       "   _Realized_Sales_Gross_Profit_Growth_Rate  ...  _Cash_Flow_to_Equity  \\\n",
       "0                                  0.022074  ...              0.310901   \n",
       "\n",
       "   _Current_Liability_to_Current_Assets  _Liability_Assets_Flag  \\\n",
       "0                              0.034913                       0   \n",
       "\n",
       "   _Total_assets_to_GNP_price  _No_credit_Interval  \\\n",
       "0                    0.028801             0.620927   \n",
       "\n",
       "   _Degree_of_Financial_Leverage_DFL  \\\n",
       "0                            0.02693   \n",
       "\n",
       "   _Interest_Coverage_Ratio_Interest_expense_to_EBIT  _Net_Income_Flag  \\\n",
       "0                                           0.565744                 1   \n",
       "\n",
       "   _Equity_to_Liability  Default  \n",
       "0              0.015338        0  \n",
       "\n",
       "[1 rows x 58 columns]"
      ]
     },
     "execution_count": 58,
     "metadata": {},
     "output_type": "execute_result"
    }
   ],
   "source": [
    "df.head(1)"
   ]
  },
  {
   "cell_type": "code",
   "execution_count": 59,
   "id": "4a89fbbb",
   "metadata": {},
   "outputs": [
    {
     "data": {
      "text/html": [
       "<div>\n",
       "<style scoped>\n",
       "    .dataframe tbody tr th:only-of-type {\n",
       "        vertical-align: middle;\n",
       "    }\n",
       "\n",
       "    .dataframe tbody tr th {\n",
       "        vertical-align: top;\n",
       "    }\n",
       "\n",
       "    .dataframe thead th {\n",
       "        text-align: right;\n",
       "    }\n",
       "</style>\n",
       "<table border=\"1\" class=\"dataframe\">\n",
       "  <thead>\n",
       "    <tr style=\"text-align: right;\">\n",
       "      <th></th>\n",
       "      <th>Default</th>\n",
       "      <th>Co_Name</th>\n",
       "    </tr>\n",
       "  </thead>\n",
       "  <tbody>\n",
       "    <tr>\n",
       "      <th>0</th>\n",
       "      <td>0</td>\n",
       "      <td>1838</td>\n",
       "    </tr>\n",
       "    <tr>\n",
       "      <th>1</th>\n",
       "      <td>1</td>\n",
       "      <td>220</td>\n",
       "    </tr>\n",
       "  </tbody>\n",
       "</table>\n",
       "</div>"
      ],
      "text/plain": [
       "   Default  Co_Name\n",
       "0        0     1838\n",
       "1        1      220"
      ]
     },
     "execution_count": 59,
     "metadata": {},
     "output_type": "execute_result"
    }
   ],
   "source": [
    "b = df.groupby('Default')['Co_Name'].count().sort_values(ascending=False).to_frame().reset_index()\n",
    "b"
   ]
  },
  {
   "cell_type": "code",
   "execution_count": 62,
   "id": "3a39a034",
   "metadata": {},
   "outputs": [
    {
     "name": "stderr",
     "output_type": "stream",
     "text": [
      "C:\\Python310\\lib\\site-packages\\seaborn\\_decorators.py:36: FutureWarning: Pass the following variables as keyword args: x, y. From version 0.12, the only valid positional argument will be `data`, and passing other arguments without an explicit keyword will result in an error or misinterpretation.\n",
      "  warnings.warn(\n"
     ]
    },
    {
     "data": {
      "text/plain": [
       "<AxesSubplot:title={'center':'Default Status of companies'}, xlabel='Default', ylabel='Co_Name'>"
      ]
     },
     "execution_count": 62,
     "metadata": {},
     "output_type": "execute_result"
    },
    {
     "data": {
      "image/png": "[encoded data removed]",
      "text/plain": [
       "<Figure size 720x576 with 1 Axes>"
      ]
     },
     "metadata": {
      "needs_background": "light"
     },
     "output_type": "display_data"
    }
   ],
   "source": [
    "plt.figure(figsize=(10,8))\n",
    "plt.title('Default Status of companies',color='red',size = 15,pad=10)\n",
    "sns.barplot(b['Default'], b['Co_Name'], palette='RdGy')"
   ]
  },
  {
   "cell_type": "markdown",
   "id": "2a480b5d",
   "metadata": {},
   "source": [
    "Out of a total of 2058 companies, 220 are marked as 'Default,' while 1838 remain non-default"
   ]
  },
  {
   "cell_type": "code",
   "execution_count": null,
   "id": "e87e53b5",
   "metadata": {},
   "outputs": [],
   "source": []
  }
 ],
 "metadata": {
  "kernelspec": {
   "display_name": "Python 3 (ipykernel)",
   "language": "python",
   "name": "python3"
  },
  "language_info": {
   "codemirror_mode": {
    "name": "ipython",
    "version": 3
   },
   "file_extension": ".py",
   "mimetype": "text/x-python",
   "name": "python",
   "nbconvert_exporter": "python",
   "pygments_lexer": "ipython3",
   "version": "3.10.1"
  }
 },
 "nbformat": 4,
 "nbformat_minor": 5
}
